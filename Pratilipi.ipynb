{
  "cells": [
    {
      "cell_type": "code",
      "execution_count": 8,
      "metadata": {
        "_cell_guid": "b1076dfc-b9ad-4769-8c92-a6c4dae69d19",
        "_uuid": "8f2839f25d086af736a60e9eeb907d3b93b6e0e5",
        "execution": {
          "iopub.execute_input": "2022-04-03T11:49:37.612288Z",
          "iopub.status.busy": "2022-04-03T11:49:37.612031Z",
          "iopub.status.idle": "2022-04-03T11:49:37.621912Z",
          "shell.execute_reply": "2022-04-03T11:49:37.621003Z",
          "shell.execute_reply.started": "2022-04-03T11:49:37.612261Z"
        },
        "id": "E0S0QyQEvF5w"
      },
      "outputs": [],
      "source": [
        "import numpy as np \n",
        "import pandas as pd \n",
        "import matplotlib.pyplot as plt\n",
        "import seaborn as sns\n",
        "from sklearn.feature_extraction.text import TfidfVectorizer\n",
        "%matplotlib inline"
      ]
    },
    {
      "cell_type": "code",
      "execution_count": 7,
      "metadata": {
        "execution": {
          "iopub.execute_input": "2022-04-03T11:49:37.649364Z",
          "iopub.status.busy": "2022-04-03T11:49:37.649120Z",
          "iopub.status.idle": "2022-04-03T11:49:39.134252Z",
          "shell.execute_reply": "2022-04-03T11:49:39.133395Z",
          "shell.execute_reply.started": "2022-04-03T11:49:37.649339Z"
        },
        "id": "wwExwMDHvF56"
      },
      "outputs": [],
      "source": [
        "user= pd.read_csv(\"/content/drive/MyDrive/ds assignment/user-interactions.csv\")"
      ]
    },
    {
      "cell_type": "code",
      "execution_count": 9,
      "metadata": {
        "execution": {
          "iopub.execute_input": "2022-04-03T11:49:39.135968Z",
          "iopub.status.busy": "2022-04-03T11:49:39.135722Z",
          "iopub.status.idle": "2022-04-03T11:49:40.869116Z",
          "shell.execute_reply": "2022-04-03T11:49:40.868402Z",
          "shell.execute_reply.started": "2022-04-03T11:49:39.135938Z"
        },
        "id": "7qEnZzY7vF57"
      },
      "outputs": [],
      "source": [
        "meta = pd.read_csv(\"/content/drive/MyDrive/ds assignment/metadata.csv\")"
      ]
    },
    {
      "cell_type": "code",
      "execution_count": 10,
      "metadata": {
        "execution": {
          "iopub.execute_input": "2022-04-03T11:49:40.870776Z",
          "iopub.status.busy": "2022-04-03T11:49:40.870247Z",
          "iopub.status.idle": "2022-04-03T11:49:40.883650Z",
          "shell.execute_reply": "2022-04-03T11:49:40.882861Z",
          "shell.execute_reply.started": "2022-04-03T11:49:40.870741Z"
        },
        "id": "A7iSt7KlvF59",
        "outputId": "79911f2d-039b-4b66-9456-2f9339907362",
        "colab": {
          "base_uri": "https://localhost:8080/",
          "height": 206
        }
      },
      "outputs": [
        {
          "output_type": "execute_result",
          "data": {
            "text/plain": [
              "          author_id      pratilipi_id category_name  reading_time  \\\n",
              "0 -3418949279741297  1025741862639304   translation             0   \n",
              "1 -2270332351871840  1377786215601277   translation           171   \n",
              "2 -2270332352037261  1377786215601962   translation            92   \n",
              "3 -2270332352521845  1377786215640994   translation             0   \n",
              "4 -2270332349665658  1377786215931338   translation            47   \n",
              "\n",
              "            updated_at         published_at  \n",
              "0  2020-08-19 15:26:13  2016-09-30 10:37:04  \n",
              "1  2021-01-21 16:27:07  2018-06-11 13:17:48  \n",
              "2  2020-09-29 12:33:57  2018-06-12 04:19:12  \n",
              "3  2019-10-17 09:03:37  2019-09-26 14:58:53  \n",
              "4  2020-05-05 11:33:41  2018-11-25 12:28:23  "
            ],
            "text/html": [
              "\n",
              "  <div id=\"df-4f9b917b-4182-4867-b7b7-6e53b5242073\">\n",
              "    <div class=\"colab-df-container\">\n",
              "      <div>\n",
              "<style scoped>\n",
              "    .dataframe tbody tr th:only-of-type {\n",
              "        vertical-align: middle;\n",
              "    }\n",
              "\n",
              "    .dataframe tbody tr th {\n",
              "        vertical-align: top;\n",
              "    }\n",
              "\n",
              "    .dataframe thead th {\n",
              "        text-align: right;\n",
              "    }\n",
              "</style>\n",
              "<table border=\"1\" class=\"dataframe\">\n",
              "  <thead>\n",
              "    <tr style=\"text-align: right;\">\n",
              "      <th></th>\n",
              "      <th>author_id</th>\n",
              "      <th>pratilipi_id</th>\n",
              "      <th>category_name</th>\n",
              "      <th>reading_time</th>\n",
              "      <th>updated_at</th>\n",
              "      <th>published_at</th>\n",
              "    </tr>\n",
              "  </thead>\n",
              "  <tbody>\n",
              "    <tr>\n",
              "      <th>0</th>\n",
              "      <td>-3418949279741297</td>\n",
              "      <td>1025741862639304</td>\n",
              "      <td>translation</td>\n",
              "      <td>0</td>\n",
              "      <td>2020-08-19 15:26:13</td>\n",
              "      <td>2016-09-30 10:37:04</td>\n",
              "    </tr>\n",
              "    <tr>\n",
              "      <th>1</th>\n",
              "      <td>-2270332351871840</td>\n",
              "      <td>1377786215601277</td>\n",
              "      <td>translation</td>\n",
              "      <td>171</td>\n",
              "      <td>2021-01-21 16:27:07</td>\n",
              "      <td>2018-06-11 13:17:48</td>\n",
              "    </tr>\n",
              "    <tr>\n",
              "      <th>2</th>\n",
              "      <td>-2270332352037261</td>\n",
              "      <td>1377786215601962</td>\n",
              "      <td>translation</td>\n",
              "      <td>92</td>\n",
              "      <td>2020-09-29 12:33:57</td>\n",
              "      <td>2018-06-12 04:19:12</td>\n",
              "    </tr>\n",
              "    <tr>\n",
              "      <th>3</th>\n",
              "      <td>-2270332352521845</td>\n",
              "      <td>1377786215640994</td>\n",
              "      <td>translation</td>\n",
              "      <td>0</td>\n",
              "      <td>2019-10-17 09:03:37</td>\n",
              "      <td>2019-09-26 14:58:53</td>\n",
              "    </tr>\n",
              "    <tr>\n",
              "      <th>4</th>\n",
              "      <td>-2270332349665658</td>\n",
              "      <td>1377786215931338</td>\n",
              "      <td>translation</td>\n",
              "      <td>47</td>\n",
              "      <td>2020-05-05 11:33:41</td>\n",
              "      <td>2018-11-25 12:28:23</td>\n",
              "    </tr>\n",
              "  </tbody>\n",
              "</table>\n",
              "</div>\n",
              "      <button class=\"colab-df-convert\" onclick=\"convertToInteractive('df-4f9b917b-4182-4867-b7b7-6e53b5242073')\"\n",
              "              title=\"Convert this dataframe to an interactive table.\"\n",
              "              style=\"display:none;\">\n",
              "        \n",
              "  <svg xmlns=\"http://www.w3.org/2000/svg\" height=\"24px\"viewBox=\"0 0 24 24\"\n",
              "       width=\"24px\">\n",
              "    <path d=\"M0 0h24v24H0V0z\" fill=\"none\"/>\n",
              "    <path d=\"M18.56 5.44l.94 2.06.94-2.06 2.06-.94-2.06-.94-.94-2.06-.94 2.06-2.06.94zm-11 1L8.5 8.5l.94-2.06 2.06-.94-2.06-.94L8.5 2.5l-.94 2.06-2.06.94zm10 10l.94 2.06.94-2.06 2.06-.94-2.06-.94-.94-2.06-.94 2.06-2.06.94z\"/><path d=\"M17.41 7.96l-1.37-1.37c-.4-.4-.92-.59-1.43-.59-.52 0-1.04.2-1.43.59L10.3 9.45l-7.72 7.72c-.78.78-.78 2.05 0 2.83L4 21.41c.39.39.9.59 1.41.59.51 0 1.02-.2 1.41-.59l7.78-7.78 2.81-2.81c.8-.78.8-2.07 0-2.86zM5.41 20L4 18.59l7.72-7.72 1.47 1.35L5.41 20z\"/>\n",
              "  </svg>\n",
              "      </button>\n",
              "      \n",
              "  <style>\n",
              "    .colab-df-container {\n",
              "      display:flex;\n",
              "      flex-wrap:wrap;\n",
              "      gap: 12px;\n",
              "    }\n",
              "\n",
              "    .colab-df-convert {\n",
              "      background-color: #E8F0FE;\n",
              "      border: none;\n",
              "      border-radius: 50%;\n",
              "      cursor: pointer;\n",
              "      display: none;\n",
              "      fill: #1967D2;\n",
              "      height: 32px;\n",
              "      padding: 0 0 0 0;\n",
              "      width: 32px;\n",
              "    }\n",
              "\n",
              "    .colab-df-convert:hover {\n",
              "      background-color: #E2EBFA;\n",
              "      box-shadow: 0px 1px 2px rgba(60, 64, 67, 0.3), 0px 1px 3px 1px rgba(60, 64, 67, 0.15);\n",
              "      fill: #174EA6;\n",
              "    }\n",
              "\n",
              "    [theme=dark] .colab-df-convert {\n",
              "      background-color: #3B4455;\n",
              "      fill: #D2E3FC;\n",
              "    }\n",
              "\n",
              "    [theme=dark] .colab-df-convert:hover {\n",
              "      background-color: #434B5C;\n",
              "      box-shadow: 0px 1px 3px 1px rgba(0, 0, 0, 0.15);\n",
              "      filter: drop-shadow(0px 1px 2px rgba(0, 0, 0, 0.3));\n",
              "      fill: #FFFFFF;\n",
              "    }\n",
              "  </style>\n",
              "\n",
              "      <script>\n",
              "        const buttonEl =\n",
              "          document.querySelector('#df-4f9b917b-4182-4867-b7b7-6e53b5242073 button.colab-df-convert');\n",
              "        buttonEl.style.display =\n",
              "          google.colab.kernel.accessAllowed ? 'block' : 'none';\n",
              "\n",
              "        async function convertToInteractive(key) {\n",
              "          const element = document.querySelector('#df-4f9b917b-4182-4867-b7b7-6e53b5242073');\n",
              "          const dataTable =\n",
              "            await google.colab.kernel.invokeFunction('convertToInteractive',\n",
              "                                                     [key], {});\n",
              "          if (!dataTable) return;\n",
              "\n",
              "          const docLinkHtml = 'Like what you see? Visit the ' +\n",
              "            '<a target=\"_blank\" href=https://colab.research.google.com/notebooks/data_table.ipynb>data table notebook</a>'\n",
              "            + ' to learn more about interactive tables.';\n",
              "          element.innerHTML = '';\n",
              "          dataTable['output_type'] = 'display_data';\n",
              "          await google.colab.output.renderOutput(dataTable, element);\n",
              "          const docLink = document.createElement('div');\n",
              "          docLink.innerHTML = docLinkHtml;\n",
              "          element.appendChild(docLink);\n",
              "        }\n",
              "      </script>\n",
              "    </div>\n",
              "  </div>\n",
              "  "
            ]
          },
          "metadata": {},
          "execution_count": 10
        }
      ],
      "source": [
        "meta.head()"
      ]
    },
    {
      "cell_type": "code",
      "source": [
        "from google.colab import drive\n",
        "drive.mount('/content/drive')"
      ],
      "metadata": {
        "colab": {
          "base_uri": "https://localhost:8080/"
        },
        "id": "8q4RTLvyvOBC",
        "outputId": "924185ab-de46-482c-af3c-24bf278f0737"
      },
      "execution_count": 11,
      "outputs": [
        {
          "output_type": "stream",
          "name": "stdout",
          "text": [
            "Drive already mounted at /content/drive; to attempt to forcibly remount, call drive.mount(\"/content/drive\", force_remount=True).\n"
          ]
        }
      ]
    },
    {
      "cell_type": "code",
      "execution_count": 12,
      "metadata": {
        "execution": {
          "iopub.execute_input": "2022-04-03T11:49:40.885557Z",
          "iopub.status.busy": "2022-04-03T11:49:40.885335Z",
          "iopub.status.idle": "2022-04-03T11:49:40.901690Z",
          "shell.execute_reply": "2022-04-03T11:49:40.901007Z",
          "shell.execute_reply.started": "2022-04-03T11:49:40.885532Z"
        },
        "id": "dYQDcpLnvF5_",
        "outputId": "9711bbf4-ee98-4908-dfd6-0416968c92fe",
        "colab": {
          "base_uri": "https://localhost:8080/",
          "height": 206
        }
      },
      "outputs": [
        {
          "output_type": "execute_result",
          "data": {
            "text/plain": [
              "   Unnamed: 0           user_id      pratilipi_id  read_percent  \\\n",
              "0           0  5506791963854965  1377786220672965         100.0   \n",
              "1           1  5506791979071996  1377786219742624          29.0   \n",
              "2           2  5506791980256358  1377786217096334          22.0   \n",
              "3           3  5506791988747277  1377786224767880         100.0   \n",
              "4           4  5506791992372558  1377786218111595         100.0   \n",
              "\n",
              "                updated_at  \n",
              "0  2022-03-23 00:08:26.227  \n",
              "1  2022-03-23 00:08:26.220  \n",
              "2  2022-03-23 00:08:26.020  \n",
              "3  2022-03-23 00:08:25.306  \n",
              "4  2022-03-23 00:08:25.250  "
            ],
            "text/html": [
              "\n",
              "  <div id=\"df-f15b8520-8a17-4be9-b627-07ae47c04979\">\n",
              "    <div class=\"colab-df-container\">\n",
              "      <div>\n",
              "<style scoped>\n",
              "    .dataframe tbody tr th:only-of-type {\n",
              "        vertical-align: middle;\n",
              "    }\n",
              "\n",
              "    .dataframe tbody tr th {\n",
              "        vertical-align: top;\n",
              "    }\n",
              "\n",
              "    .dataframe thead th {\n",
              "        text-align: right;\n",
              "    }\n",
              "</style>\n",
              "<table border=\"1\" class=\"dataframe\">\n",
              "  <thead>\n",
              "    <tr style=\"text-align: right;\">\n",
              "      <th></th>\n",
              "      <th>Unnamed: 0</th>\n",
              "      <th>user_id</th>\n",
              "      <th>pratilipi_id</th>\n",
              "      <th>read_percent</th>\n",
              "      <th>updated_at</th>\n",
              "    </tr>\n",
              "  </thead>\n",
              "  <tbody>\n",
              "    <tr>\n",
              "      <th>0</th>\n",
              "      <td>0</td>\n",
              "      <td>5506791963854965</td>\n",
              "      <td>1377786220672965</td>\n",
              "      <td>100.0</td>\n",
              "      <td>2022-03-23 00:08:26.227</td>\n",
              "    </tr>\n",
              "    <tr>\n",
              "      <th>1</th>\n",
              "      <td>1</td>\n",
              "      <td>5506791979071996</td>\n",
              "      <td>1377786219742624</td>\n",
              "      <td>29.0</td>\n",
              "      <td>2022-03-23 00:08:26.220</td>\n",
              "    </tr>\n",
              "    <tr>\n",
              "      <th>2</th>\n",
              "      <td>2</td>\n",
              "      <td>5506791980256358</td>\n",
              "      <td>1377786217096334</td>\n",
              "      <td>22.0</td>\n",
              "      <td>2022-03-23 00:08:26.020</td>\n",
              "    </tr>\n",
              "    <tr>\n",
              "      <th>3</th>\n",
              "      <td>3</td>\n",
              "      <td>5506791988747277</td>\n",
              "      <td>1377786224767880</td>\n",
              "      <td>100.0</td>\n",
              "      <td>2022-03-23 00:08:25.306</td>\n",
              "    </tr>\n",
              "    <tr>\n",
              "      <th>4</th>\n",
              "      <td>4</td>\n",
              "      <td>5506791992372558</td>\n",
              "      <td>1377786218111595</td>\n",
              "      <td>100.0</td>\n",
              "      <td>2022-03-23 00:08:25.250</td>\n",
              "    </tr>\n",
              "  </tbody>\n",
              "</table>\n",
              "</div>\n",
              "      <button class=\"colab-df-convert\" onclick=\"convertToInteractive('df-f15b8520-8a17-4be9-b627-07ae47c04979')\"\n",
              "              title=\"Convert this dataframe to an interactive table.\"\n",
              "              style=\"display:none;\">\n",
              "        \n",
              "  <svg xmlns=\"http://www.w3.org/2000/svg\" height=\"24px\"viewBox=\"0 0 24 24\"\n",
              "       width=\"24px\">\n",
              "    <path d=\"M0 0h24v24H0V0z\" fill=\"none\"/>\n",
              "    <path d=\"M18.56 5.44l.94 2.06.94-2.06 2.06-.94-2.06-.94-.94-2.06-.94 2.06-2.06.94zm-11 1L8.5 8.5l.94-2.06 2.06-.94-2.06-.94L8.5 2.5l-.94 2.06-2.06.94zm10 10l.94 2.06.94-2.06 2.06-.94-2.06-.94-.94-2.06-.94 2.06-2.06.94z\"/><path d=\"M17.41 7.96l-1.37-1.37c-.4-.4-.92-.59-1.43-.59-.52 0-1.04.2-1.43.59L10.3 9.45l-7.72 7.72c-.78.78-.78 2.05 0 2.83L4 21.41c.39.39.9.59 1.41.59.51 0 1.02-.2 1.41-.59l7.78-7.78 2.81-2.81c.8-.78.8-2.07 0-2.86zM5.41 20L4 18.59l7.72-7.72 1.47 1.35L5.41 20z\"/>\n",
              "  </svg>\n",
              "      </button>\n",
              "      \n",
              "  <style>\n",
              "    .colab-df-container {\n",
              "      display:flex;\n",
              "      flex-wrap:wrap;\n",
              "      gap: 12px;\n",
              "    }\n",
              "\n",
              "    .colab-df-convert {\n",
              "      background-color: #E8F0FE;\n",
              "      border: none;\n",
              "      border-radius: 50%;\n",
              "      cursor: pointer;\n",
              "      display: none;\n",
              "      fill: #1967D2;\n",
              "      height: 32px;\n",
              "      padding: 0 0 0 0;\n",
              "      width: 32px;\n",
              "    }\n",
              "\n",
              "    .colab-df-convert:hover {\n",
              "      background-color: #E2EBFA;\n",
              "      box-shadow: 0px 1px 2px rgba(60, 64, 67, 0.3), 0px 1px 3px 1px rgba(60, 64, 67, 0.15);\n",
              "      fill: #174EA6;\n",
              "    }\n",
              "\n",
              "    [theme=dark] .colab-df-convert {\n",
              "      background-color: #3B4455;\n",
              "      fill: #D2E3FC;\n",
              "    }\n",
              "\n",
              "    [theme=dark] .colab-df-convert:hover {\n",
              "      background-color: #434B5C;\n",
              "      box-shadow: 0px 1px 3px 1px rgba(0, 0, 0, 0.15);\n",
              "      filter: drop-shadow(0px 1px 2px rgba(0, 0, 0, 0.3));\n",
              "      fill: #FFFFFF;\n",
              "    }\n",
              "  </style>\n",
              "\n",
              "      <script>\n",
              "        const buttonEl =\n",
              "          document.querySelector('#df-f15b8520-8a17-4be9-b627-07ae47c04979 button.colab-df-convert');\n",
              "        buttonEl.style.display =\n",
              "          google.colab.kernel.accessAllowed ? 'block' : 'none';\n",
              "\n",
              "        async function convertToInteractive(key) {\n",
              "          const element = document.querySelector('#df-f15b8520-8a17-4be9-b627-07ae47c04979');\n",
              "          const dataTable =\n",
              "            await google.colab.kernel.invokeFunction('convertToInteractive',\n",
              "                                                     [key], {});\n",
              "          if (!dataTable) return;\n",
              "\n",
              "          const docLinkHtml = 'Like what you see? Visit the ' +\n",
              "            '<a target=\"_blank\" href=https://colab.research.google.com/notebooks/data_table.ipynb>data table notebook</a>'\n",
              "            + ' to learn more about interactive tables.';\n",
              "          element.innerHTML = '';\n",
              "          dataTable['output_type'] = 'display_data';\n",
              "          await google.colab.output.renderOutput(dataTable, element);\n",
              "          const docLink = document.createElement('div');\n",
              "          docLink.innerHTML = docLinkHtml;\n",
              "          element.appendChild(docLink);\n",
              "        }\n",
              "      </script>\n",
              "    </div>\n",
              "  </div>\n",
              "  "
            ]
          },
          "metadata": {},
          "execution_count": 12
        }
      ],
      "source": [
        "user.head()"
      ]
    },
    {
      "cell_type": "code",
      "execution_count": 13,
      "metadata": {
        "execution": {
          "iopub.execute_input": "2022-04-03T11:49:40.903066Z",
          "iopub.status.busy": "2022-04-03T11:49:40.902546Z",
          "iopub.status.idle": "2022-04-03T11:49:40.915722Z",
          "shell.execute_reply": "2022-04-03T11:49:40.915155Z",
          "shell.execute_reply.started": "2022-04-03T11:49:40.903037Z"
        },
        "id": "J_YBtbvcvF6A",
        "outputId": "2c70ad2e-3382-42b9-addd-360cc3bb6bcc",
        "colab": {
          "base_uri": "https://localhost:8080/"
        }
      },
      "outputs": [
        {
          "output_type": "execute_result",
          "data": {
            "text/plain": [
              "((10000000, 5), (954501, 6))"
            ]
          },
          "metadata": {},
          "execution_count": 13
        }
      ],
      "source": [
        "user.shape,meta.shape"
      ]
    },
    {
      "cell_type": "code",
      "execution_count": 14,
      "metadata": {
        "execution": {
          "iopub.execute_input": "2022-04-03T11:49:40.917473Z",
          "iopub.status.busy": "2022-04-03T11:49:40.916858Z",
          "iopub.status.idle": "2022-04-03T11:49:40.929096Z",
          "shell.execute_reply": "2022-04-03T11:49:40.928268Z",
          "shell.execute_reply.started": "2022-04-03T11:49:40.917424Z"
        },
        "id": "xQJUKgiRvF6B",
        "outputId": "71ffb158-93b0-4036-f4b4-6fdd56636aa4",
        "colab": {
          "base_uri": "https://localhost:8080/"
        }
      },
      "outputs": [
        {
          "output_type": "execute_result",
          "data": {
            "text/plain": [
              "(Index(['Unnamed: 0', 'user_id', 'pratilipi_id', 'read_percent', 'updated_at'], dtype='object'),\n",
              " Index(['author_id', 'pratilipi_id', 'category_name', 'reading_time',\n",
              "        'updated_at', 'published_at'],\n",
              "       dtype='object'))"
            ]
          },
          "metadata": {},
          "execution_count": 14
        }
      ],
      "source": [
        "user.columns,meta.columns"
      ]
    },
    {
      "cell_type": "markdown",
      "metadata": {
        "id": "rUtLsK55vF6C"
      },
      "source": [
        "## Visualization \n"
      ]
    },
    {
      "cell_type": "code",
      "execution_count": 15,
      "metadata": {
        "execution": {
          "iopub.execute_input": "2022-04-03T11:49:40.931007Z",
          "iopub.status.busy": "2022-04-03T11:49:40.930370Z",
          "iopub.status.idle": "2022-04-03T11:49:40.988742Z",
          "shell.execute_reply": "2022-04-03T11:49:40.988115Z",
          "shell.execute_reply.started": "2022-04-03T11:49:40.930971Z"
        },
        "id": "5nKMFBk2vF6G",
        "outputId": "d33dec56-e4c3-470e-92dd-7a0f0d7e2e67",
        "colab": {
          "base_uri": "https://localhost:8080/"
        }
      },
      "outputs": [
        {
          "output_type": "execute_result",
          "data": {
            "text/plain": [
              "romance                      193220\n",
              "shortstories                 102097\n",
              "social                        73920\n",
              "suspense                      64041\n",
              "family                        58515\n",
              "novels                        53584\n",
              "life                          51356\n",
              "moral-inspiring               47421\n",
              "women                         37168\n",
              "horror                        28506\n",
              "entertainment                 23362\n",
              "action-and-adventure          21589\n",
              "experiences-and-memories      20276\n",
              "webseries                     16227\n",
              "relegion-and-spiritual        15476\n",
              "comedy                        14893\n",
              "Pratilipi-kalamkar-samman     13237\n",
              "mythology                     12324\n",
              "children                      10196\n",
              "Indiawale                      9674\n",
              "Pratilipi-Awards-Hindi         9342\n",
              "fantasy                        9324\n",
              "swahindi2                      7853\n",
              "drama                          7387\n",
              "crime                          7151\n",
              "politics                       5810\n",
              "translation                    4250\n",
              "short-story-challenge          3534\n",
              "murder-mystery                 3491\n",
              "Serieswriting                  3297\n",
              "Horror-Marathon                2973\n",
              "crime-lekhan                   2966\n",
              "health-and-wellness            2874\n",
              "science-fiction                2813\n",
              "pratilipi-kids                 2676\n",
              "detective                      2229\n",
              "premkamahina                   1971\n",
              "krishi-jeevan                  1751\n",
              "The-Chat-Story                 1635\n",
              "Parytan                        1462\n",
              "pravasi-sahitya                 864\n",
              "cyber-crime-fiction             487\n",
              "Radio-Fiction                   470\n",
              "Rashtriya                       446\n",
              "erotica                         363\n",
              "Name: category_name, dtype: int64"
            ]
          },
          "metadata": {},
          "execution_count": 15
        }
      ],
      "source": [
        "\n",
        "meta[\"category_name\"].value_counts()"
      ]
    },
    {
      "cell_type": "code",
      "execution_count": 16,
      "metadata": {
        "execution": {
          "iopub.execute_input": "2022-04-03T11:49:41.044543Z",
          "iopub.status.busy": "2022-04-03T11:49:41.043661Z",
          "iopub.status.idle": "2022-04-03T11:49:41.375865Z",
          "shell.execute_reply": "2022-04-03T11:49:41.374982Z",
          "shell.execute_reply.started": "2022-04-03T11:49:41.044500Z"
        },
        "id": "D8bAY0FqvF6N"
      },
      "outputs": [],
      "source": [
        "meta[\"category_name\"] =meta[\"category_name\"].str.replace('-','')"
      ]
    },
    {
      "cell_type": "code",
      "execution_count": 17,
      "metadata": {
        "execution": {
          "iopub.execute_input": "2022-04-03T11:49:41.379361Z",
          "iopub.status.busy": "2022-04-03T11:49:41.379036Z",
          "iopub.status.idle": "2022-04-03T11:49:41.383676Z",
          "shell.execute_reply": "2022-04-03T11:49:41.382823Z",
          "shell.execute_reply.started": "2022-04-03T11:49:41.379321Z"
        },
        "id": "0zfPR-hHvF6O"
      },
      "outputs": [],
      "source": [
        "\n",
        "plt.rcParams[\"figure.figsize\"] = (30,30)"
      ]
    },
    {
      "cell_type": "code",
      "execution_count": 18,
      "metadata": {
        "execution": {
          "iopub.execute_input": "2022-04-03T11:49:41.385335Z",
          "iopub.status.busy": "2022-04-03T11:49:41.384978Z",
          "iopub.status.idle": "2022-04-03T11:49:42.169062Z",
          "shell.execute_reply": "2022-04-03T11:49:42.167869Z",
          "shell.execute_reply.started": "2022-04-03T11:49:41.385293Z"
        },
        "id": "JwMb-kJCvF6P",
        "outputId": "558cce5e-26cb-49f6-d6b4-09804258c5da",
        "colab": {
          "base_uri": "https://localhost:8080/",
          "height": 1000
        }
      },
      "outputs": [
        {
          "output_type": "execute_result",
          "data": {
            "text/plain": [
              "<matplotlib.axes._subplots.AxesSubplot at 0x7f979d0ca3d0>"
            ]
          },
          "metadata": {},
          "execution_count": 18
        },
        {
          "output_type": "display_data",
          "data": {
            "text/plain": [
              "<Figure size 2160x2160 with 1 Axes>"
            ],
            "image/png": "[encoded data removed]"
          },
          "metadata": {
            "needs_background": "light"
          }
        }
      ],
      "source": [
        "meta[\"category_name\"].value_counts().plot(kind='barh')"
      ]
    },
    {
      "cell_type": "code",
      "execution_count": 19,
      "metadata": {
        "execution": {
          "iopub.execute_input": "2022-04-03T11:49:42.171203Z",
          "iopub.status.busy": "2022-04-03T11:49:42.170891Z",
          "iopub.status.idle": "2022-04-03T11:49:42.317542Z",
          "shell.execute_reply": "2022-04-03T11:49:42.316661Z",
          "shell.execute_reply.started": "2022-04-03T11:49:42.171161Z"
        },
        "id": "FNJqCGNUvF6R",
        "outputId": "71a1989d-4d1e-41f4-87bb-6c3439023eb7",
        "colab": {
          "base_uri": "https://localhost:8080/"
        }
      },
      "outputs": [
        {
          "output_type": "execute_result",
          "data": {
            "text/plain": [
              "467808"
            ]
          },
          "metadata": {},
          "execution_count": 19
        }
      ],
      "source": [
        "# one story with multiple id's\n",
        "meta.duplicated(['pratilipi_id']).sum()\n"
      ]
    },
    {
      "cell_type": "markdown",
      "metadata": {
        "id": "6O0Mw9V0vF6U"
      },
      "source": [
        "## Check distribution of reading time across data"
      ]
    },
    {
      "cell_type": "code",
      "execution_count": 20,
      "metadata": {
        "execution": {
          "iopub.execute_input": "2022-04-03T11:49:42.499610Z",
          "iopub.status.busy": "2022-04-03T11:49:42.499007Z",
          "iopub.status.idle": "2022-04-03T11:49:42.512423Z",
          "shell.execute_reply": "2022-04-03T11:49:42.511381Z",
          "shell.execute_reply.started": "2022-04-03T11:49:42.499562Z"
        },
        "id": "b1JY040RvF6V",
        "outputId": "91d2b7e3-4bb8-4f42-d342-994457de5911",
        "colab": {
          "base_uri": "https://localhost:8080/",
          "height": 206
        }
      },
      "outputs": [
        {
          "output_type": "execute_result",
          "data": {
            "text/plain": [
              "          author_id      pratilipi_id category_name  reading_time  \\\n",
              "0 -3418949279741297  1025741862639304   translation             0   \n",
              "1 -2270332351871840  1377786215601277   translation           171   \n",
              "2 -2270332352037261  1377786215601962   translation            92   \n",
              "3 -2270332352521845  1377786215640994   translation             0   \n",
              "4 -2270332349665658  1377786215931338   translation            47   \n",
              "\n",
              "            updated_at         published_at  \n",
              "0  2020-08-19 15:26:13  2016-09-30 10:37:04  \n",
              "1  2021-01-21 16:27:07  2018-06-11 13:17:48  \n",
              "2  2020-09-29 12:33:57  2018-06-12 04:19:12  \n",
              "3  2019-10-17 09:03:37  2019-09-26 14:58:53  \n",
              "4  2020-05-05 11:33:41  2018-11-25 12:28:23  "
            ],
            "text/html": [
              "\n",
              "  <div id=\"df-7a0777e4-17d9-4e22-8a04-cd1411197173\">\n",
              "    <div class=\"colab-df-container\">\n",
              "      <div>\n",
              "<style scoped>\n",
              "    .dataframe tbody tr th:only-of-type {\n",
              "        vertical-align: middle;\n",
              "    }\n",
              "\n",
              "    .dataframe tbody tr th {\n",
              "        vertical-align: top;\n",
              "    }\n",
              "\n",
              "    .dataframe thead th {\n",
              "        text-align: right;\n",
              "    }\n",
              "</style>\n",
              "<table border=\"1\" class=\"dataframe\">\n",
              "  <thead>\n",
              "    <tr style=\"text-align: right;\">\n",
              "      <th></th>\n",
              "      <th>author_id</th>\n",
              "      <th>pratilipi_id</th>\n",
              "      <th>category_name</th>\n",
              "      <th>reading_time</th>\n",
              "      <th>updated_at</th>\n",
              "      <th>published_at</th>\n",
              "    </tr>\n",
              "  </thead>\n",
              "  <tbody>\n",
              "    <tr>\n",
              "      <th>0</th>\n",
              "      <td>-3418949279741297</td>\n",
              "      <td>1025741862639304</td>\n",
              "      <td>translation</td>\n",
              "      <td>0</td>\n",
              "      <td>2020-08-19 15:26:13</td>\n",
              "      <td>2016-09-30 10:37:04</td>\n",
              "    </tr>\n",
              "    <tr>\n",
              "      <th>1</th>\n",
              "      <td>-2270332351871840</td>\n",
              "      <td>1377786215601277</td>\n",
              "      <td>translation</td>\n",
              "      <td>171</td>\n",
              "      <td>2021-01-21 16:27:07</td>\n",
              "      <td>2018-06-11 13:17:48</td>\n",
              "    </tr>\n",
              "    <tr>\n",
              "      <th>2</th>\n",
              "      <td>-2270332352037261</td>\n",
              "      <td>1377786215601962</td>\n",
              "      <td>translation</td>\n",
              "      <td>92</td>\n",
              "      <td>2020-09-29 12:33:57</td>\n",
              "      <td>2018-06-12 04:19:12</td>\n",
              "    </tr>\n",
              "    <tr>\n",
              "      <th>3</th>\n",
              "      <td>-2270332352521845</td>\n",
              "      <td>1377786215640994</td>\n",
              "      <td>translation</td>\n",
              "      <td>0</td>\n",
              "      <td>2019-10-17 09:03:37</td>\n",
              "      <td>2019-09-26 14:58:53</td>\n",
              "    </tr>\n",
              "    <tr>\n",
              "      <th>4</th>\n",
              "      <td>-2270332349665658</td>\n",
              "      <td>1377786215931338</td>\n",
              "      <td>translation</td>\n",
              "      <td>47</td>\n",
              "      <td>2020-05-05 11:33:41</td>\n",
              "      <td>2018-11-25 12:28:23</td>\n",
              "    </tr>\n",
              "  </tbody>\n",
              "</table>\n",
              "</div>\n",
              "      <button class=\"colab-df-convert\" onclick=\"convertToInteractive('df-7a0777e4-17d9-4e22-8a04-cd1411197173')\"\n",
              "              title=\"Convert this dataframe to an interactive table.\"\n",
              "              style=\"display:none;\">\n",
              "        \n",
              "  <svg xmlns=\"http://www.w3.org/2000/svg\" height=\"24px\"viewBox=\"0 0 24 24\"\n",
              "       width=\"24px\">\n",
              "    <path d=\"M0 0h24v24H0V0z\" fill=\"none\"/>\n",
              "    <path d=\"M18.56 5.44l.94 2.06.94-2.06 2.06-.94-2.06-.94-.94-2.06-.94 2.06-2.06.94zm-11 1L8.5 8.5l.94-2.06 2.06-.94-2.06-.94L8.5 2.5l-.94 2.06-2.06.94zm10 10l.94 2.06.94-2.06 2.06-.94-2.06-.94-.94-2.06-.94 2.06-2.06.94z\"/><path d=\"M17.41 7.96l-1.37-1.37c-.4-.4-.92-.59-1.43-.59-.52 0-1.04.2-1.43.59L10.3 9.45l-7.72 7.72c-.78.78-.78 2.05 0 2.83L4 21.41c.39.39.9.59 1.41.59.51 0 1.02-.2 1.41-.59l7.78-7.78 2.81-2.81c.8-.78.8-2.07 0-2.86zM5.41 20L4 18.59l7.72-7.72 1.47 1.35L5.41 20z\"/>\n",
              "  </svg>\n",
              "      </button>\n",
              "      \n",
              "  <style>\n",
              "    .colab-df-container {\n",
              "      display:flex;\n",
              "      flex-wrap:wrap;\n",
              "      gap: 12px;\n",
              "    }\n",
              "\n",
              "    .colab-df-convert {\n",
              "      background-color: #E8F0FE;\n",
              "      border: none;\n",
              "      border-radius: 50%;\n",
              "      cursor: pointer;\n",
              "      display: none;\n",
              "      fill: #1967D2;\n",
              "      height: 32px;\n",
              "      padding: 0 0 0 0;\n",
              "      width: 32px;\n",
              "    }\n",
              "\n",
              "    .colab-df-convert:hover {\n",
              "      background-color: #E2EBFA;\n",
              "      box-shadow: 0px 1px 2px rgba(60, 64, 67, 0.3), 0px 1px 3px 1px rgba(60, 64, 67, 0.15);\n",
              "      fill: #174EA6;\n",
              "    }\n",
              "\n",
              "    [theme=dark] .colab-df-convert {\n",
              "      background-color: #3B4455;\n",
              "      fill: #D2E3FC;\n",
              "    }\n",
              "\n",
              "    [theme=dark] .colab-df-convert:hover {\n",
              "      background-color: #434B5C;\n",
              "      box-shadow: 0px 1px 3px 1px rgba(0, 0, 0, 0.15);\n",
              "      filter: drop-shadow(0px 1px 2px rgba(0, 0, 0, 0.3));\n",
              "      fill: #FFFFFF;\n",
              "    }\n",
              "  </style>\n",
              "\n",
              "      <script>\n",
              "        const buttonEl =\n",
              "          document.querySelector('#df-7a0777e4-17d9-4e22-8a04-cd1411197173 button.colab-df-convert');\n",
              "        buttonEl.style.display =\n",
              "          google.colab.kernel.accessAllowed ? 'block' : 'none';\n",
              "\n",
              "        async function convertToInteractive(key) {\n",
              "          const element = document.querySelector('#df-7a0777e4-17d9-4e22-8a04-cd1411197173');\n",
              "          const dataTable =\n",
              "            await google.colab.kernel.invokeFunction('convertToInteractive',\n",
              "                                                     [key], {});\n",
              "          if (!dataTable) return;\n",
              "\n",
              "          const docLinkHtml = 'Like what you see? Visit the ' +\n",
              "            '<a target=\"_blank\" href=https://colab.research.google.com/notebooks/data_table.ipynb>data table notebook</a>'\n",
              "            + ' to learn more about interactive tables.';\n",
              "          element.innerHTML = '';\n",
              "          dataTable['output_type'] = 'display_data';\n",
              "          await google.colab.output.renderOutput(dataTable, element);\n",
              "          const docLink = document.createElement('div');\n",
              "          docLink.innerHTML = docLinkHtml;\n",
              "          element.appendChild(docLink);\n",
              "        }\n",
              "      </script>\n",
              "    </div>\n",
              "  </div>\n",
              "  "
            ]
          },
          "metadata": {},
          "execution_count": 20
        }
      ],
      "source": [
        "meta.head()"
      ]
    },
    {
      "cell_type": "code",
      "execution_count": 21,
      "metadata": {
        "execution": {
          "iopub.execute_input": "2022-04-03T11:49:42.519856Z",
          "iopub.status.busy": "2022-04-03T11:49:42.519348Z",
          "iopub.status.idle": "2022-04-03T11:49:43.178177Z",
          "shell.execute_reply": "2022-04-03T11:49:43.177163Z",
          "shell.execute_reply.started": "2022-04-03T11:49:42.519823Z"
        },
        "id": "0RE2rTJwvF6W",
        "outputId": "f7688a1c-e682-4bda-fea3-5c5c97bac20a",
        "colab": {
          "base_uri": "https://localhost:8080/",
          "height": 1000
        }
      },
      "outputs": [
        {
          "output_type": "display_data",
          "data": {
            "text/plain": [
              "<Figure size 2160x2160 with 1 Axes>"
            ],
            "image/png": "[encoded data removed]"
          },
          "metadata": {
            "needs_background": "light"
          }
        }
      ],
      "source": [
        "# distribution of reading time\n",
        "x =meta[\"reading_time\"]\n",
        "plt.hist(x, bins=[6*x for x in range(100)])\n",
        "plt.gca().set(title='Histogram',xlabel=\"Reading Time\");"
      ]
    },
    {
      "cell_type": "code",
      "execution_count": 22,
      "metadata": {
        "execution": {
          "iopub.execute_input": "2022-04-03T11:49:44.685365Z",
          "iopub.status.busy": "2022-04-03T11:49:44.685021Z",
          "iopub.status.idle": "2022-04-03T11:49:44.690717Z",
          "shell.execute_reply": "2022-04-03T11:49:44.689883Z",
          "shell.execute_reply.started": "2022-04-03T11:49:44.685334Z"
        },
        "id": "vsUD7FAWvF6X"
      },
      "outputs": [],
      "source": [
        "def inter_quartile_range(data, col):\n",
        "    Q3 = np.quantile(data[col], 0.75)\n",
        "    Q1 = np.quantile(data[col], 0.25)\n",
        "    IQR = Q3 - Q1\n",
        " \n",
        "    print(f\"IQR value for column is:\" ,(IQR))\n",
        "     \n",
        "    lower = Q1 - 1.5 * IQR\n",
        "    upper= Q3 + 1.5 * IQR\n",
        "    if lower<0:\n",
        "        lower= 0\n",
        "    print(\"IQR range for column is:\",(lower, upper))"
      ]
    },
    {
      "cell_type": "code",
      "execution_count": 23,
      "metadata": {
        "execution": {
          "iopub.execute_input": "2022-04-03T11:49:44.692033Z",
          "iopub.status.busy": "2022-04-03T11:49:44.691807Z",
          "iopub.status.idle": "2022-04-03T11:49:44.732808Z",
          "shell.execute_reply": "2022-04-03T11:49:44.732061Z",
          "shell.execute_reply.started": "2022-04-03T11:49:44.692006Z"
        },
        "id": "fRLRis6CvF6Y",
        "outputId": "b5b70c9c-39c6-4197-8701-f83d53ea181a",
        "colab": {
          "base_uri": "https://localhost:8080/"
        }
      },
      "outputs": [
        {
          "output_type": "stream",
          "name": "stdout",
          "text": [
            "IQR value for column is: 350.0\n",
            "IQR range for column is: (0, 986.0)\n"
          ]
        }
      ],
      "source": [
        "inter_quartile_range(meta, col=\"reading_time\")"
      ]
    },
    {
      "cell_type": "code",
      "execution_count": 24,
      "metadata": {
        "execution": {
          "iopub.execute_input": "2022-04-03T11:49:44.734614Z",
          "iopub.status.busy": "2022-04-03T11:49:44.734182Z",
          "iopub.status.idle": "2022-04-03T11:49:44.742490Z",
          "shell.execute_reply": "2022-04-03T11:49:44.741553Z",
          "shell.execute_reply.started": "2022-04-03T11:49:44.734574Z"
        },
        "id": "gG1AXabQvF6Z",
        "outputId": "a630724b-2c2d-4b95-f153-2631dbf26aa9",
        "colab": {
          "base_uri": "https://localhost:8080/"
        }
      },
      "outputs": [
        {
          "output_type": "execute_result",
          "data": {
            "text/plain": [
              "(0, 78983)"
            ]
          },
          "metadata": {},
          "execution_count": 24
        }
      ],
      "source": [
        "meta[\"reading_time\"].min(),meta[\"reading_time\"].max()"
      ]
    },
    {
      "cell_type": "code",
      "execution_count": 25,
      "metadata": {
        "execution": {
          "iopub.execute_input": "2022-04-03T11:49:44.743894Z",
          "iopub.status.busy": "2022-04-03T11:49:44.743555Z",
          "iopub.status.idle": "2022-04-03T11:49:44.768402Z",
          "shell.execute_reply": "2022-04-03T11:49:44.767458Z",
          "shell.execute_reply.started": "2022-04-03T11:49:44.743866Z"
        },
        "id": "bAfiKlsbvF6a",
        "outputId": "d9738cb7-852c-417f-ec48-be7768dfe37b",
        "colab": {
          "base_uri": "https://localhost:8080/"
        }
      },
      "outputs": [
        {
          "output_type": "execute_result",
          "data": {
            "text/plain": [
              "44710"
            ]
          },
          "metadata": {},
          "execution_count": 25
        }
      ],
      "source": [
        "len(meta[meta[\"reading_time\"]>986])"
      ]
    },
    {
      "cell_type": "code",
      "execution_count": 26,
      "metadata": {
        "execution": {
          "iopub.execute_input": "2022-04-03T11:49:44.769948Z",
          "iopub.status.busy": "2022-04-03T11:49:44.769725Z",
          "iopub.status.idle": "2022-04-03T11:49:44.780908Z",
          "shell.execute_reply": "2022-04-03T11:49:44.780048Z",
          "shell.execute_reply.started": "2022-04-03T11:49:44.769921Z"
        },
        "id": "aAtdTjE1vF6b",
        "outputId": "7f359275-5c57-4253-f648-c6398e165d09",
        "colab": {
          "base_uri": "https://localhost:8080/"
        }
      },
      "outputs": [
        {
          "output_type": "execute_result",
          "data": {
            "text/plain": [
              "4055"
            ]
          },
          "metadata": {},
          "execution_count": 26
        }
      ],
      "source": [
        "len(meta[meta[\"reading_time\"]<=0])"
      ]
    },
    {
      "cell_type": "markdown",
      "metadata": {
        "id": "Syb4AjtovF6c"
      },
      "source": [
        "There are 44710 outliers according to IQR and 4055 people with reading time less than 0"
      ]
    },
    {
      "cell_type": "markdown",
      "metadata": {
        "id": "C5nNbye_vF6c"
      },
      "source": [
        "## Check distribution of reading percent across data"
      ]
    },
    {
      "cell_type": "code",
      "execution_count": 27,
      "metadata": {
        "execution": {
          "iopub.execute_input": "2022-04-03T11:49:44.782896Z",
          "iopub.status.busy": "2022-04-03T11:49:44.782277Z",
          "iopub.status.idle": "2022-04-03T11:49:44.795282Z",
          "shell.execute_reply": "2022-04-03T11:49:44.794488Z",
          "shell.execute_reply.started": "2022-04-03T11:49:44.782850Z"
        },
        "id": "N36LvoSlvF6d",
        "outputId": "5107feb7-21de-40f5-97b2-56fd9e0ea491",
        "colab": {
          "base_uri": "https://localhost:8080/",
          "height": 206
        }
      },
      "outputs": [
        {
          "output_type": "execute_result",
          "data": {
            "text/plain": [
              "   Unnamed: 0           user_id      pratilipi_id  read_percent  \\\n",
              "0           0  5506791963854965  1377786220672965         100.0   \n",
              "1           1  5506791979071996  1377786219742624          29.0   \n",
              "2           2  5506791980256358  1377786217096334          22.0   \n",
              "3           3  5506791988747277  1377786224767880         100.0   \n",
              "4           4  5506791992372558  1377786218111595         100.0   \n",
              "\n",
              "                updated_at  \n",
              "0  2022-03-23 00:08:26.227  \n",
              "1  2022-03-23 00:08:26.220  \n",
              "2  2022-03-23 00:08:26.020  \n",
              "3  2022-03-23 00:08:25.306  \n",
              "4  2022-03-23 00:08:25.250  "
            ],
            "text/html": [
              "\n",
              "  <div id=\"df-93ea8088-ee89-4cdc-8d36-804bd339453b\">\n",
              "    <div class=\"colab-df-container\">\n",
              "      <div>\n",
              "<style scoped>\n",
              "    .dataframe tbody tr th:only-of-type {\n",
              "        vertical-align: middle;\n",
              "    }\n",
              "\n",
              "    .dataframe tbody tr th {\n",
              "        vertical-align: top;\n",
              "    }\n",
              "\n",
              "    .dataframe thead th {\n",
              "        text-align: right;\n",
              "    }\n",
              "</style>\n",
              "<table border=\"1\" class=\"dataframe\">\n",
              "  <thead>\n",
              "    <tr style=\"text-align: right;\">\n",
              "      <th></th>\n",
              "      <th>Unnamed: 0</th>\n",
              "      <th>user_id</th>\n",
              "      <th>pratilipi_id</th>\n",
              "      <th>read_percent</th>\n",
              "      <th>updated_at</th>\n",
              "    </tr>\n",
              "  </thead>\n",
              "  <tbody>\n",
              "    <tr>\n",
              "      <th>0</th>\n",
              "      <td>0</td>\n",
              "      <td>5506791963854965</td>\n",
              "      <td>1377786220672965</td>\n",
              "      <td>100.0</td>\n",
              "      <td>2022-03-23 00:08:26.227</td>\n",
              "    </tr>\n",
              "    <tr>\n",
              "      <th>1</th>\n",
              "      <td>1</td>\n",
              "      <td>5506791979071996</td>\n",
              "      <td>1377786219742624</td>\n",
              "      <td>29.0</td>\n",
              "      <td>2022-03-23 00:08:26.220</td>\n",
              "    </tr>\n",
              "    <tr>\n",
              "      <th>2</th>\n",
              "      <td>2</td>\n",
              "      <td>5506791980256358</td>\n",
              "      <td>1377786217096334</td>\n",
              "      <td>22.0</td>\n",
              "      <td>2022-03-23 00:08:26.020</td>\n",
              "    </tr>\n",
              "    <tr>\n",
              "      <th>3</th>\n",
              "      <td>3</td>\n",
              "      <td>5506791988747277</td>\n",
              "      <td>1377786224767880</td>\n",
              "      <td>100.0</td>\n",
              "      <td>2022-03-23 00:08:25.306</td>\n",
              "    </tr>\n",
              "    <tr>\n",
              "      <th>4</th>\n",
              "      <td>4</td>\n",
              "      <td>5506791992372558</td>\n",
              "      <td>1377786218111595</td>\n",
              "      <td>100.0</td>\n",
              "      <td>2022-03-23 00:08:25.250</td>\n",
              "    </tr>\n",
              "  </tbody>\n",
              "</table>\n",
              "</div>\n",
              "      <button class=\"colab-df-convert\" onclick=\"convertToInteractive('df-93ea8088-ee89-4cdc-8d36-804bd339453b')\"\n",
              "              title=\"Convert this dataframe to an interactive table.\"\n",
              "              style=\"display:none;\">\n",
              "        \n",
              "  <svg xmlns=\"http://www.w3.org/2000/svg\" height=\"24px\"viewBox=\"0 0 24 24\"\n",
              "       width=\"24px\">\n",
              "    <path d=\"M0 0h24v24H0V0z\" fill=\"none\"/>\n",
              "    <path d=\"M18.56 5.44l.94 2.06.94-2.06 2.06-.94-2.06-.94-.94-2.06-.94 2.06-2.06.94zm-11 1L8.5 8.5l.94-2.06 2.06-.94-2.06-.94L8.5 2.5l-.94 2.06-2.06.94zm10 10l.94 2.06.94-2.06 2.06-.94-2.06-.94-.94-2.06-.94 2.06-2.06.94z\"/><path d=\"M17.41 7.96l-1.37-1.37c-.4-.4-.92-.59-1.43-.59-.52 0-1.04.2-1.43.59L10.3 9.45l-7.72 7.72c-.78.78-.78 2.05 0 2.83L4 21.41c.39.39.9.59 1.41.59.51 0 1.02-.2 1.41-.59l7.78-7.78 2.81-2.81c.8-.78.8-2.07 0-2.86zM5.41 20L4 18.59l7.72-7.72 1.47 1.35L5.41 20z\"/>\n",
              "  </svg>\n",
              "      </button>\n",
              "      \n",
              "  <style>\n",
              "    .colab-df-container {\n",
              "      display:flex;\n",
              "      flex-wrap:wrap;\n",
              "      gap: 12px;\n",
              "    }\n",
              "\n",
              "    .colab-df-convert {\n",
              "      background-color: #E8F0FE;\n",
              "      border: none;\n",
              "      border-radius: 50%;\n",
              "      cursor: pointer;\n",
              "      display: none;\n",
              "      fill: #1967D2;\n",
              "      height: 32px;\n",
              "      padding: 0 0 0 0;\n",
              "      width: 32px;\n",
              "    }\n",
              "\n",
              "    .colab-df-convert:hover {\n",
              "      background-color: #E2EBFA;\n",
              "      box-shadow: 0px 1px 2px rgba(60, 64, 67, 0.3), 0px 1px 3px 1px rgba(60, 64, 67, 0.15);\n",
              "      fill: #174EA6;\n",
              "    }\n",
              "\n",
              "    [theme=dark] .colab-df-convert {\n",
              "      background-color: #3B4455;\n",
              "      fill: #D2E3FC;\n",
              "    }\n",
              "\n",
              "    [theme=dark] .colab-df-convert:hover {\n",
              "      background-color: #434B5C;\n",
              "      box-shadow: 0px 1px 3px 1px rgba(0, 0, 0, 0.15);\n",
              "      filter: drop-shadow(0px 1px 2px rgba(0, 0, 0, 0.3));\n",
              "      fill: #FFFFFF;\n",
              "    }\n",
              "  </style>\n",
              "\n",
              "      <script>\n",
              "        const buttonEl =\n",
              "          document.querySelector('#df-93ea8088-ee89-4cdc-8d36-804bd339453b button.colab-df-convert');\n",
              "        buttonEl.style.display =\n",
              "          google.colab.kernel.accessAllowed ? 'block' : 'none';\n",
              "\n",
              "        async function convertToInteractive(key) {\n",
              "          const element = document.querySelector('#df-93ea8088-ee89-4cdc-8d36-804bd339453b');\n",
              "          const dataTable =\n",
              "            await google.colab.kernel.invokeFunction('convertToInteractive',\n",
              "                                                     [key], {});\n",
              "          if (!dataTable) return;\n",
              "\n",
              "          const docLinkHtml = 'Like what you see? Visit the ' +\n",
              "            '<a target=\"_blank\" href=https://colab.research.google.com/notebooks/data_table.ipynb>data table notebook</a>'\n",
              "            + ' to learn more about interactive tables.';\n",
              "          element.innerHTML = '';\n",
              "          dataTable['output_type'] = 'display_data';\n",
              "          await google.colab.output.renderOutput(dataTable, element);\n",
              "          const docLink = document.createElement('div');\n",
              "          docLink.innerHTML = docLinkHtml;\n",
              "          element.appendChild(docLink);\n",
              "        }\n",
              "      </script>\n",
              "    </div>\n",
              "  </div>\n",
              "  "
            ]
          },
          "metadata": {},
          "execution_count": 27
        }
      ],
      "source": [
        "user.head()"
      ]
    },
    {
      "cell_type": "code",
      "execution_count": 28,
      "metadata": {
        "execution": {
          "iopub.execute_input": "2022-04-03T11:49:44.797236Z",
          "iopub.status.busy": "2022-04-03T11:49:44.796772Z",
          "iopub.status.idle": "2022-04-03T11:49:45.191036Z",
          "shell.execute_reply": "2022-04-03T11:49:45.190063Z",
          "shell.execute_reply.started": "2022-04-03T11:49:44.797194Z"
        },
        "id": "vmU3Ei_rvF6d",
        "outputId": "990f4602-e583-404b-a242-c25d3c1f7bea",
        "colab": {
          "base_uri": "https://localhost:8080/",
          "height": 1000
        }
      },
      "outputs": [
        {
          "output_type": "display_data",
          "data": {
            "text/plain": [
              "<Figure size 2160x2160 with 1 Axes>"
            ],
            "image/png": "[encoded data removed]"
          },
          "metadata": {
            "needs_background": "light"
          }
        }
      ],
      "source": [
        "x =user[\"read_percent\"]\n",
        "plt.hist(x, bins= [2*x for x in range(50)])\n",
        "plt.gca().set(title='Histogram',xlabel=\"Reading Time\");"
      ]
    },
    {
      "cell_type": "code",
      "execution_count": 29,
      "metadata": {
        "execution": {
          "iopub.execute_input": "2022-04-03T11:49:45.192341Z",
          "iopub.status.busy": "2022-04-03T11:49:45.192126Z",
          "iopub.status.idle": "2022-04-03T11:49:45.200551Z",
          "shell.execute_reply": "2022-04-03T11:49:45.199534Z",
          "shell.execute_reply.started": "2022-04-03T11:49:45.192315Z"
        },
        "id": "o1v9RR4JvF6e",
        "outputId": "c8e82caf-5f9e-45d6-d6c9-8cce7722404d",
        "colab": {
          "base_uri": "https://localhost:8080/"
        }
      },
      "outputs": [
        {
          "output_type": "execute_result",
          "data": {
            "text/plain": [
              "139"
            ]
          },
          "metadata": {},
          "execution_count": 29
        }
      ],
      "source": [
        "len(user[user[\"read_percent\"]>100])"
      ]
    },
    {
      "cell_type": "markdown",
      "metadata": {
        "id": "cErYZOlCvF6f"
      },
      "source": [
        "##### Read percent greater than 100 indicated technical glitch"
      ]
    },
    {
      "cell_type": "code",
      "execution_count": 30,
      "metadata": {
        "execution": {
          "iopub.execute_input": "2022-04-03T11:49:45.201898Z",
          "iopub.status.busy": "2022-04-03T11:49:45.201691Z",
          "iopub.status.idle": "2022-04-03T11:49:45.215413Z",
          "shell.execute_reply": "2022-04-03T11:49:45.214323Z",
          "shell.execute_reply.started": "2022-04-03T11:49:45.201866Z"
        },
        "id": "JIr27aIGvF6g",
        "outputId": "5aaa59b3-697b-47aa-a158-74078e6de48d",
        "colab": {
          "base_uri": "https://localhost:8080/"
        }
      },
      "outputs": [
        {
          "output_type": "execute_result",
          "data": {
            "text/plain": [
              "37773"
            ]
          },
          "metadata": {},
          "execution_count": 30
        }
      ],
      "source": [
        "len(user[user[\"read_percent\"]==0])"
      ]
    },
    {
      "cell_type": "markdown",
      "metadata": {
        "id": "eT-tcPZjvF6g"
      },
      "source": [
        "##### Read percent zero indicates glitch or due to abrupt open and close"
      ]
    },
    {
      "cell_type": "markdown",
      "metadata": {
        "id": "mX-BKMZnvF6h"
      },
      "source": [
        "## Distribution of date across updated at in interaction data and published at in metadata"
      ]
    },
    {
      "cell_type": "code",
      "execution_count": 31,
      "metadata": {
        "execution": {
          "iopub.execute_input": "2022-04-03T11:49:45.216937Z",
          "iopub.status.busy": "2022-04-03T11:49:45.216728Z",
          "iopub.status.idle": "2022-04-03T11:49:45.223399Z",
          "shell.execute_reply": "2022-04-03T11:49:45.222803Z",
          "shell.execute_reply.started": "2022-04-03T11:49:45.216911Z"
        },
        "id": "wDncyCfPvF6h",
        "outputId": "5db0219a-c78b-4dcc-ad30-c0b5fd8ebc3d",
        "colab": {
          "base_uri": "https://localhost:8080/"
        }
      },
      "outputs": [
        {
          "output_type": "execute_result",
          "data": {
            "text/plain": [
              "Index(['Unnamed: 0', 'user_id', 'pratilipi_id', 'read_percent', 'updated_at'], dtype='object')"
            ]
          },
          "metadata": {},
          "execution_count": 31
        }
      ],
      "source": [
        "user.columns"
      ]
    },
    {
      "cell_type": "code",
      "execution_count": 32,
      "metadata": {
        "execution": {
          "iopub.execute_input": "2022-04-03T11:49:45.228980Z",
          "iopub.status.busy": "2022-04-03T11:49:45.227918Z",
          "iopub.status.idle": "2022-04-03T11:49:45.371593Z",
          "shell.execute_reply": "2022-04-03T11:49:45.370938Z",
          "shell.execute_reply.started": "2022-04-03T11:49:45.228939Z"
        },
        "id": "nNNTUc7-vF6i",
        "outputId": "ce5c5831-445a-4496-8788-3ce323ce629c",
        "colab": {
          "base_uri": "https://localhost:8080/"
        }
      },
      "outputs": [
        {
          "output_type": "execute_result",
          "data": {
            "text/plain": [
              "('2022-03-23 00:08:26.227', '2022-03-18 15:14:41.771')"
            ]
          },
          "metadata": {},
          "execution_count": 32
        }
      ],
      "source": [
        "user['updated_at'].max(),user['updated_at'].min()"
      ]
    },
    {
      "cell_type": "code",
      "execution_count": 33,
      "metadata": {
        "execution": {
          "iopub.execute_input": "2022-04-03T11:49:45.373325Z",
          "iopub.status.busy": "2022-04-03T11:49:45.372689Z",
          "iopub.status.idle": "2022-04-03T11:49:45.378963Z",
          "shell.execute_reply": "2022-04-03T11:49:45.378113Z",
          "shell.execute_reply.started": "2022-04-03T11:49:45.373292Z"
        },
        "id": "kmu7EN_tvF6i",
        "outputId": "820442cf-af71-4497-8f7e-acfd2443a54a",
        "colab": {
          "base_uri": "https://localhost:8080/"
        }
      },
      "outputs": [
        {
          "output_type": "execute_result",
          "data": {
            "text/plain": [
              "dtype('O')"
            ]
          },
          "metadata": {},
          "execution_count": 33
        }
      ],
      "source": [
        "user['updated_at'].dtype"
      ]
    },
    {
      "cell_type": "code",
      "execution_count": 34,
      "metadata": {
        "execution": {
          "iopub.execute_input": "2022-04-03T11:49:45.380478Z",
          "iopub.status.busy": "2022-04-03T11:49:45.380244Z",
          "iopub.status.idle": "2022-04-03T11:49:45.575375Z",
          "shell.execute_reply": "2022-04-03T11:49:45.574438Z",
          "shell.execute_reply.started": "2022-04-03T11:49:45.380446Z"
        },
        "id": "V_wla4D0vF6j"
      },
      "outputs": [],
      "source": [
        "user['updated_at'] = user['updated_at'].astype(\"datetime64\")"
      ]
    },
    {
      "cell_type": "code",
      "execution_count": 35,
      "metadata": {
        "execution": {
          "iopub.execute_input": "2022-04-03T11:49:45.577028Z",
          "iopub.status.busy": "2022-04-03T11:49:45.576726Z",
          "iopub.status.idle": "2022-04-03T11:49:45.586025Z",
          "shell.execute_reply": "2022-04-03T11:49:45.585340Z",
          "shell.execute_reply.started": "2022-04-03T11:49:45.576988Z"
        },
        "id": "PeT145XkvF6j",
        "outputId": "ff1e10bd-ff46-42f3-fd58-468a21c9fe23",
        "colab": {
          "base_uri": "https://localhost:8080/"
        }
      },
      "outputs": [
        {
          "output_type": "execute_result",
          "data": {
            "text/plain": [
              "dtype('<M8[ns]')"
            ]
          },
          "metadata": {},
          "execution_count": 35
        }
      ],
      "source": [
        "user['updated_at'].dtype"
      ]
    },
    {
      "cell_type": "code",
      "execution_count": 36,
      "metadata": {
        "execution": {
          "iopub.execute_input": "2022-04-03T11:49:45.588603Z",
          "iopub.status.busy": "2022-04-03T11:49:45.587893Z",
          "iopub.status.idle": "2022-04-03T11:49:45.931323Z",
          "shell.execute_reply": "2022-04-03T11:49:45.930712Z",
          "shell.execute_reply.started": "2022-04-03T11:49:45.588557Z"
        },
        "id": "_V-7ib2UvF6k",
        "outputId": "6956cdcc-9aca-4581-c1b6-5e4a7ec33538",
        "colab": {
          "base_uri": "https://localhost:8080/",
          "height": 1000
        }
      },
      "outputs": [
        {
          "output_type": "execute_result",
          "data": {
            "text/plain": [
              "<matplotlib.axes._subplots.AxesSubplot at 0x7f979afdb890>"
            ]
          },
          "metadata": {},
          "execution_count": 36
        },
        {
          "output_type": "display_data",
          "data": {
            "text/plain": [
              "<Figure size 2160x2160 with 1 Axes>"
            ],
            "image/png": "[encoded data removed]"
          },
          "metadata": {
            "needs_background": "light"
          }
        }
      ],
      "source": [
        "user[\"updated_at\"].groupby(user[\"updated_at\"].dt.hour).count().plot(kind=\"bar\")"
      ]
    },
    {
      "cell_type": "markdown",
      "metadata": {
        "id": "AVSSxSMOvF6k"
      },
      "source": [
        " 3pm to 7pm is the peak time"
      ]
    },
    {
      "cell_type": "markdown",
      "metadata": {
        "id": "JIYfybztvF6o"
      },
      "source": [
        "## EDA summary"
      ]
    },
    {
      "cell_type": "code",
      "execution_count": 37,
      "metadata": {
        "execution": {
          "iopub.execute_input": "2022-04-03T11:49:47.384680Z",
          "iopub.status.busy": "2022-04-03T11:49:47.384054Z",
          "iopub.status.idle": "2022-04-03T11:49:47.394216Z",
          "shell.execute_reply": "2022-04-03T11:49:47.393464Z",
          "shell.execute_reply.started": "2022-04-03T11:49:47.384646Z"
        },
        "id": "skfax6LEvF6o",
        "outputId": "74687c66-60c9-455f-da05-76d0fe5959b9",
        "colab": {
          "base_uri": "https://localhost:8080/",
          "height": 206
        }
      },
      "outputs": [
        {
          "output_type": "execute_result",
          "data": {
            "text/plain": [
              "   Unnamed: 0           user_id      pratilipi_id  read_percent  \\\n",
              "0           0  5506791963854965  1377786220672965         100.0   \n",
              "1           1  5506791979071996  1377786219742624          29.0   \n",
              "2           2  5506791980256358  1377786217096334          22.0   \n",
              "3           3  5506791988747277  1377786224767880         100.0   \n",
              "4           4  5506791992372558  1377786218111595         100.0   \n",
              "\n",
              "               updated_at  \n",
              "0 2022-03-23 00:08:26.227  \n",
              "1 2022-03-23 00:08:26.220  \n",
              "2 2022-03-23 00:08:26.020  \n",
              "3 2022-03-23 00:08:25.306  \n",
              "4 2022-03-23 00:08:25.250  "
            ],
            "text/html": [
              "\n",
              "  <div id=\"df-73a0cb0a-280f-4200-84eb-014b4535b91b\">\n",
              "    <div class=\"colab-df-container\">\n",
              "      <div>\n",
              "<style scoped>\n",
              "    .dataframe tbody tr th:only-of-type {\n",
              "        vertical-align: middle;\n",
              "    }\n",
              "\n",
              "    .dataframe tbody tr th {\n",
              "        vertical-align: top;\n",
              "    }\n",
              "\n",
              "    .dataframe thead th {\n",
              "        text-align: right;\n",
              "    }\n",
              "</style>\n",
              "<table border=\"1\" class=\"dataframe\">\n",
              "  <thead>\n",
              "    <tr style=\"text-align: right;\">\n",
              "      <th></th>\n",
              "      <th>Unnamed: 0</th>\n",
              "      <th>user_id</th>\n",
              "      <th>pratilipi_id</th>\n",
              "      <th>read_percent</th>\n",
              "      <th>updated_at</th>\n",
              "    </tr>\n",
              "  </thead>\n",
              "  <tbody>\n",
              "    <tr>\n",
              "      <th>0</th>\n",
              "      <td>0</td>\n",
              "      <td>5506791963854965</td>\n",
              "      <td>1377786220672965</td>\n",
              "      <td>100.0</td>\n",
              "      <td>2022-03-23 00:08:26.227</td>\n",
              "    </tr>\n",
              "    <tr>\n",
              "      <th>1</th>\n",
              "      <td>1</td>\n",
              "      <td>5506791979071996</td>\n",
              "      <td>1377786219742624</td>\n",
              "      <td>29.0</td>\n",
              "      <td>2022-03-23 00:08:26.220</td>\n",
              "    </tr>\n",
              "    <tr>\n",
              "      <th>2</th>\n",
              "      <td>2</td>\n",
              "      <td>5506791980256358</td>\n",
              "      <td>1377786217096334</td>\n",
              "      <td>22.0</td>\n",
              "      <td>2022-03-23 00:08:26.020</td>\n",
              "    </tr>\n",
              "    <tr>\n",
              "      <th>3</th>\n",
              "      <td>3</td>\n",
              "      <td>5506791988747277</td>\n",
              "      <td>1377786224767880</td>\n",
              "      <td>100.0</td>\n",
              "      <td>2022-03-23 00:08:25.306</td>\n",
              "    </tr>\n",
              "    <tr>\n",
              "      <th>4</th>\n",
              "      <td>4</td>\n",
              "      <td>5506791992372558</td>\n",
              "      <td>1377786218111595</td>\n",
              "      <td>100.0</td>\n",
              "      <td>2022-03-23 00:08:25.250</td>\n",
              "    </tr>\n",
              "  </tbody>\n",
              "</table>\n",
              "</div>\n",
              "      <button class=\"colab-df-convert\" onclick=\"convertToInteractive('df-73a0cb0a-280f-4200-84eb-014b4535b91b')\"\n",
              "              title=\"Convert this dataframe to an interactive table.\"\n",
              "              style=\"display:none;\">\n",
              "        \n",
              "  <svg xmlns=\"http://www.w3.org/2000/svg\" height=\"24px\"viewBox=\"0 0 24 24\"\n",
              "       width=\"24px\">\n",
              "    <path d=\"M0 0h24v24H0V0z\" fill=\"none\"/>\n",
              "    <path d=\"M18.56 5.44l.94 2.06.94-2.06 2.06-.94-2.06-.94-.94-2.06-.94 2.06-2.06.94zm-11 1L8.5 8.5l.94-2.06 2.06-.94-2.06-.94L8.5 2.5l-.94 2.06-2.06.94zm10 10l.94 2.06.94-2.06 2.06-.94-2.06-.94-.94-2.06-.94 2.06-2.06.94z\"/><path d=\"M17.41 7.96l-1.37-1.37c-.4-.4-.92-.59-1.43-.59-.52 0-1.04.2-1.43.59L10.3 9.45l-7.72 7.72c-.78.78-.78 2.05 0 2.83L4 21.41c.39.39.9.59 1.41.59.51 0 1.02-.2 1.41-.59l7.78-7.78 2.81-2.81c.8-.78.8-2.07 0-2.86zM5.41 20L4 18.59l7.72-7.72 1.47 1.35L5.41 20z\"/>\n",
              "  </svg>\n",
              "      </button>\n",
              "      \n",
              "  <style>\n",
              "    .colab-df-container {\n",
              "      display:flex;\n",
              "      flex-wrap:wrap;\n",
              "      gap: 12px;\n",
              "    }\n",
              "\n",
              "    .colab-df-convert {\n",
              "      background-color: #E8F0FE;\n",
              "      border: none;\n",
              "      border-radius: 50%;\n",
              "      cursor: pointer;\n",
              "      display: none;\n",
              "      fill: #1967D2;\n",
              "      height: 32px;\n",
              "      padding: 0 0 0 0;\n",
              "      width: 32px;\n",
              "    }\n",
              "\n",
              "    .colab-df-convert:hover {\n",
              "      background-color: #E2EBFA;\n",
              "      box-shadow: 0px 1px 2px rgba(60, 64, 67, 0.3), 0px 1px 3px 1px rgba(60, 64, 67, 0.15);\n",
              "      fill: #174EA6;\n",
              "    }\n",
              "\n",
              "    [theme=dark] .colab-df-convert {\n",
              "      background-color: #3B4455;\n",
              "      fill: #D2E3FC;\n",
              "    }\n",
              "\n",
              "    [theme=dark] .colab-df-convert:hover {\n",
              "      background-color: #434B5C;\n",
              "      box-shadow: 0px 1px 3px 1px rgba(0, 0, 0, 0.15);\n",
              "      filter: drop-shadow(0px 1px 2px rgba(0, 0, 0, 0.3));\n",
              "      fill: #FFFFFF;\n",
              "    }\n",
              "  </style>\n",
              "\n",
              "      <script>\n",
              "        const buttonEl =\n",
              "          document.querySelector('#df-73a0cb0a-280f-4200-84eb-014b4535b91b button.colab-df-convert');\n",
              "        buttonEl.style.display =\n",
              "          google.colab.kernel.accessAllowed ? 'block' : 'none';\n",
              "\n",
              "        async function convertToInteractive(key) {\n",
              "          const element = document.querySelector('#df-73a0cb0a-280f-4200-84eb-014b4535b91b');\n",
              "          const dataTable =\n",
              "            await google.colab.kernel.invokeFunction('convertToInteractive',\n",
              "                                                     [key], {});\n",
              "          if (!dataTable) return;\n",
              "\n",
              "          const docLinkHtml = 'Like what you see? Visit the ' +\n",
              "            '<a target=\"_blank\" href=https://colab.research.google.com/notebooks/data_table.ipynb>data table notebook</a>'\n",
              "            + ' to learn more about interactive tables.';\n",
              "          element.innerHTML = '';\n",
              "          dataTable['output_type'] = 'display_data';\n",
              "          await google.colab.output.renderOutput(dataTable, element);\n",
              "          const docLink = document.createElement('div');\n",
              "          docLink.innerHTML = docLinkHtml;\n",
              "          element.appendChild(docLink);\n",
              "        }\n",
              "      </script>\n",
              "    </div>\n",
              "  </div>\n",
              "  "
            ]
          },
          "metadata": {},
          "execution_count": 37
        }
      ],
      "source": [
        "user.head()"
      ]
    },
    {
      "cell_type": "code",
      "execution_count": 38,
      "metadata": {
        "execution": {
          "iopub.execute_input": "2022-04-03T11:49:47.396065Z",
          "iopub.status.busy": "2022-04-03T11:49:47.395160Z",
          "iopub.status.idle": "2022-04-03T11:49:47.415661Z",
          "shell.execute_reply": "2022-04-03T11:49:47.414740Z",
          "shell.execute_reply.started": "2022-04-03T11:49:47.396021Z"
        },
        "id": "-zCXYyUUvF6p",
        "outputId": "a6f5d1eb-80b7-4ae4-bbde-f525e5b0774e",
        "colab": {
          "base_uri": "https://localhost:8080/",
          "height": 206
        }
      },
      "outputs": [
        {
          "output_type": "execute_result",
          "data": {
            "text/plain": [
              "          author_id      pratilipi_id category_name  reading_time  \\\n",
              "0 -3418949279741297  1025741862639304   translation             0   \n",
              "1 -2270332351871840  1377786215601277   translation           171   \n",
              "2 -2270332352037261  1377786215601962   translation            92   \n",
              "3 -2270332352521845  1377786215640994   translation             0   \n",
              "4 -2270332349665658  1377786215931338   translation            47   \n",
              "\n",
              "            updated_at         published_at  \n",
              "0  2020-08-19 15:26:13  2016-09-30 10:37:04  \n",
              "1  2021-01-21 16:27:07  2018-06-11 13:17:48  \n",
              "2  2020-09-29 12:33:57  2018-06-12 04:19:12  \n",
              "3  2019-10-17 09:03:37  2019-09-26 14:58:53  \n",
              "4  2020-05-05 11:33:41  2018-11-25 12:28:23  "
            ],
            "text/html": [
              "\n",
              "  <div id=\"df-f128cf1c-ab4d-402a-b3e9-4e534d2ca6cc\">\n",
              "    <div class=\"colab-df-container\">\n",
              "      <div>\n",
              "<style scoped>\n",
              "    .dataframe tbody tr th:only-of-type {\n",
              "        vertical-align: middle;\n",
              "    }\n",
              "\n",
              "    .dataframe tbody tr th {\n",
              "        vertical-align: top;\n",
              "    }\n",
              "\n",
              "    .dataframe thead th {\n",
              "        text-align: right;\n",
              "    }\n",
              "</style>\n",
              "<table border=\"1\" class=\"dataframe\">\n",
              "  <thead>\n",
              "    <tr style=\"text-align: right;\">\n",
              "      <th></th>\n",
              "      <th>author_id</th>\n",
              "      <th>pratilipi_id</th>\n",
              "      <th>category_name</th>\n",
              "      <th>reading_time</th>\n",
              "      <th>updated_at</th>\n",
              "      <th>published_at</th>\n",
              "    </tr>\n",
              "  </thead>\n",
              "  <tbody>\n",
              "    <tr>\n",
              "      <th>0</th>\n",
              "      <td>-3418949279741297</td>\n",
              "      <td>1025741862639304</td>\n",
              "      <td>translation</td>\n",
              "      <td>0</td>\n",
              "      <td>2020-08-19 15:26:13</td>\n",
              "      <td>2016-09-30 10:37:04</td>\n",
              "    </tr>\n",
              "    <tr>\n",
              "      <th>1</th>\n",
              "      <td>-2270332351871840</td>\n",
              "      <td>1377786215601277</td>\n",
              "      <td>translation</td>\n",
              "      <td>171</td>\n",
              "      <td>2021-01-21 16:27:07</td>\n",
              "      <td>2018-06-11 13:17:48</td>\n",
              "    </tr>\n",
              "    <tr>\n",
              "      <th>2</th>\n",
              "      <td>-2270332352037261</td>\n",
              "      <td>1377786215601962</td>\n",
              "      <td>translation</td>\n",
              "      <td>92</td>\n",
              "      <td>2020-09-29 12:33:57</td>\n",
              "      <td>2018-06-12 04:19:12</td>\n",
              "    </tr>\n",
              "    <tr>\n",
              "      <th>3</th>\n",
              "      <td>-2270332352521845</td>\n",
              "      <td>1377786215640994</td>\n",
              "      <td>translation</td>\n",
              "      <td>0</td>\n",
              "      <td>2019-10-17 09:03:37</td>\n",
              "      <td>2019-09-26 14:58:53</td>\n",
              "    </tr>\n",
              "    <tr>\n",
              "      <th>4</th>\n",
              "      <td>-2270332349665658</td>\n",
              "      <td>1377786215931338</td>\n",
              "      <td>translation</td>\n",
              "      <td>47</td>\n",
              "      <td>2020-05-05 11:33:41</td>\n",
              "      <td>2018-11-25 12:28:23</td>\n",
              "    </tr>\n",
              "  </tbody>\n",
              "</table>\n",
              "</div>\n",
              "      <button class=\"colab-df-convert\" onclick=\"convertToInteractive('df-f128cf1c-ab4d-402a-b3e9-4e534d2ca6cc')\"\n",
              "              title=\"Convert this dataframe to an interactive table.\"\n",
              "              style=\"display:none;\">\n",
              "        \n",
              "  <svg xmlns=\"http://www.w3.org/2000/svg\" height=\"24px\"viewBox=\"0 0 24 24\"\n",
              "       width=\"24px\">\n",
              "    <path d=\"M0 0h24v24H0V0z\" fill=\"none\"/>\n",
              "    <path d=\"M18.56 5.44l.94 2.06.94-2.06 2.06-.94-2.06-.94-.94-2.06-.94 2.06-2.06.94zm-11 1L8.5 8.5l.94-2.06 2.06-.94-2.06-.94L8.5 2.5l-.94 2.06-2.06.94zm10 10l.94 2.06.94-2.06 2.06-.94-2.06-.94-.94-2.06-.94 2.06-2.06.94z\"/><path d=\"M17.41 7.96l-1.37-1.37c-.4-.4-.92-.59-1.43-.59-.52 0-1.04.2-1.43.59L10.3 9.45l-7.72 7.72c-.78.78-.78 2.05 0 2.83L4 21.41c.39.39.9.59 1.41.59.51 0 1.02-.2 1.41-.59l7.78-7.78 2.81-2.81c.8-.78.8-2.07 0-2.86zM5.41 20L4 18.59l7.72-7.72 1.47 1.35L5.41 20z\"/>\n",
              "  </svg>\n",
              "      </button>\n",
              "      \n",
              "  <style>\n",
              "    .colab-df-container {\n",
              "      display:flex;\n",
              "      flex-wrap:wrap;\n",
              "      gap: 12px;\n",
              "    }\n",
              "\n",
              "    .colab-df-convert {\n",
              "      background-color: #E8F0FE;\n",
              "      border: none;\n",
              "      border-radius: 50%;\n",
              "      cursor: pointer;\n",
              "      display: none;\n",
              "      fill: #1967D2;\n",
              "      height: 32px;\n",
              "      padding: 0 0 0 0;\n",
              "      width: 32px;\n",
              "    }\n",
              "\n",
              "    .colab-df-convert:hover {\n",
              "      background-color: #E2EBFA;\n",
              "      box-shadow: 0px 1px 2px rgba(60, 64, 67, 0.3), 0px 1px 3px 1px rgba(60, 64, 67, 0.15);\n",
              "      fill: #174EA6;\n",
              "    }\n",
              "\n",
              "    [theme=dark] .colab-df-convert {\n",
              "      background-color: #3B4455;\n",
              "      fill: #D2E3FC;\n",
              "    }\n",
              "\n",
              "    [theme=dark] .colab-df-convert:hover {\n",
              "      background-color: #434B5C;\n",
              "      box-shadow: 0px 1px 3px 1px rgba(0, 0, 0, 0.15);\n",
              "      filter: drop-shadow(0px 1px 2px rgba(0, 0, 0, 0.3));\n",
              "      fill: #FFFFFF;\n",
              "    }\n",
              "  </style>\n",
              "\n",
              "      <script>\n",
              "        const buttonEl =\n",
              "          document.querySelector('#df-f128cf1c-ab4d-402a-b3e9-4e534d2ca6cc button.colab-df-convert');\n",
              "        buttonEl.style.display =\n",
              "          google.colab.kernel.accessAllowed ? 'block' : 'none';\n",
              "\n",
              "        async function convertToInteractive(key) {\n",
              "          const element = document.querySelector('#df-f128cf1c-ab4d-402a-b3e9-4e534d2ca6cc');\n",
              "          const dataTable =\n",
              "            await google.colab.kernel.invokeFunction('convertToInteractive',\n",
              "                                                     [key], {});\n",
              "          if (!dataTable) return;\n",
              "\n",
              "          const docLinkHtml = 'Like what you see? Visit the ' +\n",
              "            '<a target=\"_blank\" href=https://colab.research.google.com/notebooks/data_table.ipynb>data table notebook</a>'\n",
              "            + ' to learn more about interactive tables.';\n",
              "          element.innerHTML = '';\n",
              "          dataTable['output_type'] = 'display_data';\n",
              "          await google.colab.output.renderOutput(dataTable, element);\n",
              "          const docLink = document.createElement('div');\n",
              "          docLink.innerHTML = docLinkHtml;\n",
              "          element.appendChild(docLink);\n",
              "        }\n",
              "      </script>\n",
              "    </div>\n",
              "  </div>\n",
              "  "
            ]
          },
          "metadata": {},
          "execution_count": 38
        }
      ],
      "source": [
        "meta.head()"
      ]
    },
    {
      "cell_type": "markdown",
      "metadata": {
        "id": "z87QG6ZyvF6q"
      },
      "source": [
        "## Feature Engineering,Data cleaning"
      ]
    },
    {
      "cell_type": "code",
      "execution_count": 39,
      "metadata": {
        "execution": {
          "iopub.execute_input": "2022-04-03T11:49:47.429109Z",
          "iopub.status.busy": "2022-04-03T11:49:47.428641Z",
          "iopub.status.idle": "2022-04-03T11:49:47.677463Z",
          "shell.execute_reply": "2022-04-03T11:49:47.676760Z",
          "shell.execute_reply.started": "2022-04-03T11:49:47.429076Z"
        },
        "id": "Y7ojPDCxvF6s"
      },
      "outputs": [],
      "source": [
        "## converting >100 percent to 100\n",
        "user['read_percent'] = user['read_percent'].apply(lambda x: x if x<=100 else 100)"
      ]
    },
    {
      "cell_type": "code",
      "execution_count": 40,
      "metadata": {
        "execution": {
          "iopub.execute_input": "2022-04-03T11:49:47.678732Z",
          "iopub.status.busy": "2022-04-03T11:49:47.678480Z",
          "iopub.status.idle": "2022-04-03T11:49:47.685842Z",
          "shell.execute_reply": "2022-04-03T11:49:47.685128Z",
          "shell.execute_reply.started": "2022-04-03T11:49:47.678702Z"
        },
        "id": "VF8yqHXPvF6s",
        "outputId": "b565c725-1de9-4771-f7b1-1d9475f347a6",
        "colab": {
          "base_uri": "https://localhost:8080/"
        }
      },
      "outputs": [
        {
          "output_type": "execute_result",
          "data": {
            "text/plain": [
              "0"
            ]
          },
          "metadata": {},
          "execution_count": 40
        }
      ],
      "source": [
        "len(user[user[\"read_percent\"]>100])\n",
        "#"
      ]
    },
    {
      "cell_type": "markdown",
      "metadata": {
        "id": "CGT3A0lhvF6s"
      },
      "source": [
        "#### We will also remove interaction of those users having less than 20 interaction. \n",
        "* It will be hard to recommend to new users in collobrative system so not including <10 interactions"
      ]
    },
    {
      "cell_type": "code",
      "execution_count": 41,
      "metadata": {
        "execution": {
          "iopub.execute_input": "2022-04-03T11:49:47.687263Z",
          "iopub.status.busy": "2022-04-03T11:49:47.686989Z",
          "iopub.status.idle": "2022-04-03T11:49:47.777263Z",
          "shell.execute_reply": "2022-04-03T11:49:47.776255Z",
          "shell.execute_reply.started": "2022-04-03T11:49:47.687232Z"
        },
        "id": "7-evwBWtvF6t"
      },
      "outputs": [],
      "source": [
        "countd = user.groupby('user_id').count()"
      ]
    },
    {
      "cell_type": "code",
      "execution_count": 42,
      "metadata": {
        "execution": {
          "iopub.execute_input": "2022-04-03T11:49:47.779172Z",
          "iopub.status.busy": "2022-04-03T11:49:47.778347Z",
          "iopub.status.idle": "2022-04-03T11:49:47.787437Z",
          "shell.execute_reply": "2022-04-03T11:49:47.786799Z",
          "shell.execute_reply.started": "2022-04-03T11:49:47.779137Z"
        },
        "id": "MwUAoK-1vF6t",
        "outputId": "cfa69f03-b97e-455e-ebcc-34f0efdba399",
        "colab": {
          "base_uri": "https://localhost:8080/",
          "height": 237
        }
      },
      "outputs": [
        {
          "output_type": "execute_result",
          "data": {
            "text/plain": [
              "                  Unnamed: 0  pratilipi_id  read_percent  updated_at\n",
              "user_id                                                             \n",
              "3255387601412772           2             2             2           2\n",
              "3256456725308068           1             1             1           1\n",
              "3257398541066916           8             8             8           8\n",
              "3257552805995172          30            30            30          30\n",
              "3257621147984548           5             5             5           5"
            ],
            "text/html": [
              "\n",
              "  <div id=\"df-13dd2214-c688-4fe0-9033-59990af71c1a\">\n",
              "    <div class=\"colab-df-container\">\n",
              "      <div>\n",
              "<style scoped>\n",
              "    .dataframe tbody tr th:only-of-type {\n",
              "        vertical-align: middle;\n",
              "    }\n",
              "\n",
              "    .dataframe tbody tr th {\n",
              "        vertical-align: top;\n",
              "    }\n",
              "\n",
              "    .dataframe thead th {\n",
              "        text-align: right;\n",
              "    }\n",
              "</style>\n",
              "<table border=\"1\" class=\"dataframe\">\n",
              "  <thead>\n",
              "    <tr style=\"text-align: right;\">\n",
              "      <th></th>\n",
              "      <th>Unnamed: 0</th>\n",
              "      <th>pratilipi_id</th>\n",
              "      <th>read_percent</th>\n",
              "      <th>updated_at</th>\n",
              "    </tr>\n",
              "    <tr>\n",
              "      <th>user_id</th>\n",
              "      <th></th>\n",
              "      <th></th>\n",
              "      <th></th>\n",
              "      <th></th>\n",
              "    </tr>\n",
              "  </thead>\n",
              "  <tbody>\n",
              "    <tr>\n",
              "      <th>3255387601412772</th>\n",
              "      <td>2</td>\n",
              "      <td>2</td>\n",
              "      <td>2</td>\n",
              "      <td>2</td>\n",
              "    </tr>\n",
              "    <tr>\n",
              "      <th>3256456725308068</th>\n",
              "      <td>1</td>\n",
              "      <td>1</td>\n",
              "      <td>1</td>\n",
              "      <td>1</td>\n",
              "    </tr>\n",
              "    <tr>\n",
              "      <th>3257398541066916</th>\n",
              "      <td>8</td>\n",
              "      <td>8</td>\n",
              "      <td>8</td>\n",
              "      <td>8</td>\n",
              "    </tr>\n",
              "    <tr>\n",
              "      <th>3257552805995172</th>\n",
              "      <td>30</td>\n",
              "      <td>30</td>\n",
              "      <td>30</td>\n",
              "      <td>30</td>\n",
              "    </tr>\n",
              "    <tr>\n",
              "      <th>3257621147984548</th>\n",
              "      <td>5</td>\n",
              "      <td>5</td>\n",
              "      <td>5</td>\n",
              "      <td>5</td>\n",
              "    </tr>\n",
              "  </tbody>\n",
              "</table>\n",
              "</div>\n",
              "      <button class=\"colab-df-convert\" onclick=\"convertToInteractive('df-13dd2214-c688-4fe0-9033-59990af71c1a')\"\n",
              "              title=\"Convert this dataframe to an interactive table.\"\n",
              "              style=\"display:none;\">\n",
              "        \n",
              "  <svg xmlns=\"http://www.w3.org/2000/svg\" height=\"24px\"viewBox=\"0 0 24 24\"\n",
              "       width=\"24px\">\n",
              "    <path d=\"M0 0h24v24H0V0z\" fill=\"none\"/>\n",
              "    <path d=\"M18.56 5.44l.94 2.06.94-2.06 2.06-.94-2.06-.94-.94-2.06-.94 2.06-2.06.94zm-11 1L8.5 8.5l.94-2.06 2.06-.94-2.06-.94L8.5 2.5l-.94 2.06-2.06.94zm10 10l.94 2.06.94-2.06 2.06-.94-2.06-.94-.94-2.06-.94 2.06-2.06.94z\"/><path d=\"M17.41 7.96l-1.37-1.37c-.4-.4-.92-.59-1.43-.59-.52 0-1.04.2-1.43.59L10.3 9.45l-7.72 7.72c-.78.78-.78 2.05 0 2.83L4 21.41c.39.39.9.59 1.41.59.51 0 1.02-.2 1.41-.59l7.78-7.78 2.81-2.81c.8-.78.8-2.07 0-2.86zM5.41 20L4 18.59l7.72-7.72 1.47 1.35L5.41 20z\"/>\n",
              "  </svg>\n",
              "      </button>\n",
              "      \n",
              "  <style>\n",
              "    .colab-df-container {\n",
              "      display:flex;\n",
              "      flex-wrap:wrap;\n",
              "      gap: 12px;\n",
              "    }\n",
              "\n",
              "    .colab-df-convert {\n",
              "      background-color: #E8F0FE;\n",
              "      border: none;\n",
              "      border-radius: 50%;\n",
              "      cursor: pointer;\n",
              "      display: none;\n",
              "      fill: #1967D2;\n",
              "      height: 32px;\n",
              "      padding: 0 0 0 0;\n",
              "      width: 32px;\n",
              "    }\n",
              "\n",
              "    .colab-df-convert:hover {\n",
              "      background-color: #E2EBFA;\n",
              "      box-shadow: 0px 1px 2px rgba(60, 64, 67, 0.3), 0px 1px 3px 1px rgba(60, 64, 67, 0.15);\n",
              "      fill: #174EA6;\n",
              "    }\n",
              "\n",
              "    [theme=dark] .colab-df-convert {\n",
              "      background-color: #3B4455;\n",
              "      fill: #D2E3FC;\n",
              "    }\n",
              "\n",
              "    [theme=dark] .colab-df-convert:hover {\n",
              "      background-color: #434B5C;\n",
              "      box-shadow: 0px 1px 3px 1px rgba(0, 0, 0, 0.15);\n",
              "      filter: drop-shadow(0px 1px 2px rgba(0, 0, 0, 0.3));\n",
              "      fill: #FFFFFF;\n",
              "    }\n",
              "  </style>\n",
              "\n",
              "      <script>\n",
              "        const buttonEl =\n",
              "          document.querySelector('#df-13dd2214-c688-4fe0-9033-59990af71c1a button.colab-df-convert');\n",
              "        buttonEl.style.display =\n",
              "          google.colab.kernel.accessAllowed ? 'block' : 'none';\n",
              "\n",
              "        async function convertToInteractive(key) {\n",
              "          const element = document.querySelector('#df-13dd2214-c688-4fe0-9033-59990af71c1a');\n",
              "          const dataTable =\n",
              "            await google.colab.kernel.invokeFunction('convertToInteractive',\n",
              "                                                     [key], {});\n",
              "          if (!dataTable) return;\n",
              "\n",
              "          const docLinkHtml = 'Like what you see? Visit the ' +\n",
              "            '<a target=\"_blank\" href=https://colab.research.google.com/notebooks/data_table.ipynb>data table notebook</a>'\n",
              "            + ' to learn more about interactive tables.';\n",
              "          element.innerHTML = '';\n",
              "          dataTable['output_type'] = 'display_data';\n",
              "          await google.colab.output.renderOutput(dataTable, element);\n",
              "          const docLink = document.createElement('div');\n",
              "          docLink.innerHTML = docLinkHtml;\n",
              "          element.appendChild(docLink);\n",
              "        }\n",
              "      </script>\n",
              "    </div>\n",
              "  </div>\n",
              "  "
            ]
          },
          "metadata": {},
          "execution_count": 42
        }
      ],
      "source": [
        "countd.head()"
      ]
    },
    {
      "cell_type": "code",
      "execution_count": 43,
      "metadata": {
        "execution": {
          "iopub.execute_input": "2022-04-03T11:49:47.788938Z",
          "iopub.status.busy": "2022-04-03T11:49:47.788292Z",
          "iopub.status.idle": "2022-04-03T11:49:47.847689Z",
          "shell.execute_reply": "2022-04-03T11:49:47.846885Z",
          "shell.execute_reply.started": "2022-04-03T11:49:47.788908Z"
        },
        "id": "-Ff4RJTyvF6t"
      },
      "outputs": [],
      "source": [
        "user = user.loc[user['user_id'].isin(countd[countd['pratilipi_id'] > 10].index)].reset_index(drop = True)"
      ]
    },
    {
      "cell_type": "code",
      "execution_count": 44,
      "metadata": {
        "execution": {
          "iopub.execute_input": "2022-04-03T11:49:47.849218Z",
          "iopub.status.busy": "2022-04-03T11:49:47.848977Z",
          "iopub.status.idle": "2022-04-03T11:49:47.855056Z",
          "shell.execute_reply": "2022-04-03T11:49:47.854078Z",
          "shell.execute_reply.started": "2022-04-03T11:49:47.849188Z"
        },
        "id": "ItgzF1OevF6u",
        "outputId": "126f5652-291d-45fe-e486-568dbb8544d6",
        "colab": {
          "base_uri": "https://localhost:8080/"
        }
      },
      "outputs": [
        {
          "output_type": "execute_result",
          "data": {
            "text/plain": [
              "(9305120, 5)"
            ]
          },
          "metadata": {},
          "execution_count": 44
        }
      ],
      "source": [
        "user.shape"
      ]
    },
    {
      "cell_type": "code",
      "execution_count": 45,
      "metadata": {
        "execution": {
          "iopub.execute_input": "2022-04-03T11:49:47.886192Z",
          "iopub.status.busy": "2022-04-03T11:49:47.885878Z",
          "iopub.status.idle": "2022-04-03T11:49:48.020886Z",
          "shell.execute_reply": "2022-04-03T11:49:48.020149Z",
          "shell.execute_reply.started": "2022-04-03T11:49:47.886152Z"
        },
        "id": "CECQDfOCvF6v",
        "outputId": "f65d6c66-5a9f-4819-d12d-1e54006ed8f3",
        "colab": {
          "base_uri": "https://localhost:8080/"
        }
      },
      "outputs": [
        {
          "output_type": "execute_result",
          "data": {
            "text/plain": [
              "486693"
            ]
          },
          "metadata": {},
          "execution_count": 45
        }
      ],
      "source": [
        "# Number of duplicates left after droping in pratilipi are 486693\n",
        "len(meta.drop_duplicates(subset = [\"pratilipi_id\"]))"
      ]
    },
    {
      "cell_type": "code",
      "execution_count": 46,
      "metadata": {
        "execution": {
          "iopub.execute_input": "2022-04-03T11:49:48.022577Z",
          "iopub.status.busy": "2022-04-03T11:49:48.021753Z",
          "iopub.status.idle": "2022-04-03T11:50:29.086899Z",
          "shell.execute_reply": "2022-04-03T11:50:29.085930Z",
          "shell.execute_reply.started": "2022-04-03T11:49:48.022541Z"
        },
        "id": "CsqnM8R0vF6w"
      },
      "outputs": [],
      "source": [
        "dict1 = {'category_name':lambda x: list(x), \n",
        "     'updated_at':'max',\n",
        "     'published_at' : 'min',\n",
        "     \"reading_time\" : \"mean\"\n",
        "    }\n",
        "\n",
        "meta = meta.groupby(['author_id', 'pratilipi_id']).agg(dict1).reset_index()"
      ]
    },
    {
      "cell_type": "code",
      "execution_count": 47,
      "metadata": {
        "execution": {
          "iopub.execute_input": "2022-04-03T11:50:29.088425Z",
          "iopub.status.busy": "2022-04-03T11:50:29.088208Z",
          "iopub.status.idle": "2022-04-03T11:50:29.103048Z",
          "shell.execute_reply": "2022-04-03T11:50:29.101937Z",
          "shell.execute_reply.started": "2022-04-03T11:50:29.088399Z"
        },
        "id": "S4eLBvMIvF6w",
        "outputId": "07092768-831c-4acb-808a-c80362625431",
        "colab": {
          "base_uri": "https://localhost:8080/",
          "height": 206
        }
      },
      "outputs": [
        {
          "output_type": "execute_result",
          "data": {
            "text/plain": [
              "          author_id      pratilipi_id                        category_name  \\\n",
              "0 -9070332352853360   312572401325768           [novels, politics, social]   \n",
              "1 -9070332352853358   -96530313603384                             [horror]   \n",
              "2 -4566636240762225  1377786218853788          [novels, romance, suspense]   \n",
              "3 -4566636240762225  1377786218889274          [novels, romance, suspense]   \n",
              "4 -4566636240762225  1377786224904125  [detective, romance, murdermystery]   \n",
              "\n",
              "            updated_at         published_at  reading_time  \n",
              "0  2018-12-03 01:57:32  2017-12-04 18:08:16           0.0  \n",
              "1  2018-08-17 10:28:18  2017-12-04 19:11:01           0.0  \n",
              "2  2022-01-17 18:04:49  2020-04-27 09:31:23          81.0  \n",
              "3  2020-05-05 18:02:26  2020-05-05 18:02:26         112.0  \n",
              "4  2021-07-28 15:23:45  2021-07-28 14:14:45         262.0  "
            ],
            "text/html": [
              "\n",
              "  <div id=\"df-24d4125a-f88b-438e-aa93-3e6bdf1cf6e6\">\n",
              "    <div class=\"colab-df-container\">\n",
              "      <div>\n",
              "<style scoped>\n",
              "    .dataframe tbody tr th:only-of-type {\n",
              "        vertical-align: middle;\n",
              "    }\n",
              "\n",
              "    .dataframe tbody tr th {\n",
              "        vertical-align: top;\n",
              "    }\n",
              "\n",
              "    .dataframe thead th {\n",
              "        text-align: right;\n",
              "    }\n",
              "</style>\n",
              "<table border=\"1\" class=\"dataframe\">\n",
              "  <thead>\n",
              "    <tr style=\"text-align: right;\">\n",
              "      <th></th>\n",
              "      <th>author_id</th>\n",
              "      <th>pratilipi_id</th>\n",
              "      <th>category_name</th>\n",
              "      <th>updated_at</th>\n",
              "      <th>published_at</th>\n",
              "      <th>reading_time</th>\n",
              "    </tr>\n",
              "  </thead>\n",
              "  <tbody>\n",
              "    <tr>\n",
              "      <th>0</th>\n",
              "      <td>-9070332352853360</td>\n",
              "      <td>312572401325768</td>\n",
              "      <td>[novels, politics, social]</td>\n",
              "      <td>2018-12-03 01:57:32</td>\n",
              "      <td>2017-12-04 18:08:16</td>\n",
              "      <td>0.0</td>\n",
              "    </tr>\n",
              "    <tr>\n",
              "      <th>1</th>\n",
              "      <td>-9070332352853358</td>\n",
              "      <td>-96530313603384</td>\n",
              "      <td>[horror]</td>\n",
              "      <td>2018-08-17 10:28:18</td>\n",
              "      <td>2017-12-04 19:11:01</td>\n",
              "      <td>0.0</td>\n",
              "    </tr>\n",
              "    <tr>\n",
              "      <th>2</th>\n",
              "      <td>-4566636240762225</td>\n",
              "      <td>1377786218853788</td>\n",
              "      <td>[novels, romance, suspense]</td>\n",
              "      <td>2022-01-17 18:04:49</td>\n",
              "      <td>2020-04-27 09:31:23</td>\n",
              "      <td>81.0</td>\n",
              "    </tr>\n",
              "    <tr>\n",
              "      <th>3</th>\n",
              "      <td>-4566636240762225</td>\n",
              "      <td>1377786218889274</td>\n",
              "      <td>[novels, romance, suspense]</td>\n",
              "      <td>2020-05-05 18:02:26</td>\n",
              "      <td>2020-05-05 18:02:26</td>\n",
              "      <td>112.0</td>\n",
              "    </tr>\n",
              "    <tr>\n",
              "      <th>4</th>\n",
              "      <td>-4566636240762225</td>\n",
              "      <td>1377786224904125</td>\n",
              "      <td>[detective, romance, murdermystery]</td>\n",
              "      <td>2021-07-28 15:23:45</td>\n",
              "      <td>2021-07-28 14:14:45</td>\n",
              "      <td>262.0</td>\n",
              "    </tr>\n",
              "  </tbody>\n",
              "</table>\n",
              "</div>\n",
              "      <button class=\"colab-df-convert\" onclick=\"convertToInteractive('df-24d4125a-f88b-438e-aa93-3e6bdf1cf6e6')\"\n",
              "              title=\"Convert this dataframe to an interactive table.\"\n",
              "              style=\"display:none;\">\n",
              "        \n",
              "  <svg xmlns=\"http://www.w3.org/2000/svg\" height=\"24px\"viewBox=\"0 0 24 24\"\n",
              "       width=\"24px\">\n",
              "    <path d=\"M0 0h24v24H0V0z\" fill=\"none\"/>\n",
              "    <path d=\"M18.56 5.44l.94 2.06.94-2.06 2.06-.94-2.06-.94-.94-2.06-.94 2.06-2.06.94zm-11 1L8.5 8.5l.94-2.06 2.06-.94-2.06-.94L8.5 2.5l-.94 2.06-2.06.94zm10 10l.94 2.06.94-2.06 2.06-.94-2.06-.94-.94-2.06-.94 2.06-2.06.94z\"/><path d=\"M17.41 7.96l-1.37-1.37c-.4-.4-.92-.59-1.43-.59-.52 0-1.04.2-1.43.59L10.3 9.45l-7.72 7.72c-.78.78-.78 2.05 0 2.83L4 21.41c.39.39.9.59 1.41.59.51 0 1.02-.2 1.41-.59l7.78-7.78 2.81-2.81c.8-.78.8-2.07 0-2.86zM5.41 20L4 18.59l7.72-7.72 1.47 1.35L5.41 20z\"/>\n",
              "  </svg>\n",
              "      </button>\n",
              "      \n",
              "  <style>\n",
              "    .colab-df-container {\n",
              "      display:flex;\n",
              "      flex-wrap:wrap;\n",
              "      gap: 12px;\n",
              "    }\n",
              "\n",
              "    .colab-df-convert {\n",
              "      background-color: #E8F0FE;\n",
              "      border: none;\n",
              "      border-radius: 50%;\n",
              "      cursor: pointer;\n",
              "      display: none;\n",
              "      fill: #1967D2;\n",
              "      height: 32px;\n",
              "      padding: 0 0 0 0;\n",
              "      width: 32px;\n",
              "    }\n",
              "\n",
              "    .colab-df-convert:hover {\n",
              "      background-color: #E2EBFA;\n",
              "      box-shadow: 0px 1px 2px rgba(60, 64, 67, 0.3), 0px 1px 3px 1px rgba(60, 64, 67, 0.15);\n",
              "      fill: #174EA6;\n",
              "    }\n",
              "\n",
              "    [theme=dark] .colab-df-convert {\n",
              "      background-color: #3B4455;\n",
              "      fill: #D2E3FC;\n",
              "    }\n",
              "\n",
              "    [theme=dark] .colab-df-convert:hover {\n",
              "      background-color: #434B5C;\n",
              "      box-shadow: 0px 1px 3px 1px rgba(0, 0, 0, 0.15);\n",
              "      filter: drop-shadow(0px 1px 2px rgba(0, 0, 0, 0.3));\n",
              "      fill: #FFFFFF;\n",
              "    }\n",
              "  </style>\n",
              "\n",
              "      <script>\n",
              "        const buttonEl =\n",
              "          document.querySelector('#df-24d4125a-f88b-438e-aa93-3e6bdf1cf6e6 button.colab-df-convert');\n",
              "        buttonEl.style.display =\n",
              "          google.colab.kernel.accessAllowed ? 'block' : 'none';\n",
              "\n",
              "        async function convertToInteractive(key) {\n",
              "          const element = document.querySelector('#df-24d4125a-f88b-438e-aa93-3e6bdf1cf6e6');\n",
              "          const dataTable =\n",
              "            await google.colab.kernel.invokeFunction('convertToInteractive',\n",
              "                                                     [key], {});\n",
              "          if (!dataTable) return;\n",
              "\n",
              "          const docLinkHtml = 'Like what you see? Visit the ' +\n",
              "            '<a target=\"_blank\" href=https://colab.research.google.com/notebooks/data_table.ipynb>data table notebook</a>'\n",
              "            + ' to learn more about interactive tables.';\n",
              "          element.innerHTML = '';\n",
              "          dataTable['output_type'] = 'display_data';\n",
              "          await google.colab.output.renderOutput(dataTable, element);\n",
              "          const docLink = document.createElement('div');\n",
              "          docLink.innerHTML = docLinkHtml;\n",
              "          element.appendChild(docLink);\n",
              "        }\n",
              "      </script>\n",
              "    </div>\n",
              "  </div>\n",
              "  "
            ]
          },
          "metadata": {},
          "execution_count": 47
        }
      ],
      "source": [
        "meta.head()"
      ]
    },
    {
      "cell_type": "code",
      "execution_count": 48,
      "metadata": {
        "execution": {
          "iopub.execute_input": "2022-04-03T11:50:29.104664Z",
          "iopub.status.busy": "2022-04-03T11:50:29.104134Z",
          "iopub.status.idle": "2022-04-03T11:50:29.112260Z",
          "shell.execute_reply": "2022-04-03T11:50:29.111416Z",
          "shell.execute_reply.started": "2022-04-03T11:50:29.104628Z"
        },
        "id": "CTqX2VphvF6x",
        "outputId": "cf8b150f-6fef-47ea-dc2e-bcdfabe98558",
        "colab": {
          "base_uri": "https://localhost:8080/"
        }
      },
      "outputs": [
        {
          "output_type": "execute_result",
          "data": {
            "text/plain": [
              "(486693, 6)"
            ]
          },
          "metadata": {},
          "execution_count": 48
        }
      ],
      "source": [
        "meta.shape"
      ]
    },
    {
      "cell_type": "code",
      "execution_count": 49,
      "metadata": {
        "execution": {
          "iopub.execute_input": "2022-04-03T11:50:29.114323Z",
          "iopub.status.busy": "2022-04-03T11:50:29.113762Z",
          "iopub.status.idle": "2022-04-03T11:50:35.479115Z",
          "shell.execute_reply": "2022-04-03T11:50:35.478176Z",
          "shell.execute_reply.started": "2022-04-03T11:50:29.114272Z"
        },
        "id": "VNp4tKnYvF6y"
      },
      "outputs": [],
      "source": [
        "# Changing to positive value\n",
        "meta[\"pratilipi_id\"] = meta.apply(lambda x : abs(x[\"pratilipi_id\"]),axis = 1)"
      ]
    },
    {
      "cell_type": "code",
      "execution_count": 50,
      "metadata": {
        "execution": {
          "iopub.execute_input": "2022-04-03T11:50:35.480494Z",
          "iopub.status.busy": "2022-04-03T11:50:35.480250Z",
          "iopub.status.idle": "2022-04-03T11:50:41.617506Z",
          "shell.execute_reply": "2022-04-03T11:50:41.616596Z",
          "shell.execute_reply.started": "2022-04-03T11:50:35.480466Z"
        },
        "id": "o9ENfyn3vF6z"
      },
      "outputs": [],
      "source": [
        "meta[\"author_id\"] = meta.apply(lambda x : abs(x[\"author_id\"]),axis = 1)"
      ]
    },
    {
      "cell_type": "code",
      "execution_count": 51,
      "metadata": {
        "execution": {
          "iopub.execute_input": "2022-04-03T11:50:41.618820Z",
          "iopub.status.busy": "2022-04-03T11:50:41.618620Z",
          "iopub.status.idle": "2022-04-03T11:50:41.748158Z",
          "shell.execute_reply": "2022-04-03T11:50:41.747328Z",
          "shell.execute_reply.started": "2022-04-03T11:50:41.618795Z"
        },
        "id": "KwuIh7w-vF6z",
        "outputId": "3fa570d8-e029-4837-f2db-a95ce8d14636",
        "colab": {
          "base_uri": "https://localhost:8080/"
        }
      },
      "outputs": [
        {
          "output_type": "execute_result",
          "data": {
            "text/plain": [
              "486693"
            ]
          },
          "metadata": {},
          "execution_count": 51
        }
      ],
      "source": [
        "# Converting ids have no effect on dataset\n",
        "len(meta.drop_duplicates(subset=[\"author_id\",\"pratilipi_id\"]))"
      ]
    },
    {
      "cell_type": "code",
      "execution_count": 52,
      "metadata": {
        "execution": {
          "iopub.execute_input": "2022-04-03T11:50:41.749558Z",
          "iopub.status.busy": "2022-04-03T11:50:41.749178Z",
          "iopub.status.idle": "2022-04-03T11:50:41.762731Z",
          "shell.execute_reply": "2022-04-03T11:50:41.761927Z",
          "shell.execute_reply.started": "2022-04-03T11:50:41.749516Z"
        },
        "id": "35EiBQW7vF6z",
        "outputId": "21d44cd6-0ae1-4f27-8bb7-dc0319a6e2bb",
        "colab": {
          "base_uri": "https://localhost:8080/",
          "height": 206
        }
      },
      "outputs": [
        {
          "output_type": "execute_result",
          "data": {
            "text/plain": [
              "          author_id      pratilipi_id                        category_name  \\\n",
              "0  9070332352853360   312572401325768           [novels, politics, social]   \n",
              "1  9070332352853358    96530313603384                             [horror]   \n",
              "2  4566636240762225  1377786218853788          [novels, romance, suspense]   \n",
              "3  4566636240762225  1377786218889274          [novels, romance, suspense]   \n",
              "4  4566636240762225  1377786224904125  [detective, romance, murdermystery]   \n",
              "\n",
              "            updated_at         published_at  reading_time  \n",
              "0  2018-12-03 01:57:32  2017-12-04 18:08:16           0.0  \n",
              "1  2018-08-17 10:28:18  2017-12-04 19:11:01           0.0  \n",
              "2  2022-01-17 18:04:49  2020-04-27 09:31:23          81.0  \n",
              "3  2020-05-05 18:02:26  2020-05-05 18:02:26         112.0  \n",
              "4  2021-07-28 15:23:45  2021-07-28 14:14:45         262.0  "
            ],
            "text/html": [
              "\n",
              "  <div id=\"df-e44ef4d5-a742-414e-8d73-e86e45b2ec0d\">\n",
              "    <div class=\"colab-df-container\">\n",
              "      <div>\n",
              "<style scoped>\n",
              "    .dataframe tbody tr th:only-of-type {\n",
              "        vertical-align: middle;\n",
              "    }\n",
              "\n",
              "    .dataframe tbody tr th {\n",
              "        vertical-align: top;\n",
              "    }\n",
              "\n",
              "    .dataframe thead th {\n",
              "        text-align: right;\n",
              "    }\n",
              "</style>\n",
              "<table border=\"1\" class=\"dataframe\">\n",
              "  <thead>\n",
              "    <tr style=\"text-align: right;\">\n",
              "      <th></th>\n",
              "      <th>author_id</th>\n",
              "      <th>pratilipi_id</th>\n",
              "      <th>category_name</th>\n",
              "      <th>updated_at</th>\n",
              "      <th>published_at</th>\n",
              "      <th>reading_time</th>\n",
              "    </tr>\n",
              "  </thead>\n",
              "  <tbody>\n",
              "    <tr>\n",
              "      <th>0</th>\n",
              "      <td>9070332352853360</td>\n",
              "      <td>312572401325768</td>\n",
              "      <td>[novels, politics, social]</td>\n",
              "      <td>2018-12-03 01:57:32</td>\n",
              "      <td>2017-12-04 18:08:16</td>\n",
              "      <td>0.0</td>\n",
              "    </tr>\n",
              "    <tr>\n",
              "      <th>1</th>\n",
              "      <td>9070332352853358</td>\n",
              "      <td>96530313603384</td>\n",
              "      <td>[horror]</td>\n",
              "      <td>2018-08-17 10:28:18</td>\n",
              "      <td>2017-12-04 19:11:01</td>\n",
              "      <td>0.0</td>\n",
              "    </tr>\n",
              "    <tr>\n",
              "      <th>2</th>\n",
              "      <td>4566636240762225</td>\n",
              "      <td>1377786218853788</td>\n",
              "      <td>[novels, romance, suspense]</td>\n",
              "      <td>2022-01-17 18:04:49</td>\n",
              "      <td>2020-04-27 09:31:23</td>\n",
              "      <td>81.0</td>\n",
              "    </tr>\n",
              "    <tr>\n",
              "      <th>3</th>\n",
              "      <td>4566636240762225</td>\n",
              "      <td>1377786218889274</td>\n",
              "      <td>[novels, romance, suspense]</td>\n",
              "      <td>2020-05-05 18:02:26</td>\n",
              "      <td>2020-05-05 18:02:26</td>\n",
              "      <td>112.0</td>\n",
              "    </tr>\n",
              "    <tr>\n",
              "      <th>4</th>\n",
              "      <td>4566636240762225</td>\n",
              "      <td>1377786224904125</td>\n",
              "      <td>[detective, romance, murdermystery]</td>\n",
              "      <td>2021-07-28 15:23:45</td>\n",
              "      <td>2021-07-28 14:14:45</td>\n",
              "      <td>262.0</td>\n",
              "    </tr>\n",
              "  </tbody>\n",
              "</table>\n",
              "</div>\n",
              "      <button class=\"colab-df-convert\" onclick=\"convertToInteractive('df-e44ef4d5-a742-414e-8d73-e86e45b2ec0d')\"\n",
              "              title=\"Convert this dataframe to an interactive table.\"\n",
              "              style=\"display:none;\">\n",
              "        \n",
              "  <svg xmlns=\"http://www.w3.org/2000/svg\" height=\"24px\"viewBox=\"0 0 24 24\"\n",
              "       width=\"24px\">\n",
              "    <path d=\"M0 0h24v24H0V0z\" fill=\"none\"/>\n",
              "    <path d=\"M18.56 5.44l.94 2.06.94-2.06 2.06-.94-2.06-.94-.94-2.06-.94 2.06-2.06.94zm-11 1L8.5 8.5l.94-2.06 2.06-.94-2.06-.94L8.5 2.5l-.94 2.06-2.06.94zm10 10l.94 2.06.94-2.06 2.06-.94-2.06-.94-.94-2.06-.94 2.06-2.06.94z\"/><path d=\"M17.41 7.96l-1.37-1.37c-.4-.4-.92-.59-1.43-.59-.52 0-1.04.2-1.43.59L10.3 9.45l-7.72 7.72c-.78.78-.78 2.05 0 2.83L4 21.41c.39.39.9.59 1.41.59.51 0 1.02-.2 1.41-.59l7.78-7.78 2.81-2.81c.8-.78.8-2.07 0-2.86zM5.41 20L4 18.59l7.72-7.72 1.47 1.35L5.41 20z\"/>\n",
              "  </svg>\n",
              "      </button>\n",
              "      \n",
              "  <style>\n",
              "    .colab-df-container {\n",
              "      display:flex;\n",
              "      flex-wrap:wrap;\n",
              "      gap: 12px;\n",
              "    }\n",
              "\n",
              "    .colab-df-convert {\n",
              "      background-color: #E8F0FE;\n",
              "      border: none;\n",
              "      border-radius: 50%;\n",
              "      cursor: pointer;\n",
              "      display: none;\n",
              "      fill: #1967D2;\n",
              "      height: 32px;\n",
              "      padding: 0 0 0 0;\n",
              "      width: 32px;\n",
              "    }\n",
              "\n",
              "    .colab-df-convert:hover {\n",
              "      background-color: #E2EBFA;\n",
              "      box-shadow: 0px 1px 2px rgba(60, 64, 67, 0.3), 0px 1px 3px 1px rgba(60, 64, 67, 0.15);\n",
              "      fill: #174EA6;\n",
              "    }\n",
              "\n",
              "    [theme=dark] .colab-df-convert {\n",
              "      background-color: #3B4455;\n",
              "      fill: #D2E3FC;\n",
              "    }\n",
              "\n",
              "    [theme=dark] .colab-df-convert:hover {\n",
              "      background-color: #434B5C;\n",
              "      box-shadow: 0px 1px 3px 1px rgba(0, 0, 0, 0.15);\n",
              "      filter: drop-shadow(0px 1px 2px rgba(0, 0, 0, 0.3));\n",
              "      fill: #FFFFFF;\n",
              "    }\n",
              "  </style>\n",
              "\n",
              "      <script>\n",
              "        const buttonEl =\n",
              "          document.querySelector('#df-e44ef4d5-a742-414e-8d73-e86e45b2ec0d button.colab-df-convert');\n",
              "        buttonEl.style.display =\n",
              "          google.colab.kernel.accessAllowed ? 'block' : 'none';\n",
              "\n",
              "        async function convertToInteractive(key) {\n",
              "          const element = document.querySelector('#df-e44ef4d5-a742-414e-8d73-e86e45b2ec0d');\n",
              "          const dataTable =\n",
              "            await google.colab.kernel.invokeFunction('convertToInteractive',\n",
              "                                                     [key], {});\n",
              "          if (!dataTable) return;\n",
              "\n",
              "          const docLinkHtml = 'Like what you see? Visit the ' +\n",
              "            '<a target=\"_blank\" href=https://colab.research.google.com/notebooks/data_table.ipynb>data table notebook</a>'\n",
              "            + ' to learn more about interactive tables.';\n",
              "          element.innerHTML = '';\n",
              "          dataTable['output_type'] = 'display_data';\n",
              "          await google.colab.output.renderOutput(dataTable, element);\n",
              "          const docLink = document.createElement('div');\n",
              "          docLink.innerHTML = docLinkHtml;\n",
              "          element.appendChild(docLink);\n",
              "        }\n",
              "      </script>\n",
              "    </div>\n",
              "  </div>\n",
              "  "
            ]
          },
          "metadata": {},
          "execution_count": 52
        }
      ],
      "source": [
        "meta.head()"
      ]
    },
    {
      "cell_type": "code",
      "source": [
        "meta[\"published_at\"]=meta[\"published_at\"].astype(\"datetime64\")"
      ],
      "metadata": {
        "id": "bzfKRcAuY30U"
      },
      "execution_count": 53,
      "outputs": []
    },
    {
      "cell_type": "code",
      "execution_count": 54,
      "metadata": {
        "execution": {
          "iopub.execute_input": "2022-04-03T11:50:41.764415Z",
          "iopub.status.busy": "2022-04-03T11:50:41.764086Z",
          "iopub.status.idle": "2022-04-03T11:50:41.818158Z",
          "shell.execute_reply": "2022-04-03T11:50:41.817488Z",
          "shell.execute_reply.started": "2022-04-03T11:50:41.764375Z"
        },
        "id": "NJF9uhW5vF60"
      },
      "outputs": [],
      "source": [
        "meta[\"month\"] = meta[\"published_at\"].dt.month"
      ]
    },
    {
      "cell_type": "code",
      "execution_count": 55,
      "metadata": {
        "execution": {
          "iopub.execute_input": "2022-04-03T11:50:41.819562Z",
          "iopub.status.busy": "2022-04-03T11:50:41.819237Z",
          "iopub.status.idle": "2022-04-03T11:50:41.873238Z",
          "shell.execute_reply": "2022-04-03T11:50:41.872590Z",
          "shell.execute_reply.started": "2022-04-03T11:50:41.819537Z"
        },
        "id": "3O8iU6FYvF60"
      },
      "outputs": [],
      "source": [
        "meta[\"year\"] = meta[\"published_at\"].dt.year"
      ]
    },
    {
      "cell_type": "code",
      "execution_count": 56,
      "metadata": {
        "execution": {
          "iopub.execute_input": "2022-04-03T11:50:41.874669Z",
          "iopub.status.busy": "2022-04-03T11:50:41.874243Z",
          "iopub.status.idle": "2022-04-03T11:50:41.889272Z",
          "shell.execute_reply": "2022-04-03T11:50:41.888675Z",
          "shell.execute_reply.started": "2022-04-03T11:50:41.874624Z"
        },
        "id": "5Lo1sE4NvF61",
        "outputId": "b9c44463-1103-4241-8006-78601dd79f57",
        "colab": {
          "base_uri": "https://localhost:8080/",
          "height": 206
        }
      },
      "outputs": [
        {
          "output_type": "execute_result",
          "data": {
            "text/plain": [
              "          author_id      pratilipi_id                        category_name  \\\n",
              "0  9070332352853360   312572401325768           [novels, politics, social]   \n",
              "1  9070332352853358    96530313603384                             [horror]   \n",
              "2  4566636240762225  1377786218853788          [novels, romance, suspense]   \n",
              "3  4566636240762225  1377786218889274          [novels, romance, suspense]   \n",
              "4  4566636240762225  1377786224904125  [detective, romance, murdermystery]   \n",
              "\n",
              "            updated_at        published_at  reading_time  month    year  \n",
              "0  2018-12-03 01:57:32 2017-12-04 18:08:16           0.0   12.0  2017.0  \n",
              "1  2018-08-17 10:28:18 2017-12-04 19:11:01           0.0   12.0  2017.0  \n",
              "2  2022-01-17 18:04:49 2020-04-27 09:31:23          81.0    4.0  2020.0  \n",
              "3  2020-05-05 18:02:26 2020-05-05 18:02:26         112.0    5.0  2020.0  \n",
              "4  2021-07-28 15:23:45 2021-07-28 14:14:45         262.0    7.0  2021.0  "
            ],
            "text/html": [
              "\n",
              "  <div id=\"df-e0df0964-8c34-4474-8123-572059cf945b\">\n",
              "    <div class=\"colab-df-container\">\n",
              "      <div>\n",
              "<style scoped>\n",
              "    .dataframe tbody tr th:only-of-type {\n",
              "        vertical-align: middle;\n",
              "    }\n",
              "\n",
              "    .dataframe tbody tr th {\n",
              "        vertical-align: top;\n",
              "    }\n",
              "\n",
              "    .dataframe thead th {\n",
              "        text-align: right;\n",
              "    }\n",
              "</style>\n",
              "<table border=\"1\" class=\"dataframe\">\n",
              "  <thead>\n",
              "    <tr style=\"text-align: right;\">\n",
              "      <th></th>\n",
              "      <th>author_id</th>\n",
              "      <th>pratilipi_id</th>\n",
              "      <th>category_name</th>\n",
              "      <th>updated_at</th>\n",
              "      <th>published_at</th>\n",
              "      <th>reading_time</th>\n",
              "      <th>month</th>\n",
              "      <th>year</th>\n",
              "    </tr>\n",
              "  </thead>\n",
              "  <tbody>\n",
              "    <tr>\n",
              "      <th>0</th>\n",
              "      <td>9070332352853360</td>\n",
              "      <td>312572401325768</td>\n",
              "      <td>[novels, politics, social]</td>\n",
              "      <td>2018-12-03 01:57:32</td>\n",
              "      <td>2017-12-04 18:08:16</td>\n",
              "      <td>0.0</td>\n",
              "      <td>12.0</td>\n",
              "      <td>2017.0</td>\n",
              "    </tr>\n",
              "    <tr>\n",
              "      <th>1</th>\n",
              "      <td>9070332352853358</td>\n",
              "      <td>96530313603384</td>\n",
              "      <td>[horror]</td>\n",
              "      <td>2018-08-17 10:28:18</td>\n",
              "      <td>2017-12-04 19:11:01</td>\n",
              "      <td>0.0</td>\n",
              "      <td>12.0</td>\n",
              "      <td>2017.0</td>\n",
              "    </tr>\n",
              "    <tr>\n",
              "      <th>2</th>\n",
              "      <td>4566636240762225</td>\n",
              "      <td>1377786218853788</td>\n",
              "      <td>[novels, romance, suspense]</td>\n",
              "      <td>2022-01-17 18:04:49</td>\n",
              "      <td>2020-04-27 09:31:23</td>\n",
              "      <td>81.0</td>\n",
              "      <td>4.0</td>\n",
              "      <td>2020.0</td>\n",
              "    </tr>\n",
              "    <tr>\n",
              "      <th>3</th>\n",
              "      <td>4566636240762225</td>\n",
              "      <td>1377786218889274</td>\n",
              "      <td>[novels, romance, suspense]</td>\n",
              "      <td>2020-05-05 18:02:26</td>\n",
              "      <td>2020-05-05 18:02:26</td>\n",
              "      <td>112.0</td>\n",
              "      <td>5.0</td>\n",
              "      <td>2020.0</td>\n",
              "    </tr>\n",
              "    <tr>\n",
              "      <th>4</th>\n",
              "      <td>4566636240762225</td>\n",
              "      <td>1377786224904125</td>\n",
              "      <td>[detective, romance, murdermystery]</td>\n",
              "      <td>2021-07-28 15:23:45</td>\n",
              "      <td>2021-07-28 14:14:45</td>\n",
              "      <td>262.0</td>\n",
              "      <td>7.0</td>\n",
              "      <td>2021.0</td>\n",
              "    </tr>\n",
              "  </tbody>\n",
              "</table>\n",
              "</div>\n",
              "      <button class=\"colab-df-convert\" onclick=\"convertToInteractive('df-e0df0964-8c34-4474-8123-572059cf945b')\"\n",
              "              title=\"Convert this dataframe to an interactive table.\"\n",
              "              style=\"display:none;\">\n",
              "        \n",
              "  <svg xmlns=\"http://www.w3.org/2000/svg\" height=\"24px\"viewBox=\"0 0 24 24\"\n",
              "       width=\"24px\">\n",
              "    <path d=\"M0 0h24v24H0V0z\" fill=\"none\"/>\n",
              "    <path d=\"M18.56 5.44l.94 2.06.94-2.06 2.06-.94-2.06-.94-.94-2.06-.94 2.06-2.06.94zm-11 1L8.5 8.5l.94-2.06 2.06-.94-2.06-.94L8.5 2.5l-.94 2.06-2.06.94zm10 10l.94 2.06.94-2.06 2.06-.94-2.06-.94-.94-2.06-.94 2.06-2.06.94z\"/><path d=\"M17.41 7.96l-1.37-1.37c-.4-.4-.92-.59-1.43-.59-.52 0-1.04.2-1.43.59L10.3 9.45l-7.72 7.72c-.78.78-.78 2.05 0 2.83L4 21.41c.39.39.9.59 1.41.59.51 0 1.02-.2 1.41-.59l7.78-7.78 2.81-2.81c.8-.78.8-2.07 0-2.86zM5.41 20L4 18.59l7.72-7.72 1.47 1.35L5.41 20z\"/>\n",
              "  </svg>\n",
              "      </button>\n",
              "      \n",
              "  <style>\n",
              "    .colab-df-container {\n",
              "      display:flex;\n",
              "      flex-wrap:wrap;\n",
              "      gap: 12px;\n",
              "    }\n",
              "\n",
              "    .colab-df-convert {\n",
              "      background-color: #E8F0FE;\n",
              "      border: none;\n",
              "      border-radius: 50%;\n",
              "      cursor: pointer;\n",
              "      display: none;\n",
              "      fill: #1967D2;\n",
              "      height: 32px;\n",
              "      padding: 0 0 0 0;\n",
              "      width: 32px;\n",
              "    }\n",
              "\n",
              "    .colab-df-convert:hover {\n",
              "      background-color: #E2EBFA;\n",
              "      box-shadow: 0px 1px 2px rgba(60, 64, 67, 0.3), 0px 1px 3px 1px rgba(60, 64, 67, 0.15);\n",
              "      fill: #174EA6;\n",
              "    }\n",
              "\n",
              "    [theme=dark] .colab-df-convert {\n",
              "      background-color: #3B4455;\n",
              "      fill: #D2E3FC;\n",
              "    }\n",
              "\n",
              "    [theme=dark] .colab-df-convert:hover {\n",
              "      background-color: #434B5C;\n",
              "      box-shadow: 0px 1px 3px 1px rgba(0, 0, 0, 0.15);\n",
              "      filter: drop-shadow(0px 1px 2px rgba(0, 0, 0, 0.3));\n",
              "      fill: #FFFFFF;\n",
              "    }\n",
              "  </style>\n",
              "\n",
              "      <script>\n",
              "        const buttonEl =\n",
              "          document.querySelector('#df-e0df0964-8c34-4474-8123-572059cf945b button.colab-df-convert');\n",
              "        buttonEl.style.display =\n",
              "          google.colab.kernel.accessAllowed ? 'block' : 'none';\n",
              "\n",
              "        async function convertToInteractive(key) {\n",
              "          const element = document.querySelector('#df-e0df0964-8c34-4474-8123-572059cf945b');\n",
              "          const dataTable =\n",
              "            await google.colab.kernel.invokeFunction('convertToInteractive',\n",
              "                                                     [key], {});\n",
              "          if (!dataTable) return;\n",
              "\n",
              "          const docLinkHtml = 'Like what you see? Visit the ' +\n",
              "            '<a target=\"_blank\" href=https://colab.research.google.com/notebooks/data_table.ipynb>data table notebook</a>'\n",
              "            + ' to learn more about interactive tables.';\n",
              "          element.innerHTML = '';\n",
              "          dataTable['output_type'] = 'display_data';\n",
              "          await google.colab.output.renderOutput(dataTable, element);\n",
              "          const docLink = document.createElement('div');\n",
              "          docLink.innerHTML = docLinkHtml;\n",
              "          element.appendChild(docLink);\n",
              "        }\n",
              "      </script>\n",
              "    </div>\n",
              "  </div>\n",
              "  "
            ]
          },
          "metadata": {},
          "execution_count": 56
        }
      ],
      "source": [
        "meta.head()"
      ]
    },
    {
      "cell_type": "code",
      "execution_count": 57,
      "metadata": {
        "execution": {
          "iopub.execute_input": "2022-04-03T11:50:41.891510Z",
          "iopub.status.busy": "2022-04-03T11:50:41.890735Z",
          "iopub.status.idle": "2022-04-03T11:50:42.126513Z",
          "shell.execute_reply": "2022-04-03T11:50:42.125616Z",
          "shell.execute_reply.started": "2022-04-03T11:50:41.891472Z"
        },
        "id": "oYQcHTjAvF61"
      },
      "outputs": [],
      "source": [
        "#converting to minutes\n",
        "meta['reading_time_min'] = meta['reading_time'].apply(lambda x: int(x/60))"
      ]
    },
    {
      "cell_type": "code",
      "execution_count": 58,
      "metadata": {
        "execution": {
          "iopub.execute_input": "2022-04-03T11:50:42.127931Z",
          "iopub.status.busy": "2022-04-03T11:50:42.127715Z",
          "iopub.status.idle": "2022-04-03T11:50:42.143844Z",
          "shell.execute_reply": "2022-04-03T11:50:42.142705Z",
          "shell.execute_reply.started": "2022-04-03T11:50:42.127905Z"
        },
        "id": "B2GooIMtvF62",
        "outputId": "2a147723-1c1a-4ff3-e5d1-ae340270f632",
        "colab": {
          "base_uri": "https://localhost:8080/",
          "height": 337
        }
      },
      "outputs": [
        {
          "output_type": "execute_result",
          "data": {
            "text/plain": [
              "          author_id      pratilipi_id                        category_name  \\\n",
              "0  9070332352853360   312572401325768           [novels, politics, social]   \n",
              "1  9070332352853358    96530313603384                             [horror]   \n",
              "2  4566636240762225  1377786218853788          [novels, romance, suspense]   \n",
              "3  4566636240762225  1377786218889274          [novels, romance, suspense]   \n",
              "4  4566636240762225  1377786224904125  [detective, romance, murdermystery]   \n",
              "\n",
              "            updated_at        published_at  reading_time  month    year  \\\n",
              "0  2018-12-03 01:57:32 2017-12-04 18:08:16           0.0   12.0  2017.0   \n",
              "1  2018-08-17 10:28:18 2017-12-04 19:11:01           0.0   12.0  2017.0   \n",
              "2  2022-01-17 18:04:49 2020-04-27 09:31:23          81.0    4.0  2020.0   \n",
              "3  2020-05-05 18:02:26 2020-05-05 18:02:26         112.0    5.0  2020.0   \n",
              "4  2021-07-28 15:23:45 2021-07-28 14:14:45         262.0    7.0  2021.0   \n",
              "\n",
              "   reading_time_min  \n",
              "0                 0  \n",
              "1                 0  \n",
              "2                 1  \n",
              "3                 1  \n",
              "4                 4  "
            ],
            "text/html": [
              "\n",
              "  <div id=\"df-ff7e347b-4cc2-4123-bba2-8269d886acca\">\n",
              "    <div class=\"colab-df-container\">\n",
              "      <div>\n",
              "<style scoped>\n",
              "    .dataframe tbody tr th:only-of-type {\n",
              "        vertical-align: middle;\n",
              "    }\n",
              "\n",
              "    .dataframe tbody tr th {\n",
              "        vertical-align: top;\n",
              "    }\n",
              "\n",
              "    .dataframe thead th {\n",
              "        text-align: right;\n",
              "    }\n",
              "</style>\n",
              "<table border=\"1\" class=\"dataframe\">\n",
              "  <thead>\n",
              "    <tr style=\"text-align: right;\">\n",
              "      <th></th>\n",
              "      <th>author_id</th>\n",
              "      <th>pratilipi_id</th>\n",
              "      <th>category_name</th>\n",
              "      <th>updated_at</th>\n",
              "      <th>published_at</th>\n",
              "      <th>reading_time</th>\n",
              "      <th>month</th>\n",
              "      <th>year</th>\n",
              "      <th>reading_time_min</th>\n",
              "    </tr>\n",
              "  </thead>\n",
              "  <tbody>\n",
              "    <tr>\n",
              "      <th>0</th>\n",
              "      <td>9070332352853360</td>\n",
              "      <td>312572401325768</td>\n",
              "      <td>[novels, politics, social]</td>\n",
              "      <td>2018-12-03 01:57:32</td>\n",
              "      <td>2017-12-04 18:08:16</td>\n",
              "      <td>0.0</td>\n",
              "      <td>12.0</td>\n",
              "      <td>2017.0</td>\n",
              "      <td>0</td>\n",
              "    </tr>\n",
              "    <tr>\n",
              "      <th>1</th>\n",
              "      <td>9070332352853358</td>\n",
              "      <td>96530313603384</td>\n",
              "      <td>[horror]</td>\n",
              "      <td>2018-08-17 10:28:18</td>\n",
              "      <td>2017-12-04 19:11:01</td>\n",
              "      <td>0.0</td>\n",
              "      <td>12.0</td>\n",
              "      <td>2017.0</td>\n",
              "      <td>0</td>\n",
              "    </tr>\n",
              "    <tr>\n",
              "      <th>2</th>\n",
              "      <td>4566636240762225</td>\n",
              "      <td>1377786218853788</td>\n",
              "      <td>[novels, romance, suspense]</td>\n",
              "      <td>2022-01-17 18:04:49</td>\n",
              "      <td>2020-04-27 09:31:23</td>\n",
              "      <td>81.0</td>\n",
              "      <td>4.0</td>\n",
              "      <td>2020.0</td>\n",
              "      <td>1</td>\n",
              "    </tr>\n",
              "    <tr>\n",
              "      <th>3</th>\n",
              "      <td>4566636240762225</td>\n",
              "      <td>1377786218889274</td>\n",
              "      <td>[novels, romance, suspense]</td>\n",
              "      <td>2020-05-05 18:02:26</td>\n",
              "      <td>2020-05-05 18:02:26</td>\n",
              "      <td>112.0</td>\n",
              "      <td>5.0</td>\n",
              "      <td>2020.0</td>\n",
              "      <td>1</td>\n",
              "    </tr>\n",
              "    <tr>\n",
              "      <th>4</th>\n",
              "      <td>4566636240762225</td>\n",
              "      <td>1377786224904125</td>\n",
              "      <td>[detective, romance, murdermystery]</td>\n",
              "      <td>2021-07-28 15:23:45</td>\n",
              "      <td>2021-07-28 14:14:45</td>\n",
              "      <td>262.0</td>\n",
              "      <td>7.0</td>\n",
              "      <td>2021.0</td>\n",
              "      <td>4</td>\n",
              "    </tr>\n",
              "  </tbody>\n",
              "</table>\n",
              "</div>\n",
              "      <button class=\"colab-df-convert\" onclick=\"convertToInteractive('df-ff7e347b-4cc2-4123-bba2-8269d886acca')\"\n",
              "              title=\"Convert this dataframe to an interactive table.\"\n",
              "              style=\"display:none;\">\n",
              "        \n",
              "  <svg xmlns=\"http://www.w3.org/2000/svg\" height=\"24px\"viewBox=\"0 0 24 24\"\n",
              "       width=\"24px\">\n",
              "    <path d=\"M0 0h24v24H0V0z\" fill=\"none\"/>\n",
              "    <path d=\"M18.56 5.44l.94 2.06.94-2.06 2.06-.94-2.06-.94-.94-2.06-.94 2.06-2.06.94zm-11 1L8.5 8.5l.94-2.06 2.06-.94-2.06-.94L8.5 2.5l-.94 2.06-2.06.94zm10 10l.94 2.06.94-2.06 2.06-.94-2.06-.94-.94-2.06-.94 2.06-2.06.94z\"/><path d=\"M17.41 7.96l-1.37-1.37c-.4-.4-.92-.59-1.43-.59-.52 0-1.04.2-1.43.59L10.3 9.45l-7.72 7.72c-.78.78-.78 2.05 0 2.83L4 21.41c.39.39.9.59 1.41.59.51 0 1.02-.2 1.41-.59l7.78-7.78 2.81-2.81c.8-.78.8-2.07 0-2.86zM5.41 20L4 18.59l7.72-7.72 1.47 1.35L5.41 20z\"/>\n",
              "  </svg>\n",
              "      </button>\n",
              "      \n",
              "  <style>\n",
              "    .colab-df-container {\n",
              "      display:flex;\n",
              "      flex-wrap:wrap;\n",
              "      gap: 12px;\n",
              "    }\n",
              "\n",
              "    .colab-df-convert {\n",
              "      background-color: #E8F0FE;\n",
              "      border: none;\n",
              "      border-radius: 50%;\n",
              "      cursor: pointer;\n",
              "      display: none;\n",
              "      fill: #1967D2;\n",
              "      height: 32px;\n",
              "      padding: 0 0 0 0;\n",
              "      width: 32px;\n",
              "    }\n",
              "\n",
              "    .colab-df-convert:hover {\n",
              "      background-color: #E2EBFA;\n",
              "      box-shadow: 0px 1px 2px rgba(60, 64, 67, 0.3), 0px 1px 3px 1px rgba(60, 64, 67, 0.15);\n",
              "      fill: #174EA6;\n",
              "    }\n",
              "\n",
              "    [theme=dark] .colab-df-convert {\n",
              "      background-color: #3B4455;\n",
              "      fill: #D2E3FC;\n",
              "    }\n",
              "\n",
              "    [theme=dark] .colab-df-convert:hover {\n",
              "      background-color: #434B5C;\n",
              "      box-shadow: 0px 1px 3px 1px rgba(0, 0, 0, 0.15);\n",
              "      filter: drop-shadow(0px 1px 2px rgba(0, 0, 0, 0.3));\n",
              "      fill: #FFFFFF;\n",
              "    }\n",
              "  </style>\n",
              "\n",
              "      <script>\n",
              "        const buttonEl =\n",
              "          document.querySelector('#df-ff7e347b-4cc2-4123-bba2-8269d886acca button.colab-df-convert');\n",
              "        buttonEl.style.display =\n",
              "          google.colab.kernel.accessAllowed ? 'block' : 'none';\n",
              "\n",
              "        async function convertToInteractive(key) {\n",
              "          const element = document.querySelector('#df-ff7e347b-4cc2-4123-bba2-8269d886acca');\n",
              "          const dataTable =\n",
              "            await google.colab.kernel.invokeFunction('convertToInteractive',\n",
              "                                                     [key], {});\n",
              "          if (!dataTable) return;\n",
              "\n",
              "          const docLinkHtml = 'Like what you see? Visit the ' +\n",
              "            '<a target=\"_blank\" href=https://colab.research.google.com/notebooks/data_table.ipynb>data table notebook</a>'\n",
              "            + ' to learn more about interactive tables.';\n",
              "          element.innerHTML = '';\n",
              "          dataTable['output_type'] = 'display_data';\n",
              "          await google.colab.output.renderOutput(dataTable, element);\n",
              "          const docLink = document.createElement('div');\n",
              "          docLink.innerHTML = docLinkHtml;\n",
              "          element.appendChild(docLink);\n",
              "        }\n",
              "      </script>\n",
              "    </div>\n",
              "  </div>\n",
              "  "
            ]
          },
          "metadata": {},
          "execution_count": 58
        }
      ],
      "source": [
        "meta.head()"
      ]
    },
    {
      "cell_type": "code",
      "execution_count": 59,
      "metadata": {
        "execution": {
          "iopub.execute_input": "2022-04-03T11:50:42.164553Z",
          "iopub.status.busy": "2022-04-03T11:50:42.163479Z",
          "iopub.status.idle": "2022-04-03T11:50:42.173601Z",
          "shell.execute_reply": "2022-04-03T11:50:42.172515Z",
          "shell.execute_reply.started": "2022-04-03T11:50:42.164510Z"
        },
        "id": "OStlsuNyvF63",
        "outputId": "a5d78afa-a601-4f2b-e43b-d53bb24750a5",
        "colab": {
          "base_uri": "https://localhost:8080/"
        }
      },
      "outputs": [
        {
          "output_type": "execute_result",
          "data": {
            "text/plain": [
              "Timestamp('2022-03-18 15:14:41.771000')"
            ]
          },
          "metadata": {},
          "execution_count": 59
        }
      ],
      "source": [
        "# Remove all stories published after the minimum intereaction datetime so that recommendation is evaluated fairly\n",
        "user[\"updated_at\"].min()"
      ]
    },
    {
      "cell_type": "code",
      "execution_count": 60,
      "metadata": {
        "execution": {
          "iopub.execute_input": "2022-04-03T11:50:42.175352Z",
          "iopub.status.busy": "2022-04-03T11:50:42.175042Z",
          "iopub.status.idle": "2022-04-03T11:50:42.181710Z",
          "shell.execute_reply": "2022-04-03T11:50:42.180920Z",
          "shell.execute_reply.started": "2022-04-03T11:50:42.175313Z"
        },
        "id": "m0-uCTQbvF63",
        "outputId": "645f5344-a4ae-40ee-f147-ad5adbe2c533",
        "colab": {
          "base_uri": "https://localhost:8080/"
        }
      },
      "outputs": [
        {
          "output_type": "execute_result",
          "data": {
            "text/plain": [
              "(486693, 9)"
            ]
          },
          "metadata": {},
          "execution_count": 60
        }
      ],
      "source": [
        "meta.shape"
      ]
    },
    {
      "cell_type": "code",
      "execution_count": 61,
      "metadata": {
        "execution": {
          "iopub.execute_input": "2022-04-03T11:50:42.183655Z",
          "iopub.status.busy": "2022-04-03T11:50:42.182877Z",
          "iopub.status.idle": "2022-04-03T11:50:42.298852Z",
          "shell.execute_reply": "2022-04-03T11:50:42.298160Z",
          "shell.execute_reply.started": "2022-04-03T11:50:42.183608Z"
        },
        "id": "vk2BOpXHvF64"
      },
      "outputs": [],
      "source": [
        "meta = meta[meta[\"published_at\"]<user[\"updated_at\"].min()].reset_index(drop = True)"
      ]
    },
    {
      "cell_type": "code",
      "execution_count": 62,
      "metadata": {
        "execution": {
          "iopub.execute_input": "2022-04-03T11:50:42.300289Z",
          "iopub.status.busy": "2022-04-03T11:50:42.300084Z",
          "iopub.status.idle": "2022-04-03T11:50:42.305111Z",
          "shell.execute_reply": "2022-04-03T11:50:42.304277Z",
          "shell.execute_reply.started": "2022-04-03T11:50:42.300265Z"
        },
        "id": "VpAULn-3vF64",
        "outputId": "daf61599-b0d3-496b-a257-7a30df4baba1",
        "colab": {
          "base_uri": "https://localhost:8080/"
        }
      },
      "outputs": [
        {
          "output_type": "execute_result",
          "data": {
            "text/plain": [
              "(482321, 9)"
            ]
          },
          "metadata": {},
          "execution_count": 62
        }
      ],
      "source": [
        "meta.shape"
      ]
    },
    {
      "cell_type": "code",
      "execution_count": 63,
      "metadata": {
        "execution": {
          "iopub.execute_input": "2022-04-03T11:50:42.307276Z",
          "iopub.status.busy": "2022-04-03T11:50:42.306614Z",
          "iopub.status.idle": "2022-04-03T11:50:42.316909Z",
          "shell.execute_reply": "2022-04-03T11:50:42.316051Z",
          "shell.execute_reply.started": "2022-04-03T11:50:42.307235Z"
        },
        "id": "XGuMMChVvF65",
        "outputId": "e036fcc0-9542-43ba-b3d3-d2c9108c67af",
        "colab": {
          "base_uri": "https://localhost:8080/"
        }
      },
      "outputs": [
        {
          "output_type": "execute_result",
          "data": {
            "text/plain": [
              "(9305120, 5)"
            ]
          },
          "metadata": {},
          "execution_count": 63
        }
      ],
      "source": [
        "user.shape"
      ]
    },
    {
      "cell_type": "code",
      "execution_count": 64,
      "metadata": {
        "execution": {
          "iopub.execute_input": "2022-04-03T11:50:42.318907Z",
          "iopub.status.busy": "2022-04-03T11:50:42.318455Z",
          "iopub.status.idle": "2022-04-03T11:50:42.406733Z",
          "shell.execute_reply": "2022-04-03T11:50:42.406153Z",
          "shell.execute_reply.started": "2022-04-03T11:50:42.318866Z"
        },
        "id": "LLHZ1zTbvF65"
      },
      "outputs": [],
      "source": [
        "user = user[user[\"pratilipi_id\"].isin(meta[\"pratilipi_id\"].unique())].reset_index(drop = True)"
      ]
    },
    {
      "cell_type": "code",
      "execution_count": 65,
      "metadata": {
        "execution": {
          "iopub.execute_input": "2022-04-03T11:50:42.411706Z",
          "iopub.status.busy": "2022-04-03T11:50:42.410216Z",
          "iopub.status.idle": "2022-04-03T11:50:42.418401Z",
          "shell.execute_reply": "2022-04-03T11:50:42.417761Z",
          "shell.execute_reply.started": "2022-04-03T11:50:42.411674Z"
        },
        "id": "NPYij2mKvF66",
        "outputId": "aa41c7ef-6c28-4b0f-852b-4751e1ec939f",
        "colab": {
          "base_uri": "https://localhost:8080/"
        }
      },
      "outputs": [
        {
          "output_type": "execute_result",
          "data": {
            "text/plain": [
              "(5338637, 5)"
            ]
          },
          "metadata": {},
          "execution_count": 65
        }
      ],
      "source": [
        "# Remove interactions with record of their metadata \n",
        "user.shape"
      ]
    },
    {
      "cell_type": "code",
      "execution_count": 66,
      "metadata": {
        "execution": {
          "iopub.execute_input": "2022-04-03T11:50:42.420979Z",
          "iopub.status.busy": "2022-04-03T11:50:42.419716Z",
          "iopub.status.idle": "2022-04-03T11:50:42.441426Z",
          "shell.execute_reply": "2022-04-03T11:50:42.440828Z",
          "shell.execute_reply.started": "2022-04-03T11:50:42.420944Z"
        },
        "id": "2-jRwjsZvF66",
        "outputId": "9e7ec025-f41b-4205-d071-1b4c877fe882",
        "colab": {
          "base_uri": "https://localhost:8080/",
          "height": 337
        }
      },
      "outputs": [
        {
          "output_type": "execute_result",
          "data": {
            "text/plain": [
              "          author_id      pratilipi_id                        category_name  \\\n",
              "0  9070332352853360   312572401325768           [novels, politics, social]   \n",
              "1  9070332352853358    96530313603384                             [horror]   \n",
              "2  4566636240762225  1377786218853788          [novels, romance, suspense]   \n",
              "3  4566636240762225  1377786218889274          [novels, romance, suspense]   \n",
              "4  4566636240762225  1377786224904125  [detective, romance, murdermystery]   \n",
              "\n",
              "            updated_at        published_at  reading_time  month    year  \\\n",
              "0  2018-12-03 01:57:32 2017-12-04 18:08:16           0.0   12.0  2017.0   \n",
              "1  2018-08-17 10:28:18 2017-12-04 19:11:01           0.0   12.0  2017.0   \n",
              "2  2022-01-17 18:04:49 2020-04-27 09:31:23          81.0    4.0  2020.0   \n",
              "3  2020-05-05 18:02:26 2020-05-05 18:02:26         112.0    5.0  2020.0   \n",
              "4  2021-07-28 15:23:45 2021-07-28 14:14:45         262.0    7.0  2021.0   \n",
              "\n",
              "   reading_time_min  \n",
              "0                 0  \n",
              "1                 0  \n",
              "2                 1  \n",
              "3                 1  \n",
              "4                 4  "
            ],
            "text/html": [
              "\n",
              "  <div id=\"df-f606230b-e9dd-49d7-9649-57a1a0a8be35\">\n",
              "    <div class=\"colab-df-container\">\n",
              "      <div>\n",
              "<style scoped>\n",
              "    .dataframe tbody tr th:only-of-type {\n",
              "        vertical-align: middle;\n",
              "    }\n",
              "\n",
              "    .dataframe tbody tr th {\n",
              "        vertical-align: top;\n",
              "    }\n",
              "\n",
              "    .dataframe thead th {\n",
              "        text-align: right;\n",
              "    }\n",
              "</style>\n",
              "<table border=\"1\" class=\"dataframe\">\n",
              "  <thead>\n",
              "    <tr style=\"text-align: right;\">\n",
              "      <th></th>\n",
              "      <th>author_id</th>\n",
              "      <th>pratilipi_id</th>\n",
              "      <th>category_name</th>\n",
              "      <th>updated_at</th>\n",
              "      <th>published_at</th>\n",
              "      <th>reading_time</th>\n",
              "      <th>month</th>\n",
              "      <th>year</th>\n",
              "      <th>reading_time_min</th>\n",
              "    </tr>\n",
              "  </thead>\n",
              "  <tbody>\n",
              "    <tr>\n",
              "      <th>0</th>\n",
              "      <td>9070332352853360</td>\n",
              "      <td>312572401325768</td>\n",
              "      <td>[novels, politics, social]</td>\n",
              "      <td>2018-12-03 01:57:32</td>\n",
              "      <td>2017-12-04 18:08:16</td>\n",
              "      <td>0.0</td>\n",
              "      <td>12.0</td>\n",
              "      <td>2017.0</td>\n",
              "      <td>0</td>\n",
              "    </tr>\n",
              "    <tr>\n",
              "      <th>1</th>\n",
              "      <td>9070332352853358</td>\n",
              "      <td>96530313603384</td>\n",
              "      <td>[horror]</td>\n",
              "      <td>2018-08-17 10:28:18</td>\n",
              "      <td>2017-12-04 19:11:01</td>\n",
              "      <td>0.0</td>\n",
              "      <td>12.0</td>\n",
              "      <td>2017.0</td>\n",
              "      <td>0</td>\n",
              "    </tr>\n",
              "    <tr>\n",
              "      <th>2</th>\n",
              "      <td>4566636240762225</td>\n",
              "      <td>1377786218853788</td>\n",
              "      <td>[novels, romance, suspense]</td>\n",
              "      <td>2022-01-17 18:04:49</td>\n",
              "      <td>2020-04-27 09:31:23</td>\n",
              "      <td>81.0</td>\n",
              "      <td>4.0</td>\n",
              "      <td>2020.0</td>\n",
              "      <td>1</td>\n",
              "    </tr>\n",
              "    <tr>\n",
              "      <th>3</th>\n",
              "      <td>4566636240762225</td>\n",
              "      <td>1377786218889274</td>\n",
              "      <td>[novels, romance, suspense]</td>\n",
              "      <td>2020-05-05 18:02:26</td>\n",
              "      <td>2020-05-05 18:02:26</td>\n",
              "      <td>112.0</td>\n",
              "      <td>5.0</td>\n",
              "      <td>2020.0</td>\n",
              "      <td>1</td>\n",
              "    </tr>\n",
              "    <tr>\n",
              "      <th>4</th>\n",
              "      <td>4566636240762225</td>\n",
              "      <td>1377786224904125</td>\n",
              "      <td>[detective, romance, murdermystery]</td>\n",
              "      <td>2021-07-28 15:23:45</td>\n",
              "      <td>2021-07-28 14:14:45</td>\n",
              "      <td>262.0</td>\n",
              "      <td>7.0</td>\n",
              "      <td>2021.0</td>\n",
              "      <td>4</td>\n",
              "    </tr>\n",
              "  </tbody>\n",
              "</table>\n",
              "</div>\n",
              "      <button class=\"colab-df-convert\" onclick=\"convertToInteractive('df-f606230b-e9dd-49d7-9649-57a1a0a8be35')\"\n",
              "              title=\"Convert this dataframe to an interactive table.\"\n",
              "              style=\"display:none;\">\n",
              "        \n",
              "  <svg xmlns=\"http://www.w3.org/2000/svg\" height=\"24px\"viewBox=\"0 0 24 24\"\n",
              "       width=\"24px\">\n",
              "    <path d=\"M0 0h24v24H0V0z\" fill=\"none\"/>\n",
              "    <path d=\"M18.56 5.44l.94 2.06.94-2.06 2.06-.94-2.06-.94-.94-2.06-.94 2.06-2.06.94zm-11 1L8.5 8.5l.94-2.06 2.06-.94-2.06-.94L8.5 2.5l-.94 2.06-2.06.94zm10 10l.94 2.06.94-2.06 2.06-.94-2.06-.94-.94-2.06-.94 2.06-2.06.94z\"/><path d=\"M17.41 7.96l-1.37-1.37c-.4-.4-.92-.59-1.43-.59-.52 0-1.04.2-1.43.59L10.3 9.45l-7.72 7.72c-.78.78-.78 2.05 0 2.83L4 21.41c.39.39.9.59 1.41.59.51 0 1.02-.2 1.41-.59l7.78-7.78 2.81-2.81c.8-.78.8-2.07 0-2.86zM5.41 20L4 18.59l7.72-7.72 1.47 1.35L5.41 20z\"/>\n",
              "  </svg>\n",
              "      </button>\n",
              "      \n",
              "  <style>\n",
              "    .colab-df-container {\n",
              "      display:flex;\n",
              "      flex-wrap:wrap;\n",
              "      gap: 12px;\n",
              "    }\n",
              "\n",
              "    .colab-df-convert {\n",
              "      background-color: #E8F0FE;\n",
              "      border: none;\n",
              "      border-radius: 50%;\n",
              "      cursor: pointer;\n",
              "      display: none;\n",
              "      fill: #1967D2;\n",
              "      height: 32px;\n",
              "      padding: 0 0 0 0;\n",
              "      width: 32px;\n",
              "    }\n",
              "\n",
              "    .colab-df-convert:hover {\n",
              "      background-color: #E2EBFA;\n",
              "      box-shadow: 0px 1px 2px rgba(60, 64, 67, 0.3), 0px 1px 3px 1px rgba(60, 64, 67, 0.15);\n",
              "      fill: #174EA6;\n",
              "    }\n",
              "\n",
              "    [theme=dark] .colab-df-convert {\n",
              "      background-color: #3B4455;\n",
              "      fill: #D2E3FC;\n",
              "    }\n",
              "\n",
              "    [theme=dark] .colab-df-convert:hover {\n",
              "      background-color: #434B5C;\n",
              "      box-shadow: 0px 1px 3px 1px rgba(0, 0, 0, 0.15);\n",
              "      filter: drop-shadow(0px 1px 2px rgba(0, 0, 0, 0.3));\n",
              "      fill: #FFFFFF;\n",
              "    }\n",
              "  </style>\n",
              "\n",
              "      <script>\n",
              "        const buttonEl =\n",
              "          document.querySelector('#df-f606230b-e9dd-49d7-9649-57a1a0a8be35 button.colab-df-convert');\n",
              "        buttonEl.style.display =\n",
              "          google.colab.kernel.accessAllowed ? 'block' : 'none';\n",
              "\n",
              "        async function convertToInteractive(key) {\n",
              "          const element = document.querySelector('#df-f606230b-e9dd-49d7-9649-57a1a0a8be35');\n",
              "          const dataTable =\n",
              "            await google.colab.kernel.invokeFunction('convertToInteractive',\n",
              "                                                     [key], {});\n",
              "          if (!dataTable) return;\n",
              "\n",
              "          const docLinkHtml = 'Like what you see? Visit the ' +\n",
              "            '<a target=\"_blank\" href=https://colab.research.google.com/notebooks/data_table.ipynb>data table notebook</a>'\n",
              "            + ' to learn more about interactive tables.';\n",
              "          element.innerHTML = '';\n",
              "          dataTable['output_type'] = 'display_data';\n",
              "          await google.colab.output.renderOutput(dataTable, element);\n",
              "          const docLink = document.createElement('div');\n",
              "          docLink.innerHTML = docLinkHtml;\n",
              "          element.appendChild(docLink);\n",
              "        }\n",
              "      </script>\n",
              "    </div>\n",
              "  </div>\n",
              "  "
            ]
          },
          "metadata": {},
          "execution_count": 66
        }
      ],
      "source": [
        "meta.head()"
      ]
    },
    {
      "cell_type": "code",
      "execution_count": 67,
      "metadata": {
        "execution": {
          "iopub.execute_input": "2022-04-03T11:50:42.443233Z",
          "iopub.status.busy": "2022-04-03T11:50:42.442523Z",
          "iopub.status.idle": "2022-04-03T11:50:42.462217Z",
          "shell.execute_reply": "2022-04-03T11:50:42.461594Z",
          "shell.execute_reply.started": "2022-04-03T11:50:42.443191Z"
        },
        "id": "P1g5jmRIvF67"
      },
      "outputs": [],
      "source": [
        "\n",
        "meta.drop([\"updated_at\",\"published_at\",\"author_id\",\"reading_time\"],axis = 1,inplace = True)"
      ]
    },
    {
      "cell_type": "code",
      "execution_count": 68,
      "metadata": {
        "execution": {
          "iopub.execute_input": "2022-04-03T11:50:42.465253Z",
          "iopub.status.busy": "2022-04-03T11:50:42.464436Z",
          "iopub.status.idle": "2022-04-03T11:50:42.480036Z",
          "shell.execute_reply": "2022-04-03T11:50:42.479362Z",
          "shell.execute_reply.started": "2022-04-03T11:50:42.465210Z"
        },
        "id": "Row5f7tlvF67",
        "outputId": "1343b9fd-689b-4512-9399-fa001c309726",
        "colab": {
          "base_uri": "https://localhost:8080/",
          "height": 206
        }
      },
      "outputs": [
        {
          "output_type": "execute_result",
          "data": {
            "text/plain": [
              "       pratilipi_id                        category_name  month    year  \\\n",
              "0   312572401325768           [novels, politics, social]   12.0  2017.0   \n",
              "1    96530313603384                             [horror]   12.0  2017.0   \n",
              "2  1377786218853788          [novels, romance, suspense]    4.0  2020.0   \n",
              "3  1377786218889274          [novels, romance, suspense]    5.0  2020.0   \n",
              "4  1377786224904125  [detective, romance, murdermystery]    7.0  2021.0   \n",
              "\n",
              "   reading_time_min  \n",
              "0                 0  \n",
              "1                 0  \n",
              "2                 1  \n",
              "3                 1  \n",
              "4                 4  "
            ],
            "text/html": [
              "\n",
              "  <div id=\"df-be6f7db4-bd1e-464e-a653-143c102e16df\">\n",
              "    <div class=\"colab-df-container\">\n",
              "      <div>\n",
              "<style scoped>\n",
              "    .dataframe tbody tr th:only-of-type {\n",
              "        vertical-align: middle;\n",
              "    }\n",
              "\n",
              "    .dataframe tbody tr th {\n",
              "        vertical-align: top;\n",
              "    }\n",
              "\n",
              "    .dataframe thead th {\n",
              "        text-align: right;\n",
              "    }\n",
              "</style>\n",
              "<table border=\"1\" class=\"dataframe\">\n",
              "  <thead>\n",
              "    <tr style=\"text-align: right;\">\n",
              "      <th></th>\n",
              "      <th>pratilipi_id</th>\n",
              "      <th>category_name</th>\n",
              "      <th>month</th>\n",
              "      <th>year</th>\n",
              "      <th>reading_time_min</th>\n",
              "    </tr>\n",
              "  </thead>\n",
              "  <tbody>\n",
              "    <tr>\n",
              "      <th>0</th>\n",
              "      <td>312572401325768</td>\n",
              "      <td>[novels, politics, social]</td>\n",
              "      <td>12.0</td>\n",
              "      <td>2017.0</td>\n",
              "      <td>0</td>\n",
              "    </tr>\n",
              "    <tr>\n",
              "      <th>1</th>\n",
              "      <td>96530313603384</td>\n",
              "      <td>[horror]</td>\n",
              "      <td>12.0</td>\n",
              "      <td>2017.0</td>\n",
              "      <td>0</td>\n",
              "    </tr>\n",
              "    <tr>\n",
              "      <th>2</th>\n",
              "      <td>1377786218853788</td>\n",
              "      <td>[novels, romance, suspense]</td>\n",
              "      <td>4.0</td>\n",
              "      <td>2020.0</td>\n",
              "      <td>1</td>\n",
              "    </tr>\n",
              "    <tr>\n",
              "      <th>3</th>\n",
              "      <td>1377786218889274</td>\n",
              "      <td>[novels, romance, suspense]</td>\n",
              "      <td>5.0</td>\n",
              "      <td>2020.0</td>\n",
              "      <td>1</td>\n",
              "    </tr>\n",
              "    <tr>\n",
              "      <th>4</th>\n",
              "      <td>1377786224904125</td>\n",
              "      <td>[detective, romance, murdermystery]</td>\n",
              "      <td>7.0</td>\n",
              "      <td>2021.0</td>\n",
              "      <td>4</td>\n",
              "    </tr>\n",
              "  </tbody>\n",
              "</table>\n",
              "</div>\n",
              "      <button class=\"colab-df-convert\" onclick=\"convertToInteractive('df-be6f7db4-bd1e-464e-a653-143c102e16df')\"\n",
              "              title=\"Convert this dataframe to an interactive table.\"\n",
              "              style=\"display:none;\">\n",
              "        \n",
              "  <svg xmlns=\"http://www.w3.org/2000/svg\" height=\"24px\"viewBox=\"0 0 24 24\"\n",
              "       width=\"24px\">\n",
              "    <path d=\"M0 0h24v24H0V0z\" fill=\"none\"/>\n",
              "    <path d=\"M18.56 5.44l.94 2.06.94-2.06 2.06-.94-2.06-.94-.94-2.06-.94 2.06-2.06.94zm-11 1L8.5 8.5l.94-2.06 2.06-.94-2.06-.94L8.5 2.5l-.94 2.06-2.06.94zm10 10l.94 2.06.94-2.06 2.06-.94-2.06-.94-.94-2.06-.94 2.06-2.06.94z\"/><path d=\"M17.41 7.96l-1.37-1.37c-.4-.4-.92-.59-1.43-.59-.52 0-1.04.2-1.43.59L10.3 9.45l-7.72 7.72c-.78.78-.78 2.05 0 2.83L4 21.41c.39.39.9.59 1.41.59.51 0 1.02-.2 1.41-.59l7.78-7.78 2.81-2.81c.8-.78.8-2.07 0-2.86zM5.41 20L4 18.59l7.72-7.72 1.47 1.35L5.41 20z\"/>\n",
              "  </svg>\n",
              "      </button>\n",
              "      \n",
              "  <style>\n",
              "    .colab-df-container {\n",
              "      display:flex;\n",
              "      flex-wrap:wrap;\n",
              "      gap: 12px;\n",
              "    }\n",
              "\n",
              "    .colab-df-convert {\n",
              "      background-color: #E8F0FE;\n",
              "      border: none;\n",
              "      border-radius: 50%;\n",
              "      cursor: pointer;\n",
              "      display: none;\n",
              "      fill: #1967D2;\n",
              "      height: 32px;\n",
              "      padding: 0 0 0 0;\n",
              "      width: 32px;\n",
              "    }\n",
              "\n",
              "    .colab-df-convert:hover {\n",
              "      background-color: #E2EBFA;\n",
              "      box-shadow: 0px 1px 2px rgba(60, 64, 67, 0.3), 0px 1px 3px 1px rgba(60, 64, 67, 0.15);\n",
              "      fill: #174EA6;\n",
              "    }\n",
              "\n",
              "    [theme=dark] .colab-df-convert {\n",
              "      background-color: #3B4455;\n",
              "      fill: #D2E3FC;\n",
              "    }\n",
              "\n",
              "    [theme=dark] .colab-df-convert:hover {\n",
              "      background-color: #434B5C;\n",
              "      box-shadow: 0px 1px 3px 1px rgba(0, 0, 0, 0.15);\n",
              "      filter: drop-shadow(0px 1px 2px rgba(0, 0, 0, 0.3));\n",
              "      fill: #FFFFFF;\n",
              "    }\n",
              "  </style>\n",
              "\n",
              "      <script>\n",
              "        const buttonEl =\n",
              "          document.querySelector('#df-be6f7db4-bd1e-464e-a653-143c102e16df button.colab-df-convert');\n",
              "        buttonEl.style.display =\n",
              "          google.colab.kernel.accessAllowed ? 'block' : 'none';\n",
              "\n",
              "        async function convertToInteractive(key) {\n",
              "          const element = document.querySelector('#df-be6f7db4-bd1e-464e-a653-143c102e16df');\n",
              "          const dataTable =\n",
              "            await google.colab.kernel.invokeFunction('convertToInteractive',\n",
              "                                                     [key], {});\n",
              "          if (!dataTable) return;\n",
              "\n",
              "          const docLinkHtml = 'Like what you see? Visit the ' +\n",
              "            '<a target=\"_blank\" href=https://colab.research.google.com/notebooks/data_table.ipynb>data table notebook</a>'\n",
              "            + ' to learn more about interactive tables.';\n",
              "          element.innerHTML = '';\n",
              "          dataTable['output_type'] = 'display_data';\n",
              "          await google.colab.output.renderOutput(dataTable, element);\n",
              "          const docLink = document.createElement('div');\n",
              "          docLink.innerHTML = docLinkHtml;\n",
              "          element.appendChild(docLink);\n",
              "        }\n",
              "      </script>\n",
              "    </div>\n",
              "  </div>\n",
              "  "
            ]
          },
          "metadata": {},
          "execution_count": 68
        }
      ],
      "source": [
        "meta.head()"
      ]
    },
    {
      "cell_type": "code",
      "execution_count": 69,
      "metadata": {
        "execution": {
          "iopub.execute_input": "2022-04-03T11:50:42.481459Z",
          "iopub.status.busy": "2022-04-03T11:50:42.481239Z",
          "iopub.status.idle": "2022-04-03T11:50:42.486998Z",
          "shell.execute_reply": "2022-04-03T11:50:42.486206Z",
          "shell.execute_reply.started": "2022-04-03T11:50:42.481432Z"
        },
        "id": "h1NhA05rvF68",
        "outputId": "2aedd588-a7e2-426c-92e8-585cb01ed7af",
        "colab": {
          "base_uri": "https://localhost:8080/"
        }
      },
      "outputs": [
        {
          "output_type": "execute_result",
          "data": {
            "text/plain": [
              "Index(['pratilipi_id', 'category_name', 'month', 'year', 'reading_time_min'], dtype='object')"
            ]
          },
          "metadata": {},
          "execution_count": 69
        }
      ],
      "source": [
        "meta.columns"
      ]
    },
    {
      "cell_type": "code",
      "execution_count": 70,
      "metadata": {
        "execution": {
          "iopub.execute_input": "2022-04-03T11:50:42.489382Z",
          "iopub.status.busy": "2022-04-03T11:50:42.488524Z",
          "iopub.status.idle": "2022-04-03T11:50:42.502335Z",
          "shell.execute_reply": "2022-04-03T11:50:42.501756Z",
          "shell.execute_reply.started": "2022-04-03T11:50:42.489341Z"
        },
        "id": "1lE-p_n8vF68",
        "outputId": "1e432ac5-e5ea-4f94-9ee5-9308efe69ecb",
        "colab": {
          "base_uri": "https://localhost:8080/",
          "height": 206
        }
      },
      "outputs": [
        {
          "output_type": "execute_result",
          "data": {
            "text/plain": [
              "   Unnamed: 0           user_id      pratilipi_id  read_percent  \\\n",
              "0           0  5506791963854965  1377786220672965         100.0   \n",
              "1           4  5506791992372558  1377786218111595         100.0   \n",
              "2          11  5506791958041994  1377786225711380         100.0   \n",
              "3          13  5506791978198543  1377786220930983         100.0   \n",
              "4          14  5506791975873682  1377786225752249         100.0   \n",
              "\n",
              "               updated_at  \n",
              "0 2022-03-23 00:08:26.227  \n",
              "1 2022-03-23 00:08:25.250  \n",
              "2 2022-03-23 00:08:21.954  \n",
              "3 2022-03-23 00:08:20.095  \n",
              "4 2022-03-23 00:08:19.906  "
            ],
            "text/html": [
              "\n",
              "  <div id=\"df-f2c9d08e-49f1-4afb-af52-753728f9d18d\">\n",
              "    <div class=\"colab-df-container\">\n",
              "      <div>\n",
              "<style scoped>\n",
              "    .dataframe tbody tr th:only-of-type {\n",
              "        vertical-align: middle;\n",
              "    }\n",
              "\n",
              "    .dataframe tbody tr th {\n",
              "        vertical-align: top;\n",
              "    }\n",
              "\n",
              "    .dataframe thead th {\n",
              "        text-align: right;\n",
              "    }\n",
              "</style>\n",
              "<table border=\"1\" class=\"dataframe\">\n",
              "  <thead>\n",
              "    <tr style=\"text-align: right;\">\n",
              "      <th></th>\n",
              "      <th>Unnamed: 0</th>\n",
              "      <th>user_id</th>\n",
              "      <th>pratilipi_id</th>\n",
              "      <th>read_percent</th>\n",
              "      <th>updated_at</th>\n",
              "    </tr>\n",
              "  </thead>\n",
              "  <tbody>\n",
              "    <tr>\n",
              "      <th>0</th>\n",
              "      <td>0</td>\n",
              "      <td>5506791963854965</td>\n",
              "      <td>1377786220672965</td>\n",
              "      <td>100.0</td>\n",
              "      <td>2022-03-23 00:08:26.227</td>\n",
              "    </tr>\n",
              "    <tr>\n",
              "      <th>1</th>\n",
              "      <td>4</td>\n",
              "      <td>5506791992372558</td>\n",
              "      <td>1377786218111595</td>\n",
              "      <td>100.0</td>\n",
              "      <td>2022-03-23 00:08:25.250</td>\n",
              "    </tr>\n",
              "    <tr>\n",
              "      <th>2</th>\n",
              "      <td>11</td>\n",
              "      <td>5506791958041994</td>\n",
              "      <td>1377786225711380</td>\n",
              "      <td>100.0</td>\n",
              "      <td>2022-03-23 00:08:21.954</td>\n",
              "    </tr>\n",
              "    <tr>\n",
              "      <th>3</th>\n",
              "      <td>13</td>\n",
              "      <td>5506791978198543</td>\n",
              "      <td>1377786220930983</td>\n",
              "      <td>100.0</td>\n",
              "      <td>2022-03-23 00:08:20.095</td>\n",
              "    </tr>\n",
              "    <tr>\n",
              "      <th>4</th>\n",
              "      <td>14</td>\n",
              "      <td>5506791975873682</td>\n",
              "      <td>1377786225752249</td>\n",
              "      <td>100.0</td>\n",
              "      <td>2022-03-23 00:08:19.906</td>\n",
              "    </tr>\n",
              "  </tbody>\n",
              "</table>\n",
              "</div>\n",
              "      <button class=\"colab-df-convert\" onclick=\"convertToInteractive('df-f2c9d08e-49f1-4afb-af52-753728f9d18d')\"\n",
              "              title=\"Convert this dataframe to an interactive table.\"\n",
              "              style=\"display:none;\">\n",
              "        \n",
              "  <svg xmlns=\"http://www.w3.org/2000/svg\" height=\"24px\"viewBox=\"0 0 24 24\"\n",
              "       width=\"24px\">\n",
              "    <path d=\"M0 0h24v24H0V0z\" fill=\"none\"/>\n",
              "    <path d=\"M18.56 5.44l.94 2.06.94-2.06 2.06-.94-2.06-.94-.94-2.06-.94 2.06-2.06.94zm-11 1L8.5 8.5l.94-2.06 2.06-.94-2.06-.94L8.5 2.5l-.94 2.06-2.06.94zm10 10l.94 2.06.94-2.06 2.06-.94-2.06-.94-.94-2.06-.94 2.06-2.06.94z\"/><path d=\"M17.41 7.96l-1.37-1.37c-.4-.4-.92-.59-1.43-.59-.52 0-1.04.2-1.43.59L10.3 9.45l-7.72 7.72c-.78.78-.78 2.05 0 2.83L4 21.41c.39.39.9.59 1.41.59.51 0 1.02-.2 1.41-.59l7.78-7.78 2.81-2.81c.8-.78.8-2.07 0-2.86zM5.41 20L4 18.59l7.72-7.72 1.47 1.35L5.41 20z\"/>\n",
              "  </svg>\n",
              "      </button>\n",
              "      \n",
              "  <style>\n",
              "    .colab-df-container {\n",
              "      display:flex;\n",
              "      flex-wrap:wrap;\n",
              "      gap: 12px;\n",
              "    }\n",
              "\n",
              "    .colab-df-convert {\n",
              "      background-color: #E8F0FE;\n",
              "      border: none;\n",
              "      border-radius: 50%;\n",
              "      cursor: pointer;\n",
              "      display: none;\n",
              "      fill: #1967D2;\n",
              "      height: 32px;\n",
              "      padding: 0 0 0 0;\n",
              "      width: 32px;\n",
              "    }\n",
              "\n",
              "    .colab-df-convert:hover {\n",
              "      background-color: #E2EBFA;\n",
              "      box-shadow: 0px 1px 2px rgba(60, 64, 67, 0.3), 0px 1px 3px 1px rgba(60, 64, 67, 0.15);\n",
              "      fill: #174EA6;\n",
              "    }\n",
              "\n",
              "    [theme=dark] .colab-df-convert {\n",
              "      background-color: #3B4455;\n",
              "      fill: #D2E3FC;\n",
              "    }\n",
              "\n",
              "    [theme=dark] .colab-df-convert:hover {\n",
              "      background-color: #434B5C;\n",
              "      box-shadow: 0px 1px 3px 1px rgba(0, 0, 0, 0.15);\n",
              "      filter: drop-shadow(0px 1px 2px rgba(0, 0, 0, 0.3));\n",
              "      fill: #FFFFFF;\n",
              "    }\n",
              "  </style>\n",
              "\n",
              "      <script>\n",
              "        const buttonEl =\n",
              "          document.querySelector('#df-f2c9d08e-49f1-4afb-af52-753728f9d18d button.colab-df-convert');\n",
              "        buttonEl.style.display =\n",
              "          google.colab.kernel.accessAllowed ? 'block' : 'none';\n",
              "\n",
              "        async function convertToInteractive(key) {\n",
              "          const element = document.querySelector('#df-f2c9d08e-49f1-4afb-af52-753728f9d18d');\n",
              "          const dataTable =\n",
              "            await google.colab.kernel.invokeFunction('convertToInteractive',\n",
              "                                                     [key], {});\n",
              "          if (!dataTable) return;\n",
              "\n",
              "          const docLinkHtml = 'Like what you see? Visit the ' +\n",
              "            '<a target=\"_blank\" href=https://colab.research.google.com/notebooks/data_table.ipynb>data table notebook</a>'\n",
              "            + ' to learn more about interactive tables.';\n",
              "          element.innerHTML = '';\n",
              "          dataTable['output_type'] = 'display_data';\n",
              "          await google.colab.output.renderOutput(dataTable, element);\n",
              "          const docLink = document.createElement('div');\n",
              "          docLink.innerHTML = docLinkHtml;\n",
              "          element.appendChild(docLink);\n",
              "        }\n",
              "      </script>\n",
              "    </div>\n",
              "  </div>\n",
              "  "
            ]
          },
          "metadata": {},
          "execution_count": 70
        }
      ],
      "source": [
        "user.head()"
      ]
    },
    {
      "cell_type": "code",
      "execution_count": 71,
      "metadata": {
        "execution": {
          "iopub.execute_input": "2022-04-03T11:50:42.503642Z",
          "iopub.status.busy": "2022-04-03T11:50:42.503301Z",
          "iopub.status.idle": "2022-04-03T11:50:42.673228Z",
          "shell.execute_reply": "2022-04-03T11:50:42.672465Z",
          "shell.execute_reply.started": "2022-04-03T11:50:42.503609Z"
        },
        "id": "S5pQthkpvF69",
        "outputId": "becb937f-cfd6-41f5-85aa-2f074ce9bfd1",
        "colab": {
          "base_uri": "https://localhost:8080/",
          "height": 658
        }
      },
      "outputs": [
        {
          "output_type": "execute_result",
          "data": {
            "text/plain": [
              "         Unnamed: 0           user_id      pratilipi_id  read_percent  \\\n",
              "0                 0  5506791963854965  1377786220672965         100.0   \n",
              "1                 4  5506791992372558  1377786218111595         100.0   \n",
              "2                11  5506791958041994  1377786225711380         100.0   \n",
              "3                13  5506791978198543  1377786220930983         100.0   \n",
              "4                14  5506791975873682  1377786225752249         100.0   \n",
              "...             ...               ...               ...           ...   \n",
              "5338632     9999990  5506791979182708  1377786218415632         100.0   \n",
              "5338633     9999991  5506791950653936  1377786215559645          75.0   \n",
              "5338634     9999992  5506791980439899  1377786228150074         100.0   \n",
              "5338635     9999994  5506791972010795  1377786228217647          99.0   \n",
              "5338636     9999999  5506791964450228  1377786228203072         100.0   \n",
              "\n",
              "                     updated_at                            category_name  \\\n",
              "0       2022-03-23 00:08:26.227        [novels, romance, moralinspiring]   \n",
              "1       2022-03-23 00:08:25.250              [novels, romance, suspense]   \n",
              "2       2022-03-23 00:08:21.954                        [family, romance]   \n",
              "3       2022-03-23 00:08:20.095                      [romance, suspense]   \n",
              "4       2022-03-23 00:08:19.906  [novels, PratilipiAwardsHindi, romance]   \n",
              "...                         ...                                      ...   \n",
              "5338632 2022-03-18 15:14:42.134                        [novels, romance]   \n",
              "5338633 2022-03-18 15:14:42.122   [family, moralinspiring, shortstories]   \n",
              "5338634 2022-03-18 15:14:42.120              [family, romance, suspense]   \n",
              "5338635 2022-03-18 15:14:42.081             [drama, suspense, swahindi2]   \n",
              "5338636 2022-03-18 15:14:41.771             [novels, romance, swahindi2]   \n",
              "\n",
              "         month    year  reading_time_min  \n",
              "0          8.0  2020.0                 5  \n",
              "1          2.0  2020.0                29  \n",
              "2          9.0  2021.0                 3  \n",
              "3          9.0  2020.0                11  \n",
              "4          9.0  2021.0                 7  \n",
              "...        ...     ...               ...  \n",
              "5338632    3.0  2020.0                26  \n",
              "5338633    5.0  2018.0                 1  \n",
              "5338634    3.0  2022.0                17  \n",
              "5338635    3.0  2022.0                 6  \n",
              "5338636    3.0  2022.0                11  \n",
              "\n",
              "[5338637 rows x 9 columns]"
            ],
            "text/html": [
              "\n",
              "  <div id=\"df-632a9d62-18f8-4e53-a1ce-3d4ee0b476e7\">\n",
              "    <div class=\"colab-df-container\">\n",
              "      <div>\n",
              "<style scoped>\n",
              "    .dataframe tbody tr th:only-of-type {\n",
              "        vertical-align: middle;\n",
              "    }\n",
              "\n",
              "    .dataframe tbody tr th {\n",
              "        vertical-align: top;\n",
              "    }\n",
              "\n",
              "    .dataframe thead th {\n",
              "        text-align: right;\n",
              "    }\n",
              "</style>\n",
              "<table border=\"1\" class=\"dataframe\">\n",
              "  <thead>\n",
              "    <tr style=\"text-align: right;\">\n",
              "      <th></th>\n",
              "      <th>Unnamed: 0</th>\n",
              "      <th>user_id</th>\n",
              "      <th>pratilipi_id</th>\n",
              "      <th>read_percent</th>\n",
              "      <th>updated_at</th>\n",
              "      <th>category_name</th>\n",
              "      <th>month</th>\n",
              "      <th>year</th>\n",
              "      <th>reading_time_min</th>\n",
              "    </tr>\n",
              "  </thead>\n",
              "  <tbody>\n",
              "    <tr>\n",
              "      <th>0</th>\n",
              "      <td>0</td>\n",
              "      <td>5506791963854965</td>\n",
              "      <td>1377786220672965</td>\n",
              "      <td>100.0</td>\n",
              "      <td>2022-03-23 00:08:26.227</td>\n",
              "      <td>[novels, romance, moralinspiring]</td>\n",
              "      <td>8.0</td>\n",
              "      <td>2020.0</td>\n",
              "      <td>5</td>\n",
              "    </tr>\n",
              "    <tr>\n",
              "      <th>1</th>\n",
              "      <td>4</td>\n",
              "      <td>5506791992372558</td>\n",
              "      <td>1377786218111595</td>\n",
              "      <td>100.0</td>\n",
              "      <td>2022-03-23 00:08:25.250</td>\n",
              "      <td>[novels, romance, suspense]</td>\n",
              "      <td>2.0</td>\n",
              "      <td>2020.0</td>\n",
              "      <td>29</td>\n",
              "    </tr>\n",
              "    <tr>\n",
              "      <th>2</th>\n",
              "      <td>11</td>\n",
              "      <td>5506791958041994</td>\n",
              "      <td>1377786225711380</td>\n",
              "      <td>100.0</td>\n",
              "      <td>2022-03-23 00:08:21.954</td>\n",
              "      <td>[family, romance]</td>\n",
              "      <td>9.0</td>\n",
              "      <td>2021.0</td>\n",
              "      <td>3</td>\n",
              "    </tr>\n",
              "    <tr>\n",
              "      <th>3</th>\n",
              "      <td>13</td>\n",
              "      <td>5506791978198543</td>\n",
              "      <td>1377786220930983</td>\n",
              "      <td>100.0</td>\n",
              "      <td>2022-03-23 00:08:20.095</td>\n",
              "      <td>[romance, suspense]</td>\n",
              "      <td>9.0</td>\n",
              "      <td>2020.0</td>\n",
              "      <td>11</td>\n",
              "    </tr>\n",
              "    <tr>\n",
              "      <th>4</th>\n",
              "      <td>14</td>\n",
              "      <td>5506791975873682</td>\n",
              "      <td>1377786225752249</td>\n",
              "      <td>100.0</td>\n",
              "      <td>2022-03-23 00:08:19.906</td>\n",
              "      <td>[novels, PratilipiAwardsHindi, romance]</td>\n",
              "      <td>9.0</td>\n",
              "      <td>2021.0</td>\n",
              "      <td>7</td>\n",
              "    </tr>\n",
              "    <tr>\n",
              "      <th>...</th>\n",
              "      <td>...</td>\n",
              "      <td>...</td>\n",
              "      <td>...</td>\n",
              "      <td>...</td>\n",
              "      <td>...</td>\n",
              "      <td>...</td>\n",
              "      <td>...</td>\n",
              "      <td>...</td>\n",
              "      <td>...</td>\n",
              "    </tr>\n",
              "    <tr>\n",
              "      <th>5338632</th>\n",
              "      <td>9999990</td>\n",
              "      <td>5506791979182708</td>\n",
              "      <td>1377786218415632</td>\n",
              "      <td>100.0</td>\n",
              "      <td>2022-03-18 15:14:42.134</td>\n",
              "      <td>[novels, romance]</td>\n",
              "      <td>3.0</td>\n",
              "      <td>2020.0</td>\n",
              "      <td>26</td>\n",
              "    </tr>\n",
              "    <tr>\n",
              "      <th>5338633</th>\n",
              "      <td>9999991</td>\n",
              "      <td>5506791950653936</td>\n",
              "      <td>1377786215559645</td>\n",
              "      <td>75.0</td>\n",
              "      <td>2022-03-18 15:14:42.122</td>\n",
              "      <td>[family, moralinspiring, shortstories]</td>\n",
              "      <td>5.0</td>\n",
              "      <td>2018.0</td>\n",
              "      <td>1</td>\n",
              "    </tr>\n",
              "    <tr>\n",
              "      <th>5338634</th>\n",
              "      <td>9999992</td>\n",
              "      <td>5506791980439899</td>\n",
              "      <td>1377786228150074</td>\n",
              "      <td>100.0</td>\n",
              "      <td>2022-03-18 15:14:42.120</td>\n",
              "      <td>[family, romance, suspense]</td>\n",
              "      <td>3.0</td>\n",
              "      <td>2022.0</td>\n",
              "      <td>17</td>\n",
              "    </tr>\n",
              "    <tr>\n",
              "      <th>5338635</th>\n",
              "      <td>9999994</td>\n",
              "      <td>5506791972010795</td>\n",
              "      <td>1377786228217647</td>\n",
              "      <td>99.0</td>\n",
              "      <td>2022-03-18 15:14:42.081</td>\n",
              "      <td>[drama, suspense, swahindi2]</td>\n",
              "      <td>3.0</td>\n",
              "      <td>2022.0</td>\n",
              "      <td>6</td>\n",
              "    </tr>\n",
              "    <tr>\n",
              "      <th>5338636</th>\n",
              "      <td>9999999</td>\n",
              "      <td>5506791964450228</td>\n",
              "      <td>1377786228203072</td>\n",
              "      <td>100.0</td>\n",
              "      <td>2022-03-18 15:14:41.771</td>\n",
              "      <td>[novels, romance, swahindi2]</td>\n",
              "      <td>3.0</td>\n",
              "      <td>2022.0</td>\n",
              "      <td>11</td>\n",
              "    </tr>\n",
              "  </tbody>\n",
              "</table>\n",
              "<p>5338637 rows × 9 columns</p>\n",
              "</div>\n",
              "      <button class=\"colab-df-convert\" onclick=\"convertToInteractive('df-632a9d62-18f8-4e53-a1ce-3d4ee0b476e7')\"\n",
              "              title=\"Convert this dataframe to an interactive table.\"\n",
              "              style=\"display:none;\">\n",
              "        \n",
              "  <svg xmlns=\"http://www.w3.org/2000/svg\" height=\"24px\"viewBox=\"0 0 24 24\"\n",
              "       width=\"24px\">\n",
              "    <path d=\"M0 0h24v24H0V0z\" fill=\"none\"/>\n",
              "    <path d=\"M18.56 5.44l.94 2.06.94-2.06 2.06-.94-2.06-.94-.94-2.06-.94 2.06-2.06.94zm-11 1L8.5 8.5l.94-2.06 2.06-.94-2.06-.94L8.5 2.5l-.94 2.06-2.06.94zm10 10l.94 2.06.94-2.06 2.06-.94-2.06-.94-.94-2.06-.94 2.06-2.06.94z\"/><path d=\"M17.41 7.96l-1.37-1.37c-.4-.4-.92-.59-1.43-.59-.52 0-1.04.2-1.43.59L10.3 9.45l-7.72 7.72c-.78.78-.78 2.05 0 2.83L4 21.41c.39.39.9.59 1.41.59.51 0 1.02-.2 1.41-.59l7.78-7.78 2.81-2.81c.8-.78.8-2.07 0-2.86zM5.41 20L4 18.59l7.72-7.72 1.47 1.35L5.41 20z\"/>\n",
              "  </svg>\n",
              "      </button>\n",
              "      \n",
              "  <style>\n",
              "    .colab-df-container {\n",
              "      display:flex;\n",
              "      flex-wrap:wrap;\n",
              "      gap: 12px;\n",
              "    }\n",
              "\n",
              "    .colab-df-convert {\n",
              "      background-color: #E8F0FE;\n",
              "      border: none;\n",
              "      border-radius: 50%;\n",
              "      cursor: pointer;\n",
              "      display: none;\n",
              "      fill: #1967D2;\n",
              "      height: 32px;\n",
              "      padding: 0 0 0 0;\n",
              "      width: 32px;\n",
              "    }\n",
              "\n",
              "    .colab-df-convert:hover {\n",
              "      background-color: #E2EBFA;\n",
              "      box-shadow: 0px 1px 2px rgba(60, 64, 67, 0.3), 0px 1px 3px 1px rgba(60, 64, 67, 0.15);\n",
              "      fill: #174EA6;\n",
              "    }\n",
              "\n",
              "    [theme=dark] .colab-df-convert {\n",
              "      background-color: #3B4455;\n",
              "      fill: #D2E3FC;\n",
              "    }\n",
              "\n",
              "    [theme=dark] .colab-df-convert:hover {\n",
              "      background-color: #434B5C;\n",
              "      box-shadow: 0px 1px 3px 1px rgba(0, 0, 0, 0.15);\n",
              "      filter: drop-shadow(0px 1px 2px rgba(0, 0, 0, 0.3));\n",
              "      fill: #FFFFFF;\n",
              "    }\n",
              "  </style>\n",
              "\n",
              "      <script>\n",
              "        const buttonEl =\n",
              "          document.querySelector('#df-632a9d62-18f8-4e53-a1ce-3d4ee0b476e7 button.colab-df-convert');\n",
              "        buttonEl.style.display =\n",
              "          google.colab.kernel.accessAllowed ? 'block' : 'none';\n",
              "\n",
              "        async function convertToInteractive(key) {\n",
              "          const element = document.querySelector('#df-632a9d62-18f8-4e53-a1ce-3d4ee0b476e7');\n",
              "          const dataTable =\n",
              "            await google.colab.kernel.invokeFunction('convertToInteractive',\n",
              "                                                     [key], {});\n",
              "          if (!dataTable) return;\n",
              "\n",
              "          const docLinkHtml = 'Like what you see? Visit the ' +\n",
              "            '<a target=\"_blank\" href=https://colab.research.google.com/notebooks/data_table.ipynb>data table notebook</a>'\n",
              "            + ' to learn more about interactive tables.';\n",
              "          element.innerHTML = '';\n",
              "          dataTable['output_type'] = 'display_data';\n",
              "          await google.colab.output.renderOutput(dataTable, element);\n",
              "          const docLink = document.createElement('div');\n",
              "          docLink.innerHTML = docLinkHtml;\n",
              "          element.appendChild(docLink);\n",
              "        }\n",
              "      </script>\n",
              "    </div>\n",
              "  </div>\n",
              "  "
            ]
          },
          "metadata": {},
          "execution_count": 71
        }
      ],
      "source": [
        "df = user.merge(meta, on = 'pratilipi_id',how = 'left')\n",
        "df"
      ]
    },
    {
      "cell_type": "code",
      "source": [
        "df.drop([\"Unnamed: 0\"],axis=1,inplace=True)"
      ],
      "metadata": {
        "id": "4pfKI7hI7ZUP"
      },
      "execution_count": 72,
      "outputs": []
    },
    {
      "cell_type": "code",
      "source": [
        "df"
      ],
      "metadata": {
        "colab": {
          "base_uri": "https://localhost:8080/",
          "height": 641
        },
        "id": "8nQmZmiR7oEc",
        "outputId": "dcb3734a-66b9-4fb1-d82f-95b6a6528c44"
      },
      "execution_count": 73,
      "outputs": [
        {
          "output_type": "execute_result",
          "data": {
            "text/plain": [
              "                  user_id      pratilipi_id  read_percent  \\\n",
              "0        5506791963854965  1377786220672965         100.0   \n",
              "1        5506791992372558  1377786218111595         100.0   \n",
              "2        5506791958041994  1377786225711380         100.0   \n",
              "3        5506791978198543  1377786220930983         100.0   \n",
              "4        5506791975873682  1377786225752249         100.0   \n",
              "...                   ...               ...           ...   \n",
              "5338632  5506791979182708  1377786218415632         100.0   \n",
              "5338633  5506791950653936  1377786215559645          75.0   \n",
              "5338634  5506791980439899  1377786228150074         100.0   \n",
              "5338635  5506791972010795  1377786228217647          99.0   \n",
              "5338636  5506791964450228  1377786228203072         100.0   \n",
              "\n",
              "                     updated_at                            category_name  \\\n",
              "0       2022-03-23 00:08:26.227        [novels, romance, moralinspiring]   \n",
              "1       2022-03-23 00:08:25.250              [novels, romance, suspense]   \n",
              "2       2022-03-23 00:08:21.954                        [family, romance]   \n",
              "3       2022-03-23 00:08:20.095                      [romance, suspense]   \n",
              "4       2022-03-23 00:08:19.906  [novels, PratilipiAwardsHindi, romance]   \n",
              "...                         ...                                      ...   \n",
              "5338632 2022-03-18 15:14:42.134                        [novels, romance]   \n",
              "5338633 2022-03-18 15:14:42.122   [family, moralinspiring, shortstories]   \n",
              "5338634 2022-03-18 15:14:42.120              [family, romance, suspense]   \n",
              "5338635 2022-03-18 15:14:42.081             [drama, suspense, swahindi2]   \n",
              "5338636 2022-03-18 15:14:41.771             [novels, romance, swahindi2]   \n",
              "\n",
              "         month    year  reading_time_min  \n",
              "0          8.0  2020.0                 5  \n",
              "1          2.0  2020.0                29  \n",
              "2          9.0  2021.0                 3  \n",
              "3          9.0  2020.0                11  \n",
              "4          9.0  2021.0                 7  \n",
              "...        ...     ...               ...  \n",
              "5338632    3.0  2020.0                26  \n",
              "5338633    5.0  2018.0                 1  \n",
              "5338634    3.0  2022.0                17  \n",
              "5338635    3.0  2022.0                 6  \n",
              "5338636    3.0  2022.0                11  \n",
              "\n",
              "[5338637 rows x 8 columns]"
            ],
            "text/html": [
              "\n",
              "  <div id=\"df-878eefed-b8a2-4357-9313-e10060371f11\">\n",
              "    <div class=\"colab-df-container\">\n",
              "      <div>\n",
              "<style scoped>\n",
              "    .dataframe tbody tr th:only-of-type {\n",
              "        vertical-align: middle;\n",
              "    }\n",
              "\n",
              "    .dataframe tbody tr th {\n",
              "        vertical-align: top;\n",
              "    }\n",
              "\n",
              "    .dataframe thead th {\n",
              "        text-align: right;\n",
              "    }\n",
              "</style>\n",
              "<table border=\"1\" class=\"dataframe\">\n",
              "  <thead>\n",
              "    <tr style=\"text-align: right;\">\n",
              "      <th></th>\n",
              "      <th>user_id</th>\n",
              "      <th>pratilipi_id</th>\n",
              "      <th>read_percent</th>\n",
              "      <th>updated_at</th>\n",
              "      <th>category_name</th>\n",
              "      <th>month</th>\n",
              "      <th>year</th>\n",
              "      <th>reading_time_min</th>\n",
              "    </tr>\n",
              "  </thead>\n",
              "  <tbody>\n",
              "    <tr>\n",
              "      <th>0</th>\n",
              "      <td>5506791963854965</td>\n",
              "      <td>1377786220672965</td>\n",
              "      <td>100.0</td>\n",
              "      <td>2022-03-23 00:08:26.227</td>\n",
              "      <td>[novels, romance, moralinspiring]</td>\n",
              "      <td>8.0</td>\n",
              "      <td>2020.0</td>\n",
              "      <td>5</td>\n",
              "    </tr>\n",
              "    <tr>\n",
              "      <th>1</th>\n",
              "      <td>5506791992372558</td>\n",
              "      <td>1377786218111595</td>\n",
              "      <td>100.0</td>\n",
              "      <td>2022-03-23 00:08:25.250</td>\n",
              "      <td>[novels, romance, suspense]</td>\n",
              "      <td>2.0</td>\n",
              "      <td>2020.0</td>\n",
              "      <td>29</td>\n",
              "    </tr>\n",
              "    <tr>\n",
              "      <th>2</th>\n",
              "      <td>5506791958041994</td>\n",
              "      <td>1377786225711380</td>\n",
              "      <td>100.0</td>\n",
              "      <td>2022-03-23 00:08:21.954</td>\n",
              "      <td>[family, romance]</td>\n",
              "      <td>9.0</td>\n",
              "      <td>2021.0</td>\n",
              "      <td>3</td>\n",
              "    </tr>\n",
              "    <tr>\n",
              "      <th>3</th>\n",
              "      <td>5506791978198543</td>\n",
              "      <td>1377786220930983</td>\n",
              "      <td>100.0</td>\n",
              "      <td>2022-03-23 00:08:20.095</td>\n",
              "      <td>[romance, suspense]</td>\n",
              "      <td>9.0</td>\n",
              "      <td>2020.0</td>\n",
              "      <td>11</td>\n",
              "    </tr>\n",
              "    <tr>\n",
              "      <th>4</th>\n",
              "      <td>5506791975873682</td>\n",
              "      <td>1377786225752249</td>\n",
              "      <td>100.0</td>\n",
              "      <td>2022-03-23 00:08:19.906</td>\n",
              "      <td>[novels, PratilipiAwardsHindi, romance]</td>\n",
              "      <td>9.0</td>\n",
              "      <td>2021.0</td>\n",
              "      <td>7</td>\n",
              "    </tr>\n",
              "    <tr>\n",
              "      <th>...</th>\n",
              "      <td>...</td>\n",
              "      <td>...</td>\n",
              "      <td>...</td>\n",
              "      <td>...</td>\n",
              "      <td>...</td>\n",
              "      <td>...</td>\n",
              "      <td>...</td>\n",
              "      <td>...</td>\n",
              "    </tr>\n",
              "    <tr>\n",
              "      <th>5338632</th>\n",
              "      <td>5506791979182708</td>\n",
              "      <td>1377786218415632</td>\n",
              "      <td>100.0</td>\n",
              "      <td>2022-03-18 15:14:42.134</td>\n",
              "      <td>[novels, romance]</td>\n",
              "      <td>3.0</td>\n",
              "      <td>2020.0</td>\n",
              "      <td>26</td>\n",
              "    </tr>\n",
              "    <tr>\n",
              "      <th>5338633</th>\n",
              "      <td>5506791950653936</td>\n",
              "      <td>1377786215559645</td>\n",
              "      <td>75.0</td>\n",
              "      <td>2022-03-18 15:14:42.122</td>\n",
              "      <td>[family, moralinspiring, shortstories]</td>\n",
              "      <td>5.0</td>\n",
              "      <td>2018.0</td>\n",
              "      <td>1</td>\n",
              "    </tr>\n",
              "    <tr>\n",
              "      <th>5338634</th>\n",
              "      <td>5506791980439899</td>\n",
              "      <td>1377786228150074</td>\n",
              "      <td>100.0</td>\n",
              "      <td>2022-03-18 15:14:42.120</td>\n",
              "      <td>[family, romance, suspense]</td>\n",
              "      <td>3.0</td>\n",
              "      <td>2022.0</td>\n",
              "      <td>17</td>\n",
              "    </tr>\n",
              "    <tr>\n",
              "      <th>5338635</th>\n",
              "      <td>5506791972010795</td>\n",
              "      <td>1377786228217647</td>\n",
              "      <td>99.0</td>\n",
              "      <td>2022-03-18 15:14:42.081</td>\n",
              "      <td>[drama, suspense, swahindi2]</td>\n",
              "      <td>3.0</td>\n",
              "      <td>2022.0</td>\n",
              "      <td>6</td>\n",
              "    </tr>\n",
              "    <tr>\n",
              "      <th>5338636</th>\n",
              "      <td>5506791964450228</td>\n",
              "      <td>1377786228203072</td>\n",
              "      <td>100.0</td>\n",
              "      <td>2022-03-18 15:14:41.771</td>\n",
              "      <td>[novels, romance, swahindi2]</td>\n",
              "      <td>3.0</td>\n",
              "      <td>2022.0</td>\n",
              "      <td>11</td>\n",
              "    </tr>\n",
              "  </tbody>\n",
              "</table>\n",
              "<p>5338637 rows × 8 columns</p>\n",
              "</div>\n",
              "      <button class=\"colab-df-convert\" onclick=\"convertToInteractive('df-878eefed-b8a2-4357-9313-e10060371f11')\"\n",
              "              title=\"Convert this dataframe to an interactive table.\"\n",
              "              style=\"display:none;\">\n",
              "        \n",
              "  <svg xmlns=\"http://www.w3.org/2000/svg\" height=\"24px\"viewBox=\"0 0 24 24\"\n",
              "       width=\"24px\">\n",
              "    <path d=\"M0 0h24v24H0V0z\" fill=\"none\"/>\n",
              "    <path d=\"M18.56 5.44l.94 2.06.94-2.06 2.06-.94-2.06-.94-.94-2.06-.94 2.06-2.06.94zm-11 1L8.5 8.5l.94-2.06 2.06-.94-2.06-.94L8.5 2.5l-.94 2.06-2.06.94zm10 10l.94 2.06.94-2.06 2.06-.94-2.06-.94-.94-2.06-.94 2.06-2.06.94z\"/><path d=\"M17.41 7.96l-1.37-1.37c-.4-.4-.92-.59-1.43-.59-.52 0-1.04.2-1.43.59L10.3 9.45l-7.72 7.72c-.78.78-.78 2.05 0 2.83L4 21.41c.39.39.9.59 1.41.59.51 0 1.02-.2 1.41-.59l7.78-7.78 2.81-2.81c.8-.78.8-2.07 0-2.86zM5.41 20L4 18.59l7.72-7.72 1.47 1.35L5.41 20z\"/>\n",
              "  </svg>\n",
              "      </button>\n",
              "      \n",
              "  <style>\n",
              "    .colab-df-container {\n",
              "      display:flex;\n",
              "      flex-wrap:wrap;\n",
              "      gap: 12px;\n",
              "    }\n",
              "\n",
              "    .colab-df-convert {\n",
              "      background-color: #E8F0FE;\n",
              "      border: none;\n",
              "      border-radius: 50%;\n",
              "      cursor: pointer;\n",
              "      display: none;\n",
              "      fill: #1967D2;\n",
              "      height: 32px;\n",
              "      padding: 0 0 0 0;\n",
              "      width: 32px;\n",
              "    }\n",
              "\n",
              "    .colab-df-convert:hover {\n",
              "      background-color: #E2EBFA;\n",
              "      box-shadow: 0px 1px 2px rgba(60, 64, 67, 0.3), 0px 1px 3px 1px rgba(60, 64, 67, 0.15);\n",
              "      fill: #174EA6;\n",
              "    }\n",
              "\n",
              "    [theme=dark] .colab-df-convert {\n",
              "      background-color: #3B4455;\n",
              "      fill: #D2E3FC;\n",
              "    }\n",
              "\n",
              "    [theme=dark] .colab-df-convert:hover {\n",
              "      background-color: #434B5C;\n",
              "      box-shadow: 0px 1px 3px 1px rgba(0, 0, 0, 0.15);\n",
              "      filter: drop-shadow(0px 1px 2px rgba(0, 0, 0, 0.3));\n",
              "      fill: #FFFFFF;\n",
              "    }\n",
              "  </style>\n",
              "\n",
              "      <script>\n",
              "        const buttonEl =\n",
              "          document.querySelector('#df-878eefed-b8a2-4357-9313-e10060371f11 button.colab-df-convert');\n",
              "        buttonEl.style.display =\n",
              "          google.colab.kernel.accessAllowed ? 'block' : 'none';\n",
              "\n",
              "        async function convertToInteractive(key) {\n",
              "          const element = document.querySelector('#df-878eefed-b8a2-4357-9313-e10060371f11');\n",
              "          const dataTable =\n",
              "            await google.colab.kernel.invokeFunction('convertToInteractive',\n",
              "                                                     [key], {});\n",
              "          if (!dataTable) return;\n",
              "\n",
              "          const docLinkHtml = 'Like what you see? Visit the ' +\n",
              "            '<a target=\"_blank\" href=https://colab.research.google.com/notebooks/data_table.ipynb>data table notebook</a>'\n",
              "            + ' to learn more about interactive tables.';\n",
              "          element.innerHTML = '';\n",
              "          dataTable['output_type'] = 'display_data';\n",
              "          await google.colab.output.renderOutput(dataTable, element);\n",
              "          const docLink = document.createElement('div');\n",
              "          docLink.innerHTML = docLinkHtml;\n",
              "          element.appendChild(docLink);\n",
              "        }\n",
              "      </script>\n",
              "    </div>\n",
              "  </div>\n",
              "  "
            ]
          },
          "metadata": {},
          "execution_count": 73
        }
      ]
    },
    {
      "cell_type": "code",
      "execution_count": 74,
      "metadata": {
        "execution": {
          "iopub.execute_input": "2022-04-03T11:50:42.674893Z",
          "iopub.status.busy": "2022-04-03T11:50:42.674315Z",
          "iopub.status.idle": "2022-04-03T11:50:42.681868Z",
          "shell.execute_reply": "2022-04-03T11:50:42.681076Z",
          "shell.execute_reply.started": "2022-04-03T11:50:42.674858Z"
        },
        "id": "QDJALfq5vF69"
      },
      "outputs": [],
      "source": [
        "#function to build entire feature set and merging both dataset\n",
        "def create_feature_set(meta,user):\n",
        "    \"\"\" \n",
        "    Process df to create a final set of features that will be used to generate recommendations\n",
        "\n",
        "    Parameters: \n",
        "        df (pandas dataframe): Dataframe\n",
        "        float_cols (list(str)): List of float columns that will be scaled \n",
        "        \n",
        "    Returns: \n",
        "        final: final set of features \n",
        "    \"\"\"\n",
        "    df = user.merge(meta, on = 'pratilipi_id',how = 'left')\n",
        "    tfidf = TfidfVectorizer()\n",
        "    tfidf_matrix =  tfidf.fit_transform(df['category_name'].apply(lambda x: \",\".join(x)))\n",
        "    genre_df = pd.DataFrame(tfidf_matrix.toarray())\n",
        "    genre_df.columns =  [i for i in tfidf.get_feature_names()]\n",
        "    genre_df.reset_index(drop = True, inplace=True)\n",
        "    #concanenate all features\n",
        "    final = pd.concat([df,genre_df], axis = 1)\n",
        "    final.drop([\"category_name\"],axis =1,inplace = True)\n",
        "    print(genre_df.columns)\n",
        "    return final"
      ]
    },
    {
      "cell_type": "code",
      "execution_count": 75,
      "metadata": {
        "execution": {
          "iopub.execute_input": "2022-04-03T11:50:42.683092Z",
          "iopub.status.busy": "2022-04-03T11:50:42.682874Z",
          "iopub.status.idle": "2022-04-03T11:50:44.648639Z",
          "shell.execute_reply": "2022-04-03T11:50:44.647641Z",
          "shell.execute_reply.started": "2022-04-03T11:50:42.683066Z"
        },
        "id": "UWvH17xwvF7F",
        "colab": {
          "base_uri": "https://localhost:8080/"
        },
        "outputId": "8569c04b-e4fc-49c6-f19e-128ebd1ad56f"
      },
      "outputs": [
        {
          "output_type": "stream",
          "name": "stderr",
          "text": [
            "/usr/local/lib/python3.7/dist-packages/sklearn/utils/deprecation.py:87: FutureWarning: Function get_feature_names is deprecated; get_feature_names is deprecated in 1.0 and will be removed in 1.2. Please use get_feature_names_out instead.\n",
            "  warnings.warn(msg, category=FutureWarning)\n"
          ]
        },
        {
          "output_type": "stream",
          "name": "stdout",
          "text": [
            "Index(['actionandadventure', 'children', 'comedy', 'crime', 'crimelekhan',\n",
            "       'cybercrimefiction', 'detective', 'drama', 'entertainment', 'erotica',\n",
            "       'experiencesandmemories', 'family', 'fantasy', 'healthandwellness',\n",
            "       'horror', 'horrormarathon', 'indiawale', 'krishijeevan', 'life',\n",
            "       'moralinspiring', 'murdermystery', 'mythology', 'novels', 'parytan',\n",
            "       'politics', 'pratilipiawardshindi', 'pratilipikalamkarsamman',\n",
            "       'pratilipikids', 'pravasisahitya', 'premkamahina', 'radiofiction',\n",
            "       'rashtriya', 'relegionandspiritual', 'romance', 'sciencefiction',\n",
            "       'serieswriting', 'shortstories', 'shortstorychallenge', 'social',\n",
            "       'suspense', 'swahindi2', 'thechatstory', 'translation', 'webseries',\n",
            "       'women'],\n",
            "      dtype='object')\n"
          ]
        }
      ],
      "source": [
        "final = create_feature_set(meta,user)"
      ]
    },
    {
      "cell_type": "code",
      "execution_count": 76,
      "metadata": {
        "execution": {
          "iopub.execute_input": "2022-04-03T11:50:44.650624Z",
          "iopub.status.busy": "2022-04-03T11:50:44.650301Z",
          "iopub.status.idle": "2022-04-03T11:50:44.679877Z",
          "shell.execute_reply": "2022-04-03T11:50:44.678971Z",
          "shell.execute_reply.started": "2022-04-03T11:50:44.650583Z"
        },
        "id": "FTMP9O4lvF7F",
        "colab": {
          "base_uri": "https://localhost:8080/",
          "height": 403
        },
        "outputId": "58777ba7-d306-4453-925c-a1d30d17e3ac"
      },
      "outputs": [
        {
          "output_type": "execute_result",
          "data": {
            "text/plain": [
              "   Unnamed: 0           user_id      pratilipi_id  read_percent  \\\n",
              "0           0  5506791963854965  1377786220672965         100.0   \n",
              "1           4  5506791992372558  1377786218111595         100.0   \n",
              "2          11  5506791958041994  1377786225711380         100.0   \n",
              "3          13  5506791978198543  1377786220930983         100.0   \n",
              "4          14  5506791975873682  1377786225752249         100.0   \n",
              "\n",
              "               updated_at  month    year  reading_time_min  \\\n",
              "0 2022-03-23 00:08:26.227    8.0  2020.0                 5   \n",
              "1 2022-03-23 00:08:25.250    2.0  2020.0                29   \n",
              "2 2022-03-23 00:08:21.954    9.0  2021.0                 3   \n",
              "3 2022-03-23 00:08:20.095    9.0  2020.0                11   \n",
              "4 2022-03-23 00:08:19.906    9.0  2021.0                 7   \n",
              "\n",
              "   actionandadventure  children  ...  serieswriting  shortstories  \\\n",
              "0                 0.0       0.0  ...            0.0           0.0   \n",
              "1                 0.0       0.0  ...            0.0           0.0   \n",
              "2                 0.0       0.0  ...            0.0           0.0   \n",
              "3                 0.0       0.0  ...            0.0           0.0   \n",
              "4                 0.0       0.0  ...            0.0           0.0   \n",
              "\n",
              "   shortstorychallenge  social  suspense  swahindi2  thechatstory  \\\n",
              "0                  0.0     0.0  0.000000        0.0           0.0   \n",
              "1                  0.0     0.0  0.677467        0.0           0.0   \n",
              "2                  0.0     0.0  0.000000        0.0           0.0   \n",
              "3                  0.0     0.0  0.869441        0.0           0.0   \n",
              "4                  0.0     0.0  0.000000        0.0           0.0   \n",
              "\n",
              "   translation  webseries  women  \n",
              "0          0.0        0.0    0.0  \n",
              "1          0.0        0.0    0.0  \n",
              "2          0.0        0.0    0.0  \n",
              "3          0.0        0.0    0.0  \n",
              "4          0.0        0.0    0.0  \n",
              "\n",
              "[5 rows x 53 columns]"
            ],
            "text/html": [
              "\n",
              "  <div id=\"df-8abf45a5-4382-4c39-a82b-ed7d60bffaa6\">\n",
              "    <div class=\"colab-df-container\">\n",
              "      <div>\n",
              "<style scoped>\n",
              "    .dataframe tbody tr th:only-of-type {\n",
              "        vertical-align: middle;\n",
              "    }\n",
              "\n",
              "    .dataframe tbody tr th {\n",
              "        vertical-align: top;\n",
              "    }\n",
              "\n",
              "    .dataframe thead th {\n",
              "        text-align: right;\n",
              "    }\n",
              "</style>\n",
              "<table border=\"1\" class=\"dataframe\">\n",
              "  <thead>\n",
              "    <tr style=\"text-align: right;\">\n",
              "      <th></th>\n",
              "      <th>Unnamed: 0</th>\n",
              "      <th>user_id</th>\n",
              "      <th>pratilipi_id</th>\n",
              "      <th>read_percent</th>\n",
              "      <th>updated_at</th>\n",
              "      <th>month</th>\n",
              "      <th>year</th>\n",
              "      <th>reading_time_min</th>\n",
              "      <th>actionandadventure</th>\n",
              "      <th>children</th>\n",
              "      <th>...</th>\n",
              "      <th>serieswriting</th>\n",
              "      <th>shortstories</th>\n",
              "      <th>shortstorychallenge</th>\n",
              "      <th>social</th>\n",
              "      <th>suspense</th>\n",
              "      <th>swahindi2</th>\n",
              "      <th>thechatstory</th>\n",
              "      <th>translation</th>\n",
              "      <th>webseries</th>\n",
              "      <th>women</th>\n",
              "    </tr>\n",
              "  </thead>\n",
              "  <tbody>\n",
              "    <tr>\n",
              "      <th>0</th>\n",
              "      <td>0</td>\n",
              "      <td>5506791963854965</td>\n",
              "      <td>1377786220672965</td>\n",
              "      <td>100.0</td>\n",
              "      <td>2022-03-23 00:08:26.227</td>\n",
              "      <td>8.0</td>\n",
              "      <td>2020.0</td>\n",
              "      <td>5</td>\n",
              "      <td>0.0</td>\n",
              "      <td>0.0</td>\n",
              "      <td>...</td>\n",
              "      <td>0.0</td>\n",
              "      <td>0.0</td>\n",
              "      <td>0.0</td>\n",
              "      <td>0.0</td>\n",
              "      <td>0.000000</td>\n",
              "      <td>0.0</td>\n",
              "      <td>0.0</td>\n",
              "      <td>0.0</td>\n",
              "      <td>0.0</td>\n",
              "      <td>0.0</td>\n",
              "    </tr>\n",
              "    <tr>\n",
              "      <th>1</th>\n",
              "      <td>4</td>\n",
              "      <td>5506791992372558</td>\n",
              "      <td>1377786218111595</td>\n",
              "      <td>100.0</td>\n",
              "      <td>2022-03-23 00:08:25.250</td>\n",
              "      <td>2.0</td>\n",
              "      <td>2020.0</td>\n",
              "      <td>29</td>\n",
              "      <td>0.0</td>\n",
              "      <td>0.0</td>\n",
              "      <td>...</td>\n",
              "      <td>0.0</td>\n",
              "      <td>0.0</td>\n",
              "      <td>0.0</td>\n",
              "      <td>0.0</td>\n",
              "      <td>0.677467</td>\n",
              "      <td>0.0</td>\n",
              "      <td>0.0</td>\n",
              "      <td>0.0</td>\n",
              "      <td>0.0</td>\n",
              "      <td>0.0</td>\n",
              "    </tr>\n",
              "    <tr>\n",
              "      <th>2</th>\n",
              "      <td>11</td>\n",
              "      <td>5506791958041994</td>\n",
              "      <td>1377786225711380</td>\n",
              "      <td>100.0</td>\n",
              "      <td>2022-03-23 00:08:21.954</td>\n",
              "      <td>9.0</td>\n",
              "      <td>2021.0</td>\n",
              "      <td>3</td>\n",
              "      <td>0.0</td>\n",
              "      <td>0.0</td>\n",
              "      <td>...</td>\n",
              "      <td>0.0</td>\n",
              "      <td>0.0</td>\n",
              "      <td>0.0</td>\n",
              "      <td>0.0</td>\n",
              "      <td>0.000000</td>\n",
              "      <td>0.0</td>\n",
              "      <td>0.0</td>\n",
              "      <td>0.0</td>\n",
              "      <td>0.0</td>\n",
              "      <td>0.0</td>\n",
              "    </tr>\n",
              "    <tr>\n",
              "      <th>3</th>\n",
              "      <td>13</td>\n",
              "      <td>5506791978198543</td>\n",
              "      <td>1377786220930983</td>\n",
              "      <td>100.0</td>\n",
              "      <td>2022-03-23 00:08:20.095</td>\n",
              "      <td>9.0</td>\n",
              "      <td>2020.0</td>\n",
              "      <td>11</td>\n",
              "      <td>0.0</td>\n",
              "      <td>0.0</td>\n",
              "      <td>...</td>\n",
              "      <td>0.0</td>\n",
              "      <td>0.0</td>\n",
              "      <td>0.0</td>\n",
              "      <td>0.0</td>\n",
              "      <td>0.869441</td>\n",
              "      <td>0.0</td>\n",
              "      <td>0.0</td>\n",
              "      <td>0.0</td>\n",
              "      <td>0.0</td>\n",
              "      <td>0.0</td>\n",
              "    </tr>\n",
              "    <tr>\n",
              "      <th>4</th>\n",
              "      <td>14</td>\n",
              "      <td>5506791975873682</td>\n",
              "      <td>1377786225752249</td>\n",
              "      <td>100.0</td>\n",
              "      <td>2022-03-23 00:08:19.906</td>\n",
              "      <td>9.0</td>\n",
              "      <td>2021.0</td>\n",
              "      <td>7</td>\n",
              "      <td>0.0</td>\n",
              "      <td>0.0</td>\n",
              "      <td>...</td>\n",
              "      <td>0.0</td>\n",
              "      <td>0.0</td>\n",
              "      <td>0.0</td>\n",
              "      <td>0.0</td>\n",
              "      <td>0.000000</td>\n",
              "      <td>0.0</td>\n",
              "      <td>0.0</td>\n",
              "      <td>0.0</td>\n",
              "      <td>0.0</td>\n",
              "      <td>0.0</td>\n",
              "    </tr>\n",
              "  </tbody>\n",
              "</table>\n",
              "<p>5 rows × 53 columns</p>\n",
              "</div>\n",
              "      <button class=\"colab-df-convert\" onclick=\"convertToInteractive('df-8abf45a5-4382-4c39-a82b-ed7d60bffaa6')\"\n",
              "              title=\"Convert this dataframe to an interactive table.\"\n",
              "              style=\"display:none;\">\n",
              "        \n",
              "  <svg xmlns=\"http://www.w3.org/2000/svg\" height=\"24px\"viewBox=\"0 0 24 24\"\n",
              "       width=\"24px\">\n",
              "    <path d=\"M0 0h24v24H0V0z\" fill=\"none\"/>\n",
              "    <path d=\"M18.56 5.44l.94 2.06.94-2.06 2.06-.94-2.06-.94-.94-2.06-.94 2.06-2.06.94zm-11 1L8.5 8.5l.94-2.06 2.06-.94-2.06-.94L8.5 2.5l-.94 2.06-2.06.94zm10 10l.94 2.06.94-2.06 2.06-.94-2.06-.94-.94-2.06-.94 2.06-2.06.94z\"/><path d=\"M17.41 7.96l-1.37-1.37c-.4-.4-.92-.59-1.43-.59-.52 0-1.04.2-1.43.59L10.3 9.45l-7.72 7.72c-.78.78-.78 2.05 0 2.83L4 21.41c.39.39.9.59 1.41.59.51 0 1.02-.2 1.41-.59l7.78-7.78 2.81-2.81c.8-.78.8-2.07 0-2.86zM5.41 20L4 18.59l7.72-7.72 1.47 1.35L5.41 20z\"/>\n",
              "  </svg>\n",
              "      </button>\n",
              "      \n",
              "  <style>\n",
              "    .colab-df-container {\n",
              "      display:flex;\n",
              "      flex-wrap:wrap;\n",
              "      gap: 12px;\n",
              "    }\n",
              "\n",
              "    .colab-df-convert {\n",
              "      background-color: #E8F0FE;\n",
              "      border: none;\n",
              "      border-radius: 50%;\n",
              "      cursor: pointer;\n",
              "      display: none;\n",
              "      fill: #1967D2;\n",
              "      height: 32px;\n",
              "      padding: 0 0 0 0;\n",
              "      width: 32px;\n",
              "    }\n",
              "\n",
              "    .colab-df-convert:hover {\n",
              "      background-color: #E2EBFA;\n",
              "      box-shadow: 0px 1px 2px rgba(60, 64, 67, 0.3), 0px 1px 3px 1px rgba(60, 64, 67, 0.15);\n",
              "      fill: #174EA6;\n",
              "    }\n",
              "\n",
              "    [theme=dark] .colab-df-convert {\n",
              "      background-color: #3B4455;\n",
              "      fill: #D2E3FC;\n",
              "    }\n",
              "\n",
              "    [theme=dark] .colab-df-convert:hover {\n",
              "      background-color: #434B5C;\n",
              "      box-shadow: 0px 1px 3px 1px rgba(0, 0, 0, 0.15);\n",
              "      filter: drop-shadow(0px 1px 2px rgba(0, 0, 0, 0.3));\n",
              "      fill: #FFFFFF;\n",
              "    }\n",
              "  </style>\n",
              "\n",
              "      <script>\n",
              "        const buttonEl =\n",
              "          document.querySelector('#df-8abf45a5-4382-4c39-a82b-ed7d60bffaa6 button.colab-df-convert');\n",
              "        buttonEl.style.display =\n",
              "          google.colab.kernel.accessAllowed ? 'block' : 'none';\n",
              "\n",
              "        async function convertToInteractive(key) {\n",
              "          const element = document.querySelector('#df-8abf45a5-4382-4c39-a82b-ed7d60bffaa6');\n",
              "          const dataTable =\n",
              "            await google.colab.kernel.invokeFunction('convertToInteractive',\n",
              "                                                     [key], {});\n",
              "          if (!dataTable) return;\n",
              "\n",
              "          const docLinkHtml = 'Like what you see? Visit the ' +\n",
              "            '<a target=\"_blank\" href=https://colab.research.google.com/notebooks/data_table.ipynb>data table notebook</a>'\n",
              "            + ' to learn more about interactive tables.';\n",
              "          element.innerHTML = '';\n",
              "          dataTable['output_type'] = 'display_data';\n",
              "          await google.colab.output.renderOutput(dataTable, element);\n",
              "          const docLink = document.createElement('div');\n",
              "          docLink.innerHTML = docLinkHtml;\n",
              "          element.appendChild(docLink);\n",
              "        }\n",
              "      </script>\n",
              "    </div>\n",
              "  </div>\n",
              "  "
            ]
          },
          "metadata": {},
          "execution_count": 76
        }
      ],
      "source": [
        "final.head()"
      ]
    },
    {
      "cell_type": "code",
      "execution_count": 77,
      "metadata": {
        "execution": {
          "iopub.execute_input": "2022-04-03T11:50:44.681125Z",
          "iopub.status.busy": "2022-04-03T11:50:44.680923Z",
          "iopub.status.idle": "2022-04-03T11:50:44.686735Z",
          "shell.execute_reply": "2022-04-03T11:50:44.685904Z",
          "shell.execute_reply.started": "2022-04-03T11:50:44.681100Z"
        },
        "id": "j37_2rEsvF7F",
        "colab": {
          "base_uri": "https://localhost:8080/"
        },
        "outputId": "33da66ad-9195-4b85-c253-4a9a283806d3"
      },
      "outputs": [
        {
          "output_type": "execute_result",
          "data": {
            "text/plain": [
              "(5338637, 53)"
            ]
          },
          "metadata": {},
          "execution_count": 77
        }
      ],
      "source": [
        "final.shape"
      ]
    },
    {
      "cell_type": "markdown",
      "metadata": {
        "id": "Q-bn53W1vF7G"
      },
      "source": [
        "### Splitting the whole dataset per user into 75-25 for train test split according to timestamp so that prediction are not done using future data"
      ]
    },
    {
      "cell_type": "code",
      "execution_count": 78,
      "metadata": {
        "execution": {
          "iopub.execute_input": "2022-04-03T11:50:44.689036Z",
          "iopub.status.busy": "2022-04-03T11:50:44.688444Z",
          "iopub.status.idle": "2022-04-03T11:50:44.752255Z",
          "shell.execute_reply": "2022-04-03T11:50:44.751639Z",
          "shell.execute_reply.started": "2022-04-03T11:50:44.688995Z"
        },
        "id": "EoN6XU4mvF7G"
      },
      "outputs": [],
      "source": [
        "ranks = final.groupby('user_id')['updated_at'].rank(method='first')"
      ]
    },
    {
      "cell_type": "code",
      "execution_count": 79,
      "metadata": {
        "execution": {
          "iopub.execute_input": "2022-04-03T11:50:44.753510Z",
          "iopub.status.busy": "2022-04-03T11:50:44.753263Z",
          "iopub.status.idle": "2022-04-03T11:50:44.760968Z",
          "shell.execute_reply": "2022-04-03T11:50:44.760369Z",
          "shell.execute_reply.started": "2022-04-03T11:50:44.753482Z"
        },
        "id": "1aplSTBdvF7G",
        "colab": {
          "base_uri": "https://localhost:8080/"
        },
        "outputId": "648c6efe-59d9-4a3d-b5e9-df40b255f33f"
      },
      "outputs": [
        {
          "output_type": "execute_result",
          "data": {
            "text/plain": [
              "0           73.0\n",
              "1           82.0\n",
              "2          117.0\n",
              "3          117.0\n",
              "4           35.0\n",
              "           ...  \n",
              "5338632      1.0\n",
              "5338633      1.0\n",
              "5338634      1.0\n",
              "5338635      1.0\n",
              "5338636      1.0\n",
              "Name: updated_at, Length: 5338637, dtype: float64"
            ]
          },
          "metadata": {},
          "execution_count": 79
        }
      ],
      "source": [
        "ranks"
      ]
    },
    {
      "cell_type": "code",
      "execution_count": 80,
      "metadata": {
        "execution": {
          "iopub.execute_input": "2022-04-03T11:50:44.767662Z",
          "iopub.status.busy": "2022-04-03T11:50:44.766803Z",
          "iopub.status.idle": "2022-04-03T11:50:45.076404Z",
          "shell.execute_reply": "2022-04-03T11:50:45.075649Z",
          "shell.execute_reply.started": "2022-04-03T11:50:44.767612Z"
        },
        "id": "0GHL4MQOvF7G"
      },
      "outputs": [],
      "source": [
        "counts = final['user_id'].map(final.groupby('user_id')['updated_at'].apply(len))"
      ]
    },
    {
      "cell_type": "code",
      "source": [
        "counts"
      ],
      "metadata": {
        "colab": {
          "base_uri": "https://localhost:8080/"
        },
        "id": "e9mMNWskqkGz",
        "outputId": "6fef6061-60ed-4985-8a20-2dcfbf518cde"
      },
      "execution_count": 81,
      "outputs": [
        {
          "output_type": "execute_result",
          "data": {
            "text/plain": [
              "0           73\n",
              "1           82\n",
              "2          117\n",
              "3          117\n",
              "4           35\n",
              "          ... \n",
              "5338632     26\n",
              "5338633     99\n",
              "5338634    110\n",
              "5338635     22\n",
              "5338636     14\n",
              "Name: user_id, Length: 5338637, dtype: int64"
            ]
          },
          "metadata": {},
          "execution_count": 81
        }
      ]
    },
    {
      "cell_type": "code",
      "execution_count": 82,
      "metadata": {
        "execution": {
          "iopub.execute_input": "2022-04-03T11:50:45.077760Z",
          "iopub.status.busy": "2022-04-03T11:50:45.077539Z",
          "iopub.status.idle": "2022-04-03T11:50:45.085454Z",
          "shell.execute_reply": "2022-04-03T11:50:45.084006Z",
          "shell.execute_reply.started": "2022-04-03T11:50:45.077734Z"
        },
        "id": "k8duhu1kvF7H"
      },
      "outputs": [],
      "source": [
        "df[\"train\"]=(ranks / counts) <= 0.75"
      ]
    },
    {
      "cell_type": "code",
      "execution_count": 83,
      "metadata": {
        "execution": {
          "iopub.execute_input": "2022-04-03T11:50:45.087283Z",
          "iopub.status.busy": "2022-04-03T11:50:45.086913Z",
          "iopub.status.idle": "2022-04-03T11:50:45.103206Z",
          "shell.execute_reply": "2022-04-03T11:50:45.102214Z",
          "shell.execute_reply.started": "2022-04-03T11:50:45.087240Z"
        },
        "id": "c_GZBdpdvF7H",
        "colab": {
          "base_uri": "https://localhost:8080/"
        },
        "outputId": "2b6604ec-fc33-4d3c-bb8e-c6f725e2caa8"
      },
      "outputs": [
        {
          "output_type": "execute_result",
          "data": {
            "text/plain": [
              "True     3954655\n",
              "False    1383982\n",
              "Name: train, dtype: int64"
            ]
          },
          "metadata": {},
          "execution_count": 83
        }
      ],
      "source": [
        "df[\"train\"].value_counts()"
      ]
    },
    {
      "cell_type": "code",
      "execution_count": 84,
      "metadata": {
        "execution": {
          "iopub.execute_input": "2022-04-03T11:50:45.106026Z",
          "iopub.status.busy": "2022-04-03T11:50:45.105734Z",
          "iopub.status.idle": "2022-04-03T11:50:45.233208Z",
          "shell.execute_reply": "2022-04-03T11:50:45.232337Z",
          "shell.execute_reply.started": "2022-04-03T11:50:45.105996Z"
        },
        "id": "ewkkZ7jdvF7H"
      },
      "outputs": [],
      "source": [
        "train,test = df[df[\"train\"]==True].reset_index(drop = True),df[df[\"train\"]==False].reset_index(drop = True)"
      ]
    },
    {
      "cell_type": "code",
      "execution_count": 85,
      "metadata": {
        "execution": {
          "iopub.execute_input": "2022-04-03T11:50:45.235099Z",
          "iopub.status.busy": "2022-04-03T11:50:45.234794Z",
          "iopub.status.idle": "2022-04-03T11:50:45.247214Z",
          "shell.execute_reply": "2022-04-03T11:50:45.246090Z",
          "shell.execute_reply.started": "2022-04-03T11:50:45.235060Z"
        },
        "id": "mEKdxE3rvF7H",
        "colab": {
          "base_uri": "https://localhost:8080/"
        },
        "outputId": "e087d484-8b4f-44f3-ce67-f577a3866bb8"
      },
      "outputs": [
        {
          "output_type": "execute_result",
          "data": {
            "text/plain": [
              "(130295, 130295)"
            ]
          },
          "metadata": {},
          "execution_count": 85
        }
      ],
      "source": [
        "len(df[\"user_id\"].unique()),len(test[\"user_id\"].unique())"
      ]
    },
    {
      "cell_type": "code",
      "execution_count": 86,
      "metadata": {
        "execution": {
          "iopub.execute_input": "2022-04-03T11:50:45.249148Z",
          "iopub.status.busy": "2022-04-03T11:50:45.248867Z",
          "iopub.status.idle": "2022-04-03T11:50:45.255903Z",
          "shell.execute_reply": "2022-04-03T11:50:45.255208Z",
          "shell.execute_reply.started": "2022-04-03T11:50:45.249113Z"
        },
        "id": "OQvpvnEuvF7I",
        "colab": {
          "base_uri": "https://localhost:8080/"
        },
        "outputId": "a4d71237-b486-4aab-f8bb-3eb79faf51e8"
      },
      "outputs": [
        {
          "output_type": "execute_result",
          "data": {
            "text/plain": [
              "((3954655, 9), (1383982, 9))"
            ]
          },
          "metadata": {},
          "execution_count": 86
        }
      ],
      "source": [
        "train.shape,test.shape"
      ]
    },
    {
      "cell_type": "code",
      "execution_count": 87,
      "metadata": {
        "execution": {
          "iopub.execute_input": "2022-04-03T11:50:45.257690Z",
          "iopub.status.busy": "2022-04-03T11:50:45.257420Z",
          "iopub.status.idle": "2022-04-03T11:50:45.298525Z",
          "shell.execute_reply": "2022-04-03T11:50:45.297540Z",
          "shell.execute_reply.started": "2022-04-03T11:50:45.257657Z"
        },
        "id": "Kxk4FZbavF7I",
        "colab": {
          "base_uri": "https://localhost:8080/",
          "height": 337
        },
        "outputId": "7600337a-9fbd-4247-a31f-ef86b2d816d0"
      },
      "outputs": [
        {
          "output_type": "execute_result",
          "data": {
            "text/plain": [
              "            user_id      pratilipi_id  read_percent              updated_at  \\\n",
              "0  5506791963854965  1377786220672965         100.0 2022-03-23 00:08:26.227   \n",
              "1  5506791992372558  1377786218111595         100.0 2022-03-23 00:08:25.250   \n",
              "2  5506791958041994  1377786225711380         100.0 2022-03-23 00:08:21.954   \n",
              "3  5506791978198543  1377786220930983         100.0 2022-03-23 00:08:20.095   \n",
              "4  5506791975873682  1377786225752249         100.0 2022-03-23 00:08:19.906   \n",
              "\n",
              "                             category_name  month    year  reading_time_min  \\\n",
              "0        [novels, romance, moralinspiring]    8.0  2020.0                 5   \n",
              "1              [novels, romance, suspense]    2.0  2020.0                29   \n",
              "2                        [family, romance]    9.0  2021.0                 3   \n",
              "3                      [romance, suspense]    9.0  2020.0                11   \n",
              "4  [novels, PratilipiAwardsHindi, romance]    9.0  2021.0                 7   \n",
              "\n",
              "   train  \n",
              "0  False  \n",
              "1  False  \n",
              "2  False  \n",
              "3  False  \n",
              "4  False  "
            ],
            "text/html": [
              "\n",
              "  <div id=\"df-c4aaa199-0d14-4ecc-bd82-3678e1518525\">\n",
              "    <div class=\"colab-df-container\">\n",
              "      <div>\n",
              "<style scoped>\n",
              "    .dataframe tbody tr th:only-of-type {\n",
              "        vertical-align: middle;\n",
              "    }\n",
              "\n",
              "    .dataframe tbody tr th {\n",
              "        vertical-align: top;\n",
              "    }\n",
              "\n",
              "    .dataframe thead th {\n",
              "        text-align: right;\n",
              "    }\n",
              "</style>\n",
              "<table border=\"1\" class=\"dataframe\">\n",
              "  <thead>\n",
              "    <tr style=\"text-align: right;\">\n",
              "      <th></th>\n",
              "      <th>user_id</th>\n",
              "      <th>pratilipi_id</th>\n",
              "      <th>read_percent</th>\n",
              "      <th>updated_at</th>\n",
              "      <th>category_name</th>\n",
              "      <th>month</th>\n",
              "      <th>year</th>\n",
              "      <th>reading_time_min</th>\n",
              "      <th>train</th>\n",
              "    </tr>\n",
              "  </thead>\n",
              "  <tbody>\n",
              "    <tr>\n",
              "      <th>0</th>\n",
              "      <td>5506791963854965</td>\n",
              "      <td>1377786220672965</td>\n",
              "      <td>100.0</td>\n",
              "      <td>2022-03-23 00:08:26.227</td>\n",
              "      <td>[novels, romance, moralinspiring]</td>\n",
              "      <td>8.0</td>\n",
              "      <td>2020.0</td>\n",
              "      <td>5</td>\n",
              "      <td>False</td>\n",
              "    </tr>\n",
              "    <tr>\n",
              "      <th>1</th>\n",
              "      <td>5506791992372558</td>\n",
              "      <td>1377786218111595</td>\n",
              "      <td>100.0</td>\n",
              "      <td>2022-03-23 00:08:25.250</td>\n",
              "      <td>[novels, romance, suspense]</td>\n",
              "      <td>2.0</td>\n",
              "      <td>2020.0</td>\n",
              "      <td>29</td>\n",
              "      <td>False</td>\n",
              "    </tr>\n",
              "    <tr>\n",
              "      <th>2</th>\n",
              "      <td>5506791958041994</td>\n",
              "      <td>1377786225711380</td>\n",
              "      <td>100.0</td>\n",
              "      <td>2022-03-23 00:08:21.954</td>\n",
              "      <td>[family, romance]</td>\n",
              "      <td>9.0</td>\n",
              "      <td>2021.0</td>\n",
              "      <td>3</td>\n",
              "      <td>False</td>\n",
              "    </tr>\n",
              "    <tr>\n",
              "      <th>3</th>\n",
              "      <td>5506791978198543</td>\n",
              "      <td>1377786220930983</td>\n",
              "      <td>100.0</td>\n",
              "      <td>2022-03-23 00:08:20.095</td>\n",
              "      <td>[romance, suspense]</td>\n",
              "      <td>9.0</td>\n",
              "      <td>2020.0</td>\n",
              "      <td>11</td>\n",
              "      <td>False</td>\n",
              "    </tr>\n",
              "    <tr>\n",
              "      <th>4</th>\n",
              "      <td>5506791975873682</td>\n",
              "      <td>1377786225752249</td>\n",
              "      <td>100.0</td>\n",
              "      <td>2022-03-23 00:08:19.906</td>\n",
              "      <td>[novels, PratilipiAwardsHindi, romance]</td>\n",
              "      <td>9.0</td>\n",
              "      <td>2021.0</td>\n",
              "      <td>7</td>\n",
              "      <td>False</td>\n",
              "    </tr>\n",
              "  </tbody>\n",
              "</table>\n",
              "</div>\n",
              "      <button class=\"colab-df-convert\" onclick=\"convertToInteractive('df-c4aaa199-0d14-4ecc-bd82-3678e1518525')\"\n",
              "              title=\"Convert this dataframe to an interactive table.\"\n",
              "              style=\"display:none;\">\n",
              "        \n",
              "  <svg xmlns=\"http://www.w3.org/2000/svg\" height=\"24px\"viewBox=\"0 0 24 24\"\n",
              "       width=\"24px\">\n",
              "    <path d=\"M0 0h24v24H0V0z\" fill=\"none\"/>\n",
              "    <path d=\"M18.56 5.44l.94 2.06.94-2.06 2.06-.94-2.06-.94-.94-2.06-.94 2.06-2.06.94zm-11 1L8.5 8.5l.94-2.06 2.06-.94-2.06-.94L8.5 2.5l-.94 2.06-2.06.94zm10 10l.94 2.06.94-2.06 2.06-.94-2.06-.94-.94-2.06-.94 2.06-2.06.94z\"/><path d=\"M17.41 7.96l-1.37-1.37c-.4-.4-.92-.59-1.43-.59-.52 0-1.04.2-1.43.59L10.3 9.45l-7.72 7.72c-.78.78-.78 2.05 0 2.83L4 21.41c.39.39.9.59 1.41.59.51 0 1.02-.2 1.41-.59l7.78-7.78 2.81-2.81c.8-.78.8-2.07 0-2.86zM5.41 20L4 18.59l7.72-7.72 1.47 1.35L5.41 20z\"/>\n",
              "  </svg>\n",
              "      </button>\n",
              "      \n",
              "  <style>\n",
              "    .colab-df-container {\n",
              "      display:flex;\n",
              "      flex-wrap:wrap;\n",
              "      gap: 12px;\n",
              "    }\n",
              "\n",
              "    .colab-df-convert {\n",
              "      background-color: #E8F0FE;\n",
              "      border: none;\n",
              "      border-radius: 50%;\n",
              "      cursor: pointer;\n",
              "      display: none;\n",
              "      fill: #1967D2;\n",
              "      height: 32px;\n",
              "      padding: 0 0 0 0;\n",
              "      width: 32px;\n",
              "    }\n",
              "\n",
              "    .colab-df-convert:hover {\n",
              "      background-color: #E2EBFA;\n",
              "      box-shadow: 0px 1px 2px rgba(60, 64, 67, 0.3), 0px 1px 3px 1px rgba(60, 64, 67, 0.15);\n",
              "      fill: #174EA6;\n",
              "    }\n",
              "\n",
              "    [theme=dark] .colab-df-convert {\n",
              "      background-color: #3B4455;\n",
              "      fill: #D2E3FC;\n",
              "    }\n",
              "\n",
              "    [theme=dark] .colab-df-convert:hover {\n",
              "      background-color: #434B5C;\n",
              "      box-shadow: 0px 1px 3px 1px rgba(0, 0, 0, 0.15);\n",
              "      filter: drop-shadow(0px 1px 2px rgba(0, 0, 0, 0.3));\n",
              "      fill: #FFFFFF;\n",
              "    }\n",
              "  </style>\n",
              "\n",
              "      <script>\n",
              "        const buttonEl =\n",
              "          document.querySelector('#df-c4aaa199-0d14-4ecc-bd82-3678e1518525 button.colab-df-convert');\n",
              "        buttonEl.style.display =\n",
              "          google.colab.kernel.accessAllowed ? 'block' : 'none';\n",
              "\n",
              "        async function convertToInteractive(key) {\n",
              "          const element = document.querySelector('#df-c4aaa199-0d14-4ecc-bd82-3678e1518525');\n",
              "          const dataTable =\n",
              "            await google.colab.kernel.invokeFunction('convertToInteractive',\n",
              "                                                     [key], {});\n",
              "          if (!dataTable) return;\n",
              "\n",
              "          const docLinkHtml = 'Like what you see? Visit the ' +\n",
              "            '<a target=\"_blank\" href=https://colab.research.google.com/notebooks/data_table.ipynb>data table notebook</a>'\n",
              "            + ' to learn more about interactive tables.';\n",
              "          element.innerHTML = '';\n",
              "          dataTable['output_type'] = 'display_data';\n",
              "          await google.colab.output.renderOutput(dataTable, element);\n",
              "          const docLink = document.createElement('div');\n",
              "          docLink.innerHTML = docLinkHtml;\n",
              "          element.appendChild(docLink);\n",
              "        }\n",
              "      </script>\n",
              "    </div>\n",
              "  </div>\n",
              "  "
            ]
          },
          "metadata": {},
          "execution_count": 87
        }
      ],
      "source": [
        "test.head()"
      ]
    },
    {
      "cell_type": "code",
      "execution_count": 88,
      "metadata": {
        "execution": {
          "iopub.execute_input": "2022-04-03T11:50:45.299796Z",
          "iopub.status.busy": "2022-04-03T11:50:45.299587Z",
          "iopub.status.idle": "2022-04-03T11:50:45.338080Z",
          "shell.execute_reply": "2022-04-03T11:50:45.337140Z",
          "shell.execute_reply.started": "2022-04-03T11:50:45.299770Z"
        },
        "id": "Gs6aY37zvF7I"
      },
      "outputs": [],
      "source": [
        "#duplicates must be removed for better recommendations \n",
        "test = test[test[\"user_id\"].isin(train[\"user_id\"].unique())]\n",
        "test = test[test[\"pratilipi_id\"].isin(train[\"pratilipi_id\"].unique())]"
      ]
    },
    {
      "cell_type": "code",
      "execution_count": 89,
      "metadata": {
        "execution": {
          "iopub.execute_input": "2022-04-03T11:50:45.339466Z",
          "iopub.status.busy": "2022-04-03T11:50:45.339204Z",
          "iopub.status.idle": "2022-04-03T11:50:45.345014Z",
          "shell.execute_reply": "2022-04-03T11:50:45.344454Z",
          "shell.execute_reply.started": "2022-04-03T11:50:45.339435Z"
        },
        "id": "Ulvt5KBkvF7J",
        "colab": {
          "base_uri": "https://localhost:8080/"
        },
        "outputId": "fdf40674-2a22-430d-d908-cc890f572c1e"
      },
      "outputs": [
        {
          "output_type": "execute_result",
          "data": {
            "text/plain": [
              "(1366343, 9)"
            ]
          },
          "metadata": {},
          "execution_count": 89
        }
      ],
      "source": [
        "test.shape"
      ]
    },
    {
      "cell_type": "code",
      "execution_count": 90,
      "metadata": {
        "execution": {
          "iopub.execute_input": "2022-04-03T11:50:45.346979Z",
          "iopub.status.busy": "2022-04-03T11:50:45.346160Z",
          "iopub.status.idle": "2022-04-03T11:50:52.460295Z",
          "shell.execute_reply": "2022-04-03T11:50:52.459542Z",
          "shell.execute_reply.started": "2022-04-03T11:50:45.346908Z"
        },
        "id": "-ixckbMYvF7J"
      },
      "outputs": [],
      "source": [
        "train.to_csv(\"train.csv\",index = False)\n",
        "test.to_csv(\"test.csv\",index = False)"
      ]
    },
    {
      "cell_type": "code",
      "source": [],
      "metadata": {
        "id": "BqdzEDMEqxBS"
      },
      "execution_count": 90,
      "outputs": []
    },
    {
      "cell_type": "markdown",
      "source": [
        "Model \n"
      ],
      "metadata": {
        "id": "xOkIAOkgskBn"
      }
    },
    {
      "cell_type": "code",
      "source": [
        "test = pd.read_csv(\"/content/test.csv\")\n",
        "train = pd.read_csv(\"/content/train.csv\")"
      ],
      "metadata": {
        "id": "KN2DhTroslnJ"
      },
      "execution_count": 91,
      "outputs": []
    },
    {
      "cell_type": "code",
      "source": [
        "train"
      ],
      "metadata": {
        "colab": {
          "base_uri": "https://localhost:8080/",
          "height": 641
        },
        "id": "tBI3MYGZsvjF",
        "outputId": "6dfec8b5-3b18-412f-c2d8-ea441d5ef53a"
      },
      "execution_count": 92,
      "outputs": [
        {
          "output_type": "execute_result",
          "data": {
            "text/plain": [
              "                  user_id      pratilipi_id  read_percent  \\\n",
              "0        5506791965383431  1377786228239412          43.0   \n",
              "1        5506791979588399  1377786228251526         100.0   \n",
              "2        5506791994795299  1377786216843656         100.0   \n",
              "3        5506791994795299  1377786216855987         100.0   \n",
              "4        5506791961795985  1377786225268077         100.0   \n",
              "...                   ...               ...           ...   \n",
              "3954650  5506791979182708  1377786218415632         100.0   \n",
              "3954651  5506791950653936  1377786215559645          75.0   \n",
              "3954652  5506791980439899  1377786228150074         100.0   \n",
              "3954653  5506791972010795  1377786228217647          99.0   \n",
              "3954654  5506791964450228  1377786228203072         100.0   \n",
              "\n",
              "                      updated_at  \\\n",
              "0        2022-03-23 00:05:46.926   \n",
              "1        2022-03-23 00:04:56.788   \n",
              "2        2022-03-23 00:02:24.785   \n",
              "3        2022-03-23 00:02:22.328   \n",
              "4        2022-03-23 00:02:20.715   \n",
              "...                          ...   \n",
              "3954650  2022-03-18 15:14:42.134   \n",
              "3954651  2022-03-18 15:14:42.122   \n",
              "3954652  2022-03-18 15:14:42.120   \n",
              "3954653  2022-03-18 15:14:42.081   \n",
              "3954654  2022-03-18 15:14:41.771   \n",
              "\n",
              "                                        category_name  month    year  \\\n",
              "0                                       ['swahindi2']    3.0  2022.0   \n",
              "1                             ['romance', 'suspense']    3.0  2022.0   \n",
              "2                   ['novels', 'romance', 'suspense']    7.0  2019.0   \n",
              "3                   ['novels', 'romance', 'suspense']    7.0  2019.0   \n",
              "4                        ['crime', 'social', 'women']    8.0  2021.0   \n",
              "...                                               ...    ...     ...   \n",
              "3954650                         ['novels', 'romance']    3.0  2020.0   \n",
              "3954651  ['family', 'moralinspiring', 'shortstories']    5.0  2018.0   \n",
              "3954652             ['family', 'romance', 'suspense']    3.0  2022.0   \n",
              "3954653            ['drama', 'suspense', 'swahindi2']    3.0  2022.0   \n",
              "3954654            ['novels', 'romance', 'swahindi2']    3.0  2022.0   \n",
              "\n",
              "         reading_time_min  train  \n",
              "0                       9   True  \n",
              "1                       8   True  \n",
              "2                      19   True  \n",
              "3                      18   True  \n",
              "4                       3   True  \n",
              "...                   ...    ...  \n",
              "3954650                26   True  \n",
              "3954651                 1   True  \n",
              "3954652                17   True  \n",
              "3954653                 6   True  \n",
              "3954654                11   True  \n",
              "\n",
              "[3954655 rows x 9 columns]"
            ],
            "text/html": [
              "\n",
              "  <div id=\"df-5cb6a8c4-c382-4552-bef5-6764601e64ab\">\n",
              "    <div class=\"colab-df-container\">\n",
              "      <div>\n",
              "<style scoped>\n",
              "    .dataframe tbody tr th:only-of-type {\n",
              "        vertical-align: middle;\n",
              "    }\n",
              "\n",
              "    .dataframe tbody tr th {\n",
              "        vertical-align: top;\n",
              "    }\n",
              "\n",
              "    .dataframe thead th {\n",
              "        text-align: right;\n",
              "    }\n",
              "</style>\n",
              "<table border=\"1\" class=\"dataframe\">\n",
              "  <thead>\n",
              "    <tr style=\"text-align: right;\">\n",
              "      <th></th>\n",
              "      <th>user_id</th>\n",
              "      <th>pratilipi_id</th>\n",
              "      <th>read_percent</th>\n",
              "      <th>updated_at</th>\n",
              "      <th>category_name</th>\n",
              "      <th>month</th>\n",
              "      <th>year</th>\n",
              "      <th>reading_time_min</th>\n",
              "      <th>train</th>\n",
              "    </tr>\n",
              "  </thead>\n",
              "  <tbody>\n",
              "    <tr>\n",
              "      <th>0</th>\n",
              "      <td>5506791965383431</td>\n",
              "      <td>1377786228239412</td>\n",
              "      <td>43.0</td>\n",
              "      <td>2022-03-23 00:05:46.926</td>\n",
              "      <td>['swahindi2']</td>\n",
              "      <td>3.0</td>\n",
              "      <td>2022.0</td>\n",
              "      <td>9</td>\n",
              "      <td>True</td>\n",
              "    </tr>\n",
              "    <tr>\n",
              "      <th>1</th>\n",
              "      <td>5506791979588399</td>\n",
              "      <td>1377786228251526</td>\n",
              "      <td>100.0</td>\n",
              "      <td>2022-03-23 00:04:56.788</td>\n",
              "      <td>['romance', 'suspense']</td>\n",
              "      <td>3.0</td>\n",
              "      <td>2022.0</td>\n",
              "      <td>8</td>\n",
              "      <td>True</td>\n",
              "    </tr>\n",
              "    <tr>\n",
              "      <th>2</th>\n",
              "      <td>5506791994795299</td>\n",
              "      <td>1377786216843656</td>\n",
              "      <td>100.0</td>\n",
              "      <td>2022-03-23 00:02:24.785</td>\n",
              "      <td>['novels', 'romance', 'suspense']</td>\n",
              "      <td>7.0</td>\n",
              "      <td>2019.0</td>\n",
              "      <td>19</td>\n",
              "      <td>True</td>\n",
              "    </tr>\n",
              "    <tr>\n",
              "      <th>3</th>\n",
              "      <td>5506791994795299</td>\n",
              "      <td>1377786216855987</td>\n",
              "      <td>100.0</td>\n",
              "      <td>2022-03-23 00:02:22.328</td>\n",
              "      <td>['novels', 'romance', 'suspense']</td>\n",
              "      <td>7.0</td>\n",
              "      <td>2019.0</td>\n",
              "      <td>18</td>\n",
              "      <td>True</td>\n",
              "    </tr>\n",
              "    <tr>\n",
              "      <th>4</th>\n",
              "      <td>5506791961795985</td>\n",
              "      <td>1377786225268077</td>\n",
              "      <td>100.0</td>\n",
              "      <td>2022-03-23 00:02:20.715</td>\n",
              "      <td>['crime', 'social', 'women']</td>\n",
              "      <td>8.0</td>\n",
              "      <td>2021.0</td>\n",
              "      <td>3</td>\n",
              "      <td>True</td>\n",
              "    </tr>\n",
              "    <tr>\n",
              "      <th>...</th>\n",
              "      <td>...</td>\n",
              "      <td>...</td>\n",
              "      <td>...</td>\n",
              "      <td>...</td>\n",
              "      <td>...</td>\n",
              "      <td>...</td>\n",
              "      <td>...</td>\n",
              "      <td>...</td>\n",
              "      <td>...</td>\n",
              "    </tr>\n",
              "    <tr>\n",
              "      <th>3954650</th>\n",
              "      <td>5506791979182708</td>\n",
              "      <td>1377786218415632</td>\n",
              "      <td>100.0</td>\n",
              "      <td>2022-03-18 15:14:42.134</td>\n",
              "      <td>['novels', 'romance']</td>\n",
              "      <td>3.0</td>\n",
              "      <td>2020.0</td>\n",
              "      <td>26</td>\n",
              "      <td>True</td>\n",
              "    </tr>\n",
              "    <tr>\n",
              "      <th>3954651</th>\n",
              "      <td>5506791950653936</td>\n",
              "      <td>1377786215559645</td>\n",
              "      <td>75.0</td>\n",
              "      <td>2022-03-18 15:14:42.122</td>\n",
              "      <td>['family', 'moralinspiring', 'shortstories']</td>\n",
              "      <td>5.0</td>\n",
              "      <td>2018.0</td>\n",
              "      <td>1</td>\n",
              "      <td>True</td>\n",
              "    </tr>\n",
              "    <tr>\n",
              "      <th>3954652</th>\n",
              "      <td>5506791980439899</td>\n",
              "      <td>1377786228150074</td>\n",
              "      <td>100.0</td>\n",
              "      <td>2022-03-18 15:14:42.120</td>\n",
              "      <td>['family', 'romance', 'suspense']</td>\n",
              "      <td>3.0</td>\n",
              "      <td>2022.0</td>\n",
              "      <td>17</td>\n",
              "      <td>True</td>\n",
              "    </tr>\n",
              "    <tr>\n",
              "      <th>3954653</th>\n",
              "      <td>5506791972010795</td>\n",
              "      <td>1377786228217647</td>\n",
              "      <td>99.0</td>\n",
              "      <td>2022-03-18 15:14:42.081</td>\n",
              "      <td>['drama', 'suspense', 'swahindi2']</td>\n",
              "      <td>3.0</td>\n",
              "      <td>2022.0</td>\n",
              "      <td>6</td>\n",
              "      <td>True</td>\n",
              "    </tr>\n",
              "    <tr>\n",
              "      <th>3954654</th>\n",
              "      <td>5506791964450228</td>\n",
              "      <td>1377786228203072</td>\n",
              "      <td>100.0</td>\n",
              "      <td>2022-03-18 15:14:41.771</td>\n",
              "      <td>['novels', 'romance', 'swahindi2']</td>\n",
              "      <td>3.0</td>\n",
              "      <td>2022.0</td>\n",
              "      <td>11</td>\n",
              "      <td>True</td>\n",
              "    </tr>\n",
              "  </tbody>\n",
              "</table>\n",
              "<p>3954655 rows × 9 columns</p>\n",
              "</div>\n",
              "      <button class=\"colab-df-convert\" onclick=\"convertToInteractive('df-5cb6a8c4-c382-4552-bef5-6764601e64ab')\"\n",
              "              title=\"Convert this dataframe to an interactive table.\"\n",
              "              style=\"display:none;\">\n",
              "        \n",
              "  <svg xmlns=\"http://www.w3.org/2000/svg\" height=\"24px\"viewBox=\"0 0 24 24\"\n",
              "       width=\"24px\">\n",
              "    <path d=\"M0 0h24v24H0V0z\" fill=\"none\"/>\n",
              "    <path d=\"M18.56 5.44l.94 2.06.94-2.06 2.06-.94-2.06-.94-.94-2.06-.94 2.06-2.06.94zm-11 1L8.5 8.5l.94-2.06 2.06-.94-2.06-.94L8.5 2.5l-.94 2.06-2.06.94zm10 10l.94 2.06.94-2.06 2.06-.94-2.06-.94-.94-2.06-.94 2.06-2.06.94z\"/><path d=\"M17.41 7.96l-1.37-1.37c-.4-.4-.92-.59-1.43-.59-.52 0-1.04.2-1.43.59L10.3 9.45l-7.72 7.72c-.78.78-.78 2.05 0 2.83L4 21.41c.39.39.9.59 1.41.59.51 0 1.02-.2 1.41-.59l7.78-7.78 2.81-2.81c.8-.78.8-2.07 0-2.86zM5.41 20L4 18.59l7.72-7.72 1.47 1.35L5.41 20z\"/>\n",
              "  </svg>\n",
              "      </button>\n",
              "      \n",
              "  <style>\n",
              "    .colab-df-container {\n",
              "      display:flex;\n",
              "      flex-wrap:wrap;\n",
              "      gap: 12px;\n",
              "    }\n",
              "\n",
              "    .colab-df-convert {\n",
              "      background-color: #E8F0FE;\n",
              "      border: none;\n",
              "      border-radius: 50%;\n",
              "      cursor: pointer;\n",
              "      display: none;\n",
              "      fill: #1967D2;\n",
              "      height: 32px;\n",
              "      padding: 0 0 0 0;\n",
              "      width: 32px;\n",
              "    }\n",
              "\n",
              "    .colab-df-convert:hover {\n",
              "      background-color: #E2EBFA;\n",
              "      box-shadow: 0px 1px 2px rgba(60, 64, 67, 0.3), 0px 1px 3px 1px rgba(60, 64, 67, 0.15);\n",
              "      fill: #174EA6;\n",
              "    }\n",
              "\n",
              "    [theme=dark] .colab-df-convert {\n",
              "      background-color: #3B4455;\n",
              "      fill: #D2E3FC;\n",
              "    }\n",
              "\n",
              "    [theme=dark] .colab-df-convert:hover {\n",
              "      background-color: #434B5C;\n",
              "      box-shadow: 0px 1px 3px 1px rgba(0, 0, 0, 0.15);\n",
              "      filter: drop-shadow(0px 1px 2px rgba(0, 0, 0, 0.3));\n",
              "      fill: #FFFFFF;\n",
              "    }\n",
              "  </style>\n",
              "\n",
              "      <script>\n",
              "        const buttonEl =\n",
              "          document.querySelector('#df-5cb6a8c4-c382-4552-bef5-6764601e64ab button.colab-df-convert');\n",
              "        buttonEl.style.display =\n",
              "          google.colab.kernel.accessAllowed ? 'block' : 'none';\n",
              "\n",
              "        async function convertToInteractive(key) {\n",
              "          const element = document.querySelector('#df-5cb6a8c4-c382-4552-bef5-6764601e64ab');\n",
              "          const dataTable =\n",
              "            await google.colab.kernel.invokeFunction('convertToInteractive',\n",
              "                                                     [key], {});\n",
              "          if (!dataTable) return;\n",
              "\n",
              "          const docLinkHtml = 'Like what you see? Visit the ' +\n",
              "            '<a target=\"_blank\" href=https://colab.research.google.com/notebooks/data_table.ipynb>data table notebook</a>'\n",
              "            + ' to learn more about interactive tables.';\n",
              "          element.innerHTML = '';\n",
              "          dataTable['output_type'] = 'display_data';\n",
              "          await google.colab.output.renderOutput(dataTable, element);\n",
              "          const docLink = document.createElement('div');\n",
              "          docLink.innerHTML = docLinkHtml;\n",
              "          element.appendChild(docLink);\n",
              "        }\n",
              "      </script>\n",
              "    </div>\n",
              "  </div>\n",
              "  "
            ]
          },
          "metadata": {},
          "execution_count": 92
        }
      ]
    },
    {
      "cell_type": "code",
      "source": [
        "test"
      ],
      "metadata": {
        "colab": {
          "base_uri": "https://localhost:8080/",
          "height": 641
        },
        "id": "-Sg-_stvs1uN",
        "outputId": "15c97186-18c1-4434-add3-ef1d66930fcb"
      },
      "execution_count": 93,
      "outputs": [
        {
          "output_type": "execute_result",
          "data": {
            "text/plain": [
              "                  user_id      pratilipi_id  read_percent  \\\n",
              "0        5506791963854965  1377786220672965         100.0   \n",
              "1        5506791992372558  1377786218111595         100.0   \n",
              "2        5506791958041994  1377786225711380         100.0   \n",
              "3        5506791978198543  1377786220930983         100.0   \n",
              "4        5506791975873682  1377786225752249         100.0   \n",
              "...                   ...               ...           ...   \n",
              "1366338  5506791955976421  1377786219309995         100.0   \n",
              "1366339  5506791953162551  1377786227959367         100.0   \n",
              "1366340  5506791953049910  1377786222158342         100.0   \n",
              "1366341  5506791971639593  1377786222906903         100.0   \n",
              "1366342  5506791972516529  1377786224339789         100.0   \n",
              "\n",
              "                      updated_at  \\\n",
              "0        2022-03-23 00:08:26.227   \n",
              "1        2022-03-23 00:08:25.250   \n",
              "2        2022-03-23 00:08:21.954   \n",
              "3        2022-03-23 00:08:20.095   \n",
              "4        2022-03-23 00:08:19.906   \n",
              "...                          ...   \n",
              "1366338  2022-03-18 15:17:36.627   \n",
              "1366339  2022-03-18 15:17:36.160   \n",
              "1366340  2022-03-18 15:17:23.303   \n",
              "1366341  2022-03-18 15:17:21.908   \n",
              "1366342  2022-03-18 15:16:39.052   \n",
              "\n",
              "                                             category_name  month    year  \\\n",
              "0                  ['novels', 'romance', 'moralinspiring']    8.0  2020.0   \n",
              "1                        ['novels', 'romance', 'suspense']    2.0  2020.0   \n",
              "2                                    ['family', 'romance']    9.0  2021.0   \n",
              "3                                  ['romance', 'suspense']    9.0  2020.0   \n",
              "4            ['novels', 'PratilipiAwardsHindi', 'romance']    9.0  2021.0   \n",
              "...                                                    ...    ...     ...   \n",
              "1366338  ['actionandadventure', 'suspense', 'sciencefic...    5.0  2020.0   \n",
              "1366339                     ['crime', 'novels', 'romance']    2.0  2022.0   \n",
              "1366340                  ['fantasy', 'suspense', 'horror']    1.0  2021.0   \n",
              "1366341           ['novels', 'entertainment', 'webseries']    3.0  2021.0   \n",
              "1366342                              ['novels', 'romance']    6.0  2021.0   \n",
              "\n",
              "         reading_time_min  train  \n",
              "0                       5  False  \n",
              "1                      29  False  \n",
              "2                       3  False  \n",
              "3                      11  False  \n",
              "4                       7  False  \n",
              "...                   ...    ...  \n",
              "1366338                 6  False  \n",
              "1366339                 5  False  \n",
              "1366340                 2  False  \n",
              "1366341                 0  False  \n",
              "1366342                 1  False  \n",
              "\n",
              "[1366343 rows x 9 columns]"
            ],
            "text/html": [
              "\n",
              "  <div id=\"df-abd5a125-6a13-4e85-a8db-d7e88b0b4a33\">\n",
              "    <div class=\"colab-df-container\">\n",
              "      <div>\n",
              "<style scoped>\n",
              "    .dataframe tbody tr th:only-of-type {\n",
              "        vertical-align: middle;\n",
              "    }\n",
              "\n",
              "    .dataframe tbody tr th {\n",
              "        vertical-align: top;\n",
              "    }\n",
              "\n",
              "    .dataframe thead th {\n",
              "        text-align: right;\n",
              "    }\n",
              "</style>\n",
              "<table border=\"1\" class=\"dataframe\">\n",
              "  <thead>\n",
              "    <tr style=\"text-align: right;\">\n",
              "      <th></th>\n",
              "      <th>user_id</th>\n",
              "      <th>pratilipi_id</th>\n",
              "      <th>read_percent</th>\n",
              "      <th>updated_at</th>\n",
              "      <th>category_name</th>\n",
              "      <th>month</th>\n",
              "      <th>year</th>\n",
              "      <th>reading_time_min</th>\n",
              "      <th>train</th>\n",
              "    </tr>\n",
              "  </thead>\n",
              "  <tbody>\n",
              "    <tr>\n",
              "      <th>0</th>\n",
              "      <td>5506791963854965</td>\n",
              "      <td>1377786220672965</td>\n",
              "      <td>100.0</td>\n",
              "      <td>2022-03-23 00:08:26.227</td>\n",
              "      <td>['novels', 'romance', 'moralinspiring']</td>\n",
              "      <td>8.0</td>\n",
              "      <td>2020.0</td>\n",
              "      <td>5</td>\n",
              "      <td>False</td>\n",
              "    </tr>\n",
              "    <tr>\n",
              "      <th>1</th>\n",
              "      <td>5506791992372558</td>\n",
              "      <td>1377786218111595</td>\n",
              "      <td>100.0</td>\n",
              "      <td>2022-03-23 00:08:25.250</td>\n",
              "      <td>['novels', 'romance', 'suspense']</td>\n",
              "      <td>2.0</td>\n",
              "      <td>2020.0</td>\n",
              "      <td>29</td>\n",
              "      <td>False</td>\n",
              "    </tr>\n",
              "    <tr>\n",
              "      <th>2</th>\n",
              "      <td>5506791958041994</td>\n",
              "      <td>1377786225711380</td>\n",
              "      <td>100.0</td>\n",
              "      <td>2022-03-23 00:08:21.954</td>\n",
              "      <td>['family', 'romance']</td>\n",
              "      <td>9.0</td>\n",
              "      <td>2021.0</td>\n",
              "      <td>3</td>\n",
              "      <td>False</td>\n",
              "    </tr>\n",
              "    <tr>\n",
              "      <th>3</th>\n",
              "      <td>5506791978198543</td>\n",
              "      <td>1377786220930983</td>\n",
              "      <td>100.0</td>\n",
              "      <td>2022-03-23 00:08:20.095</td>\n",
              "      <td>['romance', 'suspense']</td>\n",
              "      <td>9.0</td>\n",
              "      <td>2020.0</td>\n",
              "      <td>11</td>\n",
              "      <td>False</td>\n",
              "    </tr>\n",
              "    <tr>\n",
              "      <th>4</th>\n",
              "      <td>5506791975873682</td>\n",
              "      <td>1377786225752249</td>\n",
              "      <td>100.0</td>\n",
              "      <td>2022-03-23 00:08:19.906</td>\n",
              "      <td>['novels', 'PratilipiAwardsHindi', 'romance']</td>\n",
              "      <td>9.0</td>\n",
              "      <td>2021.0</td>\n",
              "      <td>7</td>\n",
              "      <td>False</td>\n",
              "    </tr>\n",
              "    <tr>\n",
              "      <th>...</th>\n",
              "      <td>...</td>\n",
              "      <td>...</td>\n",
              "      <td>...</td>\n",
              "      <td>...</td>\n",
              "      <td>...</td>\n",
              "      <td>...</td>\n",
              "      <td>...</td>\n",
              "      <td>...</td>\n",
              "      <td>...</td>\n",
              "    </tr>\n",
              "    <tr>\n",
              "      <th>1366338</th>\n",
              "      <td>5506791955976421</td>\n",
              "      <td>1377786219309995</td>\n",
              "      <td>100.0</td>\n",
              "      <td>2022-03-18 15:17:36.627</td>\n",
              "      <td>['actionandadventure', 'suspense', 'sciencefic...</td>\n",
              "      <td>5.0</td>\n",
              "      <td>2020.0</td>\n",
              "      <td>6</td>\n",
              "      <td>False</td>\n",
              "    </tr>\n",
              "    <tr>\n",
              "      <th>1366339</th>\n",
              "      <td>5506791953162551</td>\n",
              "      <td>1377786227959367</td>\n",
              "      <td>100.0</td>\n",
              "      <td>2022-03-18 15:17:36.160</td>\n",
              "      <td>['crime', 'novels', 'romance']</td>\n",
              "      <td>2.0</td>\n",
              "      <td>2022.0</td>\n",
              "      <td>5</td>\n",
              "      <td>False</td>\n",
              "    </tr>\n",
              "    <tr>\n",
              "      <th>1366340</th>\n",
              "      <td>5506791953049910</td>\n",
              "      <td>1377786222158342</td>\n",
              "      <td>100.0</td>\n",
              "      <td>2022-03-18 15:17:23.303</td>\n",
              "      <td>['fantasy', 'suspense', 'horror']</td>\n",
              "      <td>1.0</td>\n",
              "      <td>2021.0</td>\n",
              "      <td>2</td>\n",
              "      <td>False</td>\n",
              "    </tr>\n",
              "    <tr>\n",
              "      <th>1366341</th>\n",
              "      <td>5506791971639593</td>\n",
              "      <td>1377786222906903</td>\n",
              "      <td>100.0</td>\n",
              "      <td>2022-03-18 15:17:21.908</td>\n",
              "      <td>['novels', 'entertainment', 'webseries']</td>\n",
              "      <td>3.0</td>\n",
              "      <td>2021.0</td>\n",
              "      <td>0</td>\n",
              "      <td>False</td>\n",
              "    </tr>\n",
              "    <tr>\n",
              "      <th>1366342</th>\n",
              "      <td>5506791972516529</td>\n",
              "      <td>1377786224339789</td>\n",
              "      <td>100.0</td>\n",
              "      <td>2022-03-18 15:16:39.052</td>\n",
              "      <td>['novels', 'romance']</td>\n",
              "      <td>6.0</td>\n",
              "      <td>2021.0</td>\n",
              "      <td>1</td>\n",
              "      <td>False</td>\n",
              "    </tr>\n",
              "  </tbody>\n",
              "</table>\n",
              "<p>1366343 rows × 9 columns</p>\n",
              "</div>\n",
              "      <button class=\"colab-df-convert\" onclick=\"convertToInteractive('df-abd5a125-6a13-4e85-a8db-d7e88b0b4a33')\"\n",
              "              title=\"Convert this dataframe to an interactive table.\"\n",
              "              style=\"display:none;\">\n",
              "        \n",
              "  <svg xmlns=\"http://www.w3.org/2000/svg\" height=\"24px\"viewBox=\"0 0 24 24\"\n",
              "       width=\"24px\">\n",
              "    <path d=\"M0 0h24v24H0V0z\" fill=\"none\"/>\n",
              "    <path d=\"M18.56 5.44l.94 2.06.94-2.06 2.06-.94-2.06-.94-.94-2.06-.94 2.06-2.06.94zm-11 1L8.5 8.5l.94-2.06 2.06-.94-2.06-.94L8.5 2.5l-.94 2.06-2.06.94zm10 10l.94 2.06.94-2.06 2.06-.94-2.06-.94-.94-2.06-.94 2.06-2.06.94z\"/><path d=\"M17.41 7.96l-1.37-1.37c-.4-.4-.92-.59-1.43-.59-.52 0-1.04.2-1.43.59L10.3 9.45l-7.72 7.72c-.78.78-.78 2.05 0 2.83L4 21.41c.39.39.9.59 1.41.59.51 0 1.02-.2 1.41-.59l7.78-7.78 2.81-2.81c.8-.78.8-2.07 0-2.86zM5.41 20L4 18.59l7.72-7.72 1.47 1.35L5.41 20z\"/>\n",
              "  </svg>\n",
              "      </button>\n",
              "      \n",
              "  <style>\n",
              "    .colab-df-container {\n",
              "      display:flex;\n",
              "      flex-wrap:wrap;\n",
              "      gap: 12px;\n",
              "    }\n",
              "\n",
              "    .colab-df-convert {\n",
              "      background-color: #E8F0FE;\n",
              "      border: none;\n",
              "      border-radius: 50%;\n",
              "      cursor: pointer;\n",
              "      display: none;\n",
              "      fill: #1967D2;\n",
              "      height: 32px;\n",
              "      padding: 0 0 0 0;\n",
              "      width: 32px;\n",
              "    }\n",
              "\n",
              "    .colab-df-convert:hover {\n",
              "      background-color: #E2EBFA;\n",
              "      box-shadow: 0px 1px 2px rgba(60, 64, 67, 0.3), 0px 1px 3px 1px rgba(60, 64, 67, 0.15);\n",
              "      fill: #174EA6;\n",
              "    }\n",
              "\n",
              "    [theme=dark] .colab-df-convert {\n",
              "      background-color: #3B4455;\n",
              "      fill: #D2E3FC;\n",
              "    }\n",
              "\n",
              "    [theme=dark] .colab-df-convert:hover {\n",
              "      background-color: #434B5C;\n",
              "      box-shadow: 0px 1px 3px 1px rgba(0, 0, 0, 0.15);\n",
              "      filter: drop-shadow(0px 1px 2px rgba(0, 0, 0, 0.3));\n",
              "      fill: #FFFFFF;\n",
              "    }\n",
              "  </style>\n",
              "\n",
              "      <script>\n",
              "        const buttonEl =\n",
              "          document.querySelector('#df-abd5a125-6a13-4e85-a8db-d7e88b0b4a33 button.colab-df-convert');\n",
              "        buttonEl.style.display =\n",
              "          google.colab.kernel.accessAllowed ? 'block' : 'none';\n",
              "\n",
              "        async function convertToInteractive(key) {\n",
              "          const element = document.querySelector('#df-abd5a125-6a13-4e85-a8db-d7e88b0b4a33');\n",
              "          const dataTable =\n",
              "            await google.colab.kernel.invokeFunction('convertToInteractive',\n",
              "                                                     [key], {});\n",
              "          if (!dataTable) return;\n",
              "\n",
              "          const docLinkHtml = 'Like what you see? Visit the ' +\n",
              "            '<a target=\"_blank\" href=https://colab.research.google.com/notebooks/data_table.ipynb>data table notebook</a>'\n",
              "            + ' to learn more about interactive tables.';\n",
              "          element.innerHTML = '';\n",
              "          dataTable['output_type'] = 'display_data';\n",
              "          await google.colab.output.renderOutput(dataTable, element);\n",
              "          const docLink = document.createElement('div');\n",
              "          docLink.innerHTML = docLinkHtml;\n",
              "          element.appendChild(docLink);\n",
              "        }\n",
              "      </script>\n",
              "    </div>\n",
              "  </div>\n",
              "  "
            ]
          },
          "metadata": {},
          "execution_count": 93
        }
      ]
    },
    {
      "cell_type": "code",
      "source": [
        "train.drop([\"train\"],axis=1,inplace=True)"
      ],
      "metadata": {
        "id": "rruiQIH6s3bq"
      },
      "execution_count": 94,
      "outputs": []
    },
    {
      "cell_type": "code",
      "source": [
        "train"
      ],
      "metadata": {
        "colab": {
          "base_uri": "https://localhost:8080/",
          "height": 467
        },
        "id": "h6cccOQEticF",
        "outputId": "2fc8a1ef-01ff-43cb-d66a-745e02070538"
      },
      "execution_count": 95,
      "outputs": [
        {
          "output_type": "execute_result",
          "data": {
            "text/plain": [
              "                  user_id      pratilipi_id  read_percent  \\\n",
              "0        5506791965383431  1377786228239412          43.0   \n",
              "1        5506791979588399  1377786228251526         100.0   \n",
              "2        5506791994795299  1377786216843656         100.0   \n",
              "3        5506791994795299  1377786216855987         100.0   \n",
              "4        5506791961795985  1377786225268077         100.0   \n",
              "...                   ...               ...           ...   \n",
              "3954650  5506791979182708  1377786218415632         100.0   \n",
              "3954651  5506791950653936  1377786215559645          75.0   \n",
              "3954652  5506791980439899  1377786228150074         100.0   \n",
              "3954653  5506791972010795  1377786228217647          99.0   \n",
              "3954654  5506791964450228  1377786228203072         100.0   \n",
              "\n",
              "                      updated_at  \\\n",
              "0        2022-03-23 00:05:46.926   \n",
              "1        2022-03-23 00:04:56.788   \n",
              "2        2022-03-23 00:02:24.785   \n",
              "3        2022-03-23 00:02:22.328   \n",
              "4        2022-03-23 00:02:20.715   \n",
              "...                          ...   \n",
              "3954650  2022-03-18 15:14:42.134   \n",
              "3954651  2022-03-18 15:14:42.122   \n",
              "3954652  2022-03-18 15:14:42.120   \n",
              "3954653  2022-03-18 15:14:42.081   \n",
              "3954654  2022-03-18 15:14:41.771   \n",
              "\n",
              "                                        category_name  month    year  \\\n",
              "0                                       ['swahindi2']    3.0  2022.0   \n",
              "1                             ['romance', 'suspense']    3.0  2022.0   \n",
              "2                   ['novels', 'romance', 'suspense']    7.0  2019.0   \n",
              "3                   ['novels', 'romance', 'suspense']    7.0  2019.0   \n",
              "4                        ['crime', 'social', 'women']    8.0  2021.0   \n",
              "...                                               ...    ...     ...   \n",
              "3954650                         ['novels', 'romance']    3.0  2020.0   \n",
              "3954651  ['family', 'moralinspiring', 'shortstories']    5.0  2018.0   \n",
              "3954652             ['family', 'romance', 'suspense']    3.0  2022.0   \n",
              "3954653            ['drama', 'suspense', 'swahindi2']    3.0  2022.0   \n",
              "3954654            ['novels', 'romance', 'swahindi2']    3.0  2022.0   \n",
              "\n",
              "         reading_time_min  \n",
              "0                       9  \n",
              "1                       8  \n",
              "2                      19  \n",
              "3                      18  \n",
              "4                       3  \n",
              "...                   ...  \n",
              "3954650                26  \n",
              "3954651                 1  \n",
              "3954652                17  \n",
              "3954653                 6  \n",
              "3954654                11  \n",
              "\n",
              "[3954655 rows x 8 columns]"
            ],
            "text/html": [
              "\n",
              "  <div id=\"df-2b636822-445c-4bb6-a387-95ba1bdb4442\">\n",
              "    <div class=\"colab-df-container\">\n",
              "      <div>\n",
              "<style scoped>\n",
              "    .dataframe tbody tr th:only-of-type {\n",
              "        vertical-align: middle;\n",
              "    }\n",
              "\n",
              "    .dataframe tbody tr th {\n",
              "        vertical-align: top;\n",
              "    }\n",
              "\n",
              "    .dataframe thead th {\n",
              "        text-align: right;\n",
              "    }\n",
              "</style>\n",
              "<table border=\"1\" class=\"dataframe\">\n",
              "  <thead>\n",
              "    <tr style=\"text-align: right;\">\n",
              "      <th></th>\n",
              "      <th>user_id</th>\n",
              "      <th>pratilipi_id</th>\n",
              "      <th>read_percent</th>\n",
              "      <th>updated_at</th>\n",
              "      <th>category_name</th>\n",
              "      <th>month</th>\n",
              "      <th>year</th>\n",
              "      <th>reading_time_min</th>\n",
              "    </tr>\n",
              "  </thead>\n",
              "  <tbody>\n",
              "    <tr>\n",
              "      <th>0</th>\n",
              "      <td>5506791965383431</td>\n",
              "      <td>1377786228239412</td>\n",
              "      <td>43.0</td>\n",
              "      <td>2022-03-23 00:05:46.926</td>\n",
              "      <td>['swahindi2']</td>\n",
              "      <td>3.0</td>\n",
              "      <td>2022.0</td>\n",
              "      <td>9</td>\n",
              "    </tr>\n",
              "    <tr>\n",
              "      <th>1</th>\n",
              "      <td>5506791979588399</td>\n",
              "      <td>1377786228251526</td>\n",
              "      <td>100.0</td>\n",
              "      <td>2022-03-23 00:04:56.788</td>\n",
              "      <td>['romance', 'suspense']</td>\n",
              "      <td>3.0</td>\n",
              "      <td>2022.0</td>\n",
              "      <td>8</td>\n",
              "    </tr>\n",
              "    <tr>\n",
              "      <th>2</th>\n",
              "      <td>5506791994795299</td>\n",
              "      <td>1377786216843656</td>\n",
              "      <td>100.0</td>\n",
              "      <td>2022-03-23 00:02:24.785</td>\n",
              "      <td>['novels', 'romance', 'suspense']</td>\n",
              "      <td>7.0</td>\n",
              "      <td>2019.0</td>\n",
              "      <td>19</td>\n",
              "    </tr>\n",
              "    <tr>\n",
              "      <th>3</th>\n",
              "      <td>5506791994795299</td>\n",
              "      <td>1377786216855987</td>\n",
              "      <td>100.0</td>\n",
              "      <td>2022-03-23 00:02:22.328</td>\n",
              "      <td>['novels', 'romance', 'suspense']</td>\n",
              "      <td>7.0</td>\n",
              "      <td>2019.0</td>\n",
              "      <td>18</td>\n",
              "    </tr>\n",
              "    <tr>\n",
              "      <th>4</th>\n",
              "      <td>5506791961795985</td>\n",
              "      <td>1377786225268077</td>\n",
              "      <td>100.0</td>\n",
              "      <td>2022-03-23 00:02:20.715</td>\n",
              "      <td>['crime', 'social', 'women']</td>\n",
              "      <td>8.0</td>\n",
              "      <td>2021.0</td>\n",
              "      <td>3</td>\n",
              "    </tr>\n",
              "    <tr>\n",
              "      <th>...</th>\n",
              "      <td>...</td>\n",
              "      <td>...</td>\n",
              "      <td>...</td>\n",
              "      <td>...</td>\n",
              "      <td>...</td>\n",
              "      <td>...</td>\n",
              "      <td>...</td>\n",
              "      <td>...</td>\n",
              "    </tr>\n",
              "    <tr>\n",
              "      <th>3954650</th>\n",
              "      <td>5506791979182708</td>\n",
              "      <td>1377786218415632</td>\n",
              "      <td>100.0</td>\n",
              "      <td>2022-03-18 15:14:42.134</td>\n",
              "      <td>['novels', 'romance']</td>\n",
              "      <td>3.0</td>\n",
              "      <td>2020.0</td>\n",
              "      <td>26</td>\n",
              "    </tr>\n",
              "    <tr>\n",
              "      <th>3954651</th>\n",
              "      <td>5506791950653936</td>\n",
              "      <td>1377786215559645</td>\n",
              "      <td>75.0</td>\n",
              "      <td>2022-03-18 15:14:42.122</td>\n",
              "      <td>['family', 'moralinspiring', 'shortstories']</td>\n",
              "      <td>5.0</td>\n",
              "      <td>2018.0</td>\n",
              "      <td>1</td>\n",
              "    </tr>\n",
              "    <tr>\n",
              "      <th>3954652</th>\n",
              "      <td>5506791980439899</td>\n",
              "      <td>1377786228150074</td>\n",
              "      <td>100.0</td>\n",
              "      <td>2022-03-18 15:14:42.120</td>\n",
              "      <td>['family', 'romance', 'suspense']</td>\n",
              "      <td>3.0</td>\n",
              "      <td>2022.0</td>\n",
              "      <td>17</td>\n",
              "    </tr>\n",
              "    <tr>\n",
              "      <th>3954653</th>\n",
              "      <td>5506791972010795</td>\n",
              "      <td>1377786228217647</td>\n",
              "      <td>99.0</td>\n",
              "      <td>2022-03-18 15:14:42.081</td>\n",
              "      <td>['drama', 'suspense', 'swahindi2']</td>\n",
              "      <td>3.0</td>\n",
              "      <td>2022.0</td>\n",
              "      <td>6</td>\n",
              "    </tr>\n",
              "    <tr>\n",
              "      <th>3954654</th>\n",
              "      <td>5506791964450228</td>\n",
              "      <td>1377786228203072</td>\n",
              "      <td>100.0</td>\n",
              "      <td>2022-03-18 15:14:41.771</td>\n",
              "      <td>['novels', 'romance', 'swahindi2']</td>\n",
              "      <td>3.0</td>\n",
              "      <td>2022.0</td>\n",
              "      <td>11</td>\n",
              "    </tr>\n",
              "  </tbody>\n",
              "</table>\n",
              "<p>3954655 rows × 8 columns</p>\n",
              "</div>\n",
              "      <button class=\"colab-df-convert\" onclick=\"convertToInteractive('df-2b636822-445c-4bb6-a387-95ba1bdb4442')\"\n",
              "              title=\"Convert this dataframe to an interactive table.\"\n",
              "              style=\"display:none;\">\n",
              "        \n",
              "  <svg xmlns=\"http://www.w3.org/2000/svg\" height=\"24px\"viewBox=\"0 0 24 24\"\n",
              "       width=\"24px\">\n",
              "    <path d=\"M0 0h24v24H0V0z\" fill=\"none\"/>\n",
              "    <path d=\"M18.56 5.44l.94 2.06.94-2.06 2.06-.94-2.06-.94-.94-2.06-.94 2.06-2.06.94zm-11 1L8.5 8.5l.94-2.06 2.06-.94-2.06-.94L8.5 2.5l-.94 2.06-2.06.94zm10 10l.94 2.06.94-2.06 2.06-.94-2.06-.94-.94-2.06-.94 2.06-2.06.94z\"/><path d=\"M17.41 7.96l-1.37-1.37c-.4-.4-.92-.59-1.43-.59-.52 0-1.04.2-1.43.59L10.3 9.45l-7.72 7.72c-.78.78-.78 2.05 0 2.83L4 21.41c.39.39.9.59 1.41.59.51 0 1.02-.2 1.41-.59l7.78-7.78 2.81-2.81c.8-.78.8-2.07 0-2.86zM5.41 20L4 18.59l7.72-7.72 1.47 1.35L5.41 20z\"/>\n",
              "  </svg>\n",
              "      </button>\n",
              "      \n",
              "  <style>\n",
              "    .colab-df-container {\n",
              "      display:flex;\n",
              "      flex-wrap:wrap;\n",
              "      gap: 12px;\n",
              "    }\n",
              "\n",
              "    .colab-df-convert {\n",
              "      background-color: #E8F0FE;\n",
              "      border: none;\n",
              "      border-radius: 50%;\n",
              "      cursor: pointer;\n",
              "      display: none;\n",
              "      fill: #1967D2;\n",
              "      height: 32px;\n",
              "      padding: 0 0 0 0;\n",
              "      width: 32px;\n",
              "    }\n",
              "\n",
              "    .colab-df-convert:hover {\n",
              "      background-color: #E2EBFA;\n",
              "      box-shadow: 0px 1px 2px rgba(60, 64, 67, 0.3), 0px 1px 3px 1px rgba(60, 64, 67, 0.15);\n",
              "      fill: #174EA6;\n",
              "    }\n",
              "\n",
              "    [theme=dark] .colab-df-convert {\n",
              "      background-color: #3B4455;\n",
              "      fill: #D2E3FC;\n",
              "    }\n",
              "\n",
              "    [theme=dark] .colab-df-convert:hover {\n",
              "      background-color: #434B5C;\n",
              "      box-shadow: 0px 1px 3px 1px rgba(0, 0, 0, 0.15);\n",
              "      filter: drop-shadow(0px 1px 2px rgba(0, 0, 0, 0.3));\n",
              "      fill: #FFFFFF;\n",
              "    }\n",
              "  </style>\n",
              "\n",
              "      <script>\n",
              "        const buttonEl =\n",
              "          document.querySelector('#df-2b636822-445c-4bb6-a387-95ba1bdb4442 button.colab-df-convert');\n",
              "        buttonEl.style.display =\n",
              "          google.colab.kernel.accessAllowed ? 'block' : 'none';\n",
              "\n",
              "        async function convertToInteractive(key) {\n",
              "          const element = document.querySelector('#df-2b636822-445c-4bb6-a387-95ba1bdb4442');\n",
              "          const dataTable =\n",
              "            await google.colab.kernel.invokeFunction('convertToInteractive',\n",
              "                                                     [key], {});\n",
              "          if (!dataTable) return;\n",
              "\n",
              "          const docLinkHtml = 'Like what you see? Visit the ' +\n",
              "            '<a target=\"_blank\" href=https://colab.research.google.com/notebooks/data_table.ipynb>data table notebook</a>'\n",
              "            + ' to learn more about interactive tables.';\n",
              "          element.innerHTML = '';\n",
              "          dataTable['output_type'] = 'display_data';\n",
              "          await google.colab.output.renderOutput(dataTable, element);\n",
              "          const docLink = document.createElement('div');\n",
              "          docLink.innerHTML = docLinkHtml;\n",
              "          element.appendChild(docLink);\n",
              "        }\n",
              "      </script>\n",
              "    </div>\n",
              "  </div>\n",
              "  "
            ]
          },
          "metadata": {},
          "execution_count": 95
        }
      ]
    },
    {
      "cell_type": "code",
      "source": [
        "train.columns"
      ],
      "metadata": {
        "colab": {
          "base_uri": "https://localhost:8080/"
        },
        "id": "HZCHJE_otr5e",
        "outputId": "41888f60-d995-4bed-8165-ac3baac597af"
      },
      "execution_count": 96,
      "outputs": [
        {
          "output_type": "execute_result",
          "data": {
            "text/plain": [
              "Index(['user_id', 'pratilipi_id', 'read_percent', 'updated_at',\n",
              "       'category_name', 'month', 'year', 'reading_time_min'],\n",
              "      dtype='object')"
            ]
          },
          "metadata": {},
          "execution_count": 96
        }
      ]
    },
    {
      "cell_type": "code",
      "source": [
        "!pip install lightfm"
      ],
      "metadata": {
        "colab": {
          "base_uri": "https://localhost:8080/"
        },
        "id": "gLSN9frNx0Y-",
        "outputId": "0c172ade-7678-4ac7-e808-a65c79a12d0b"
      },
      "execution_count": 97,
      "outputs": [
        {
          "output_type": "stream",
          "name": "stdout",
          "text": [
            "Looking in indexes: https://pypi.org/simple, https://us-python.pkg.dev/colab-wheels/public/simple/\n",
            "Collecting lightfm\n",
            "  Downloading lightfm-1.16.tar.gz (310 kB)\n",
            "\u001b[?25l\r\u001b[K     |█                               | 10 kB 29.9 MB/s eta 0:00:01\r\u001b[K     |██▏                             | 20 kB 17.6 MB/s eta 0:00:01\r\u001b[K     |███▏                            | 30 kB 23.4 MB/s eta 0:00:01\r\u001b[K     |████▎                           | 40 kB 21.6 MB/s eta 0:00:01\r\u001b[K     |█████▎                          | 51 kB 25.0 MB/s eta 0:00:01\r\u001b[K     |██████▍                         | 61 kB 28.4 MB/s eta 0:00:01\r\u001b[K     |███████▍                        | 71 kB 23.4 MB/s eta 0:00:01\r\u001b[K     |████████▌                       | 81 kB 24.4 MB/s eta 0:00:01\r\u001b[K     |█████████▌                      | 92 kB 26.1 MB/s eta 0:00:01\r\u001b[K     |██████████▋                     | 102 kB 28.0 MB/s eta 0:00:01\r\u001b[K     |███████████▋                    | 112 kB 28.0 MB/s eta 0:00:01\r\u001b[K     |████████████▊                   | 122 kB 28.0 MB/s eta 0:00:01\r\u001b[K     |█████████████▊                  | 133 kB 28.0 MB/s eta 0:00:01\r\u001b[K     |██████████████▉                 | 143 kB 28.0 MB/s eta 0:00:01\r\u001b[K     |███████████████▉                | 153 kB 28.0 MB/s eta 0:00:01\r\u001b[K     |█████████████████               | 163 kB 28.0 MB/s eta 0:00:01\r\u001b[K     |██████████████████              | 174 kB 28.0 MB/s eta 0:00:01\r\u001b[K     |███████████████████             | 184 kB 28.0 MB/s eta 0:00:01\r\u001b[K     |████████████████████            | 194 kB 28.0 MB/s eta 0:00:01\r\u001b[K     |█████████████████████▏          | 204 kB 28.0 MB/s eta 0:00:01\r\u001b[K     |██████████████████████▏         | 215 kB 28.0 MB/s eta 0:00:01\r\u001b[K     |███████████████████████▎        | 225 kB 28.0 MB/s eta 0:00:01\r\u001b[K     |████████████████████████▎       | 235 kB 28.0 MB/s eta 0:00:01\r\u001b[K     |█████████████████████████▍      | 245 kB 28.0 MB/s eta 0:00:01\r\u001b[K     |██████████████████████████▍     | 256 kB 28.0 MB/s eta 0:00:01\r\u001b[K     |███████████████████████████▌    | 266 kB 28.0 MB/s eta 0:00:01\r\u001b[K     |████████████████████████████▌   | 276 kB 28.0 MB/s eta 0:00:01\r\u001b[K     |█████████████████████████████▋  | 286 kB 28.0 MB/s eta 0:00:01\r\u001b[K     |██████████████████████████████▋ | 296 kB 28.0 MB/s eta 0:00:01\r\u001b[K     |███████████████████████████████▊| 307 kB 28.0 MB/s eta 0:00:01\r\u001b[K     |████████████████████████████████| 310 kB 28.0 MB/s \n",
            "\u001b[?25hRequirement already satisfied: numpy in /usr/local/lib/python3.7/dist-packages (from lightfm) (1.21.6)\n",
            "Requirement already satisfied: scipy>=0.17.0 in /usr/local/lib/python3.7/dist-packages (from lightfm) (1.7.3)\n",
            "Requirement already satisfied: requests in /usr/local/lib/python3.7/dist-packages (from lightfm) (2.23.0)\n",
            "Requirement already satisfied: scikit-learn in /usr/local/lib/python3.7/dist-packages (from lightfm) (1.0.2)\n",
            "Requirement already satisfied: idna<3,>=2.5 in /usr/local/lib/python3.7/dist-packages (from requests->lightfm) (2.10)\n",
            "Requirement already satisfied: chardet<4,>=3.0.2 in /usr/local/lib/python3.7/dist-packages (from requests->lightfm) (3.0.4)\n",
            "Requirement already satisfied: urllib3!=1.25.0,!=1.25.1,<1.26,>=1.21.1 in /usr/local/lib/python3.7/dist-packages (from requests->lightfm) (1.24.3)\n",
            "Requirement already satisfied: certifi>=2017.4.17 in /usr/local/lib/python3.7/dist-packages (from requests->lightfm) (2022.6.15)\n",
            "Requirement already satisfied: joblib>=0.11 in /usr/local/lib/python3.7/dist-packages (from scikit-learn->lightfm) (1.1.0)\n",
            "Requirement already satisfied: threadpoolctl>=2.0.0 in /usr/local/lib/python3.7/dist-packages (from scikit-learn->lightfm) (3.1.0)\n",
            "Building wheels for collected packages: lightfm\n",
            "  Building wheel for lightfm (setup.py) ... \u001b[?25l\u001b[?25hdone\n",
            "  Created wheel for lightfm: filename=lightfm-1.16-cp37-cp37m-linux_x86_64.whl size=705371 sha256=da67b4f78a93ccbe86868476e48e51af1123a8f66305ee854079e7dc17b59bfb\n",
            "  Stored in directory: /root/.cache/pip/wheels/f8/56/28/5772a3bd3413d65f03aa452190b00898b680b10028a1021914\n",
            "Successfully built lightfm\n",
            "Installing collected packages: lightfm\n",
            "Successfully installed lightfm-1.16\n"
          ]
        }
      ]
    },
    {
      "cell_type": "code",
      "source": [
        "from lightfm.data import Dataset\n",
        "from lightfm import LightFM\n",
        "from lightfm.evaluation import precision_at_k,recall_at_k"
      ],
      "metadata": {
        "id": "CX8d5sQKtvvK"
      },
      "execution_count": 98,
      "outputs": []
    },
    {
      "cell_type": "code",
      "source": [
        "# Interaction data from complete data \n",
        "interactions_current = train[['user_id', 'pratilipi_id', 'read_percent',\"updated_at\"]]\n",
        "interactions_new = test[['user_id', 'pratilipi_id', 'read_percent',\"updated_at\"]]\n",
        "interactions = pd.concat([interactions_current,interactions_new])"
      ],
      "metadata": {
        "id": "ytWjffrCsSRq"
      },
      "execution_count": 99,
      "outputs": []
    },
    {
      "cell_type": "code",
      "source": [
        "interactions_new.shape,interactions_current.shape"
      ],
      "metadata": {
        "colab": {
          "base_uri": "https://localhost:8080/"
        },
        "id": "pWP9Tvd3sSVB",
        "outputId": "3e2dd74e-fad2-47fa-9c74-d8f6e061bb65"
      },
      "execution_count": 100,
      "outputs": [
        {
          "output_type": "execute_result",
          "data": {
            "text/plain": [
              "((1366343, 4), (3954655, 4))"
            ]
          },
          "metadata": {},
          "execution_count": 100
        }
      ]
    },
    {
      "cell_type": "code",
      "source": [
        "# Since new users were removed at the time of creating data we don't have new user is test dataset\n",
        "new_users = np.setdiff1d(interactions_new[\"user_id\"], interactions_current[\"user_id\"])\n",
        "old_users = np.intersect1d(interactions_new[\"user_id\"], interactions_current[\"user_id\"])\n",
        "\n",
        "print(\"Number of new users in new set: {}\".format(len(new_users)))\n",
        "print(\"Number of current users in new set: {}\".format(len(old_users)))"
      ],
      "metadata": {
        "colab": {
          "base_uri": "https://localhost:8080/"
        },
        "id": "oitb5WvksSZA",
        "outputId": "de5748cd-b57b-4f65-9e7f-8b0ce4fa30d3"
      },
      "execution_count": 101,
      "outputs": [
        {
          "output_type": "stream",
          "name": "stdout",
          "text": [
            "Number of new users in new set: 0\n",
            "Number of current users in new set: 128033\n"
          ]
        }
      ]
    },
    {
      "cell_type": "code",
      "source": [
        "# Since new items(pratilipi) were removed at the time of creating data we don't have new user is test dataset\n",
        "\n",
        "new_items = np.setdiff1d(interactions_new['pratilipi_id'], interactions_current['pratilipi_id'])\n",
        "old_items = np.intersect1d(interactions_new['pratilipi_id'], interactions_current['pratilipi_id'])\n",
        "\n",
        "print(\"Number of new items in new set: {}\".format(len(new_items)))\n",
        "print(\"Number of current items in new set: {}\".format(len(old_items)))"
      ],
      "metadata": {
        "colab": {
          "base_uri": "https://localhost:8080/"
        },
        "id": "r9CYuhW7sScx",
        "outputId": "f8f7aaee-5b33-42d7-c7de-7f38fb081e7a"
      },
      "execution_count": 102,
      "outputs": [
        {
          "output_type": "stream",
          "name": "stdout",
          "text": [
            "Number of new items in new set: 0\n",
            "Number of current items in new set: 116387\n"
          ]
        }
      ]
    },
    {
      "cell_type": "code",
      "source": [
        "\n",
        "test.drop([\"train\"],inplace = True,axis = 1)"
      ],
      "metadata": {
        "id": "HNzyf1QOsSgk"
      },
      "execution_count": 103,
      "outputs": []
    },
    {
      "cell_type": "code",
      "source": [
        "# List of item features we have for a single pratilipi\n",
        "item_cols = ['pratilipi_id','month',\n",
        "       'year', 'reading_time_min', 'actionandadventure',\n",
        "       'children', 'comedy', 'crime', 'crimelekhan',\n",
        "       'cybercrimefiction', 'detective', 'drama',\n",
        "       'entertainment', 'erotica', 'experiencesandmemories',\n",
        "       'family', 'fantasy', 'healthandwellness',\n",
        "       'horror', 'horrormarathon', 'indiawale',\n",
        "       'krishijeevan', 'life', 'moralinspiring',\n",
        "       'murdermystery', 'mythology', 'novels',\n",
        "       'parytan', 'politics', 'pratilipiawardshindi',\n",
        "       'pratilipikalamkarsamman', 'pratilipikids',\n",
        "       'pravasisahitya', 'premkamahina', 'radiofiction',\n",
        "       'rashtriya', 'relegionandspiritual', 'romance',\n",
        "       'sciencefiction', 'serieswriting', 'shortstories',\n",
        "       'shortstorychallenge', 'social', 'suspense',\n",
        "       'swahindi2', 'thechatstory', 'translation',\n",
        "       'webseries', 'women']"
      ],
      "metadata": {
        "id": "wmwQkq7asSkl"
      },
      "execution_count": 104,
      "outputs": []
    },
    {
      "cell_type": "code",
      "source": [
        "item_features_current = final[item_cols].drop_duplicates(subset = ['pratilipi_id']).reset_index(drop = True)\n",
        "item_features_new = final[item_cols].drop_duplicates(subset = ['pratilipi_id']).reset_index(drop = True)"
      ],
      "metadata": {
        "id": "doDQoF9lsSnw"
      },
      "execution_count": 105,
      "outputs": []
    },
    {
      "cell_type": "code",
      "source": [
        "item_features_current = item_features_current[item_features_current[\"pratilipi_id\"].isin(interactions_current[\"pratilipi_id\"])]\n",
        "item_features_new = item_features_new[item_features_new[\"pratilipi_id\"].isin(interactions_new[\"pratilipi_id\"])]\n",
        "\n",
        "print(\"Number of current items: {}\".format(len(item_features_current)))\n",
        "print(\"Number of new items: {}\".format(len(item_features_new)))"
      ],
      "metadata": {
        "colab": {
          "base_uri": "https://localhost:8080/"
        },
        "id": "O1dowLW9sSrb",
        "outputId": "2d67e325-db14-409f-f0fa-18dd5b1d33e9"
      },
      "execution_count": 106,
      "outputs": [
        {
          "output_type": "stream",
          "name": "stdout",
          "text": [
            "Number of current items: 169418\n",
            "Number of new items: 116387\n"
          ]
        }
      ]
    },
    {
      "cell_type": "code",
      "source": [
        "item_features = pd.concat([item_features_current])"
      ],
      "metadata": {
        "id": "5aWOYSuXsSu6"
      },
      "execution_count": 107,
      "outputs": []
    },
    {
      "cell_type": "code",
      "source": [
        "print(\"Max user id: {}\".format(interactions_current['user_id'].max()))\n",
        "print(\"Max pratilipi id: {}\".format(interactions_current['pratilipi_id'].max()))"
      ],
      "metadata": {
        "colab": {
          "base_uri": "https://localhost:8080/"
        },
        "id": "Miikhro-Mqw9",
        "outputId": "a144a22f-d63e-474f-da30-8f6552acf0ec"
      },
      "execution_count": 108,
      "outputs": [
        {
          "output_type": "stream",
          "name": "stdout",
          "text": [
            "Max user id: 5506791996685017\n",
            "Max pratilipi id: 1377786228304216\n"
          ]
        }
      ]
    },
    {
      "cell_type": "code",
      "source": [
        "from lightfm.data import Dataset"
      ],
      "metadata": {
        "id": "SQZz7bYCwZL8"
      },
      "execution_count": 109,
      "outputs": []
    },
    {
      "cell_type": "code",
      "source": [
        "user_ids_buffered = (x for x in interactions_current['user_id'].unique())\n",
        "item_ids_buffered = (x for x in interactions_current['pratilipi_id'].unique())\n",
        "\n",
        "item_feature_names = item_features.columns.tolist()\n",
        "item_feature_names.remove(\"pratilipi_id\")\n",
        "\n",
        "# dataset = Dataset()"
      ],
      "metadata": {
        "id": "4gmt_H7kwa-g"
      },
      "execution_count": 110,
      "outputs": []
    },
    {
      "cell_type": "code",
      "source": [
        "dataset = Dataset()"
      ],
      "metadata": {
        "id": "sWexFjEqwclJ"
      },
      "execution_count": 111,
      "outputs": []
    },
    {
      "cell_type": "code",
      "source": [
        "dataset.fit(\n",
        "    users=user_ids_buffered,\n",
        "    items=item_ids_buffered,\n",
        "    item_features=item_feature_names\n",
        ")"
      ],
      "metadata": {
        "id": "7OhIROujweLG"
      },
      "execution_count": 112,
      "outputs": []
    },
    {
      "cell_type": "code",
      "source": [
        "def transform_interactions(interactions):\n",
        "    \"\"\"\n",
        "    Transforms interactions data frame to the format build_interactions needs it.\n",
        "    \n",
        "    Returns iterable of tuples (\"user_id\", \"pratilipi_id\", 'read_percent').\n",
        "    \"\"\"\n",
        "    return interactions[[\"user_id\", \"pratilipi_id\", 'read_percent']].itertuples(index=False)"
      ],
      "metadata": {
        "id": "OpyiTCEBwf3b"
      },
      "execution_count": 113,
      "outputs": []
    },
    {
      "cell_type": "code",
      "source": [
        "interaction_matrix_current, _ = dataset.build_interactions(\n",
        "    transform_interactions(interactions_current))"
      ],
      "metadata": {
        "id": "TQAA-BYywhvK"
      },
      "execution_count": 114,
      "outputs": []
    },
    {
      "cell_type": "code",
      "source": [
        "interactions_current.shape"
      ],
      "metadata": {
        "colab": {
          "base_uri": "https://localhost:8080/"
        },
        "id": "dJvZoNDnwjQM",
        "outputId": "a8d3220c-82ac-4ece-d4a1-9f2e193c2eb9"
      },
      "execution_count": 115,
      "outputs": [
        {
          "output_type": "execute_result",
          "data": {
            "text/plain": [
              "(3954655, 4)"
            ]
          },
          "metadata": {},
          "execution_count": 115
        }
      ]
    },
    {
      "cell_type": "code",
      "source": [
        "interactions_new.shape"
      ],
      "metadata": {
        "colab": {
          "base_uri": "https://localhost:8080/"
        },
        "id": "f57dWJdFwoUB",
        "outputId": "6f2adf05-7152-4ea6-e848-e6149f6ad81b"
      },
      "execution_count": 116,
      "outputs": [
        {
          "output_type": "execute_result",
          "data": {
            "text/plain": [
              "(1366343, 4)"
            ]
          },
          "metadata": {},
          "execution_count": 116
        }
      ]
    },
    {
      "cell_type": "code",
      "source": [
        "def transform_features(features, id_name):\n",
        "    \"\"\"\n",
        "    Transforms features data frame to the format build_user_features / build_item_features needs it.\n",
        "    \n",
        "    Returns iterable of (id, [list of feature names that has value 1]).\n",
        "    \"\"\"\n",
        "    transformed_features = []\n",
        "    for row in features.to_dict(orient=\"records\"):\n",
        "        id_value = row[id_name]\n",
        "        del row[id_name]\n",
        "        feature_names = [key for key, value in row.items() if value == 1]\n",
        "        transformed_features.append(\n",
        "            (id_value, feature_names)\n",
        "        )\n",
        "    return transformed_features"
      ],
      "metadata": {
        "id": "cssofoGvwpmX"
      },
      "execution_count": 117,
      "outputs": []
    },
    {
      "cell_type": "code",
      "source": [
        "item_features_matrix_current = dataset.build_item_features(\n",
        "    transform_features(item_features_current, \"pratilipi_id\"))"
      ],
      "metadata": {
        "id": "im-A3ZTswu8C"
      },
      "execution_count": 118,
      "outputs": []
    },
    {
      "cell_type": "code",
      "source": [
        "item_features_matrix_new = dataset.build_item_features(\n",
        "    transform_features(item_features_new, \"pratilipi_id\"))"
      ],
      "metadata": {
        "id": "rjYGIPATww4c"
      },
      "execution_count": 119,
      "outputs": []
    },
    {
      "cell_type": "code",
      "source": [],
      "metadata": {
        "id": "KOSR-2G0wzyf"
      },
      "execution_count": 119,
      "outputs": []
    },
    {
      "cell_type": "markdown",
      "source": [
        "train\n"
      ],
      "metadata": {
        "id": "d3AXsYXcw1S6"
      }
    },
    {
      "cell_type": "code",
      "source": [
        "# \n",
        "model = LightFM(loss=\"warp\",no_components=150,\n",
        "    learning_rate=0.05,random_state=2019)"
      ],
      "metadata": {
        "id": "50rvujLTxbTH"
      },
      "execution_count": 120,
      "outputs": []
    },
    {
      "cell_type": "code",
      "source": [
        "def predict(model, dataset, user_item_pairs,item_features_matrix):\n",
        "    user_id_mapping, user_feature_mapping, item_id_mapping, item_feature_mapping = dataset.mapping()\n",
        "    predictions = model.predict(\n",
        "        user_ids=np.array([user_id_mapping[x] for x in user_item_pairs[\"user_id\"]]),\n",
        "        item_ids=np.array([item_id_mapping[x] for x in user_item_pairs[\"pratilipi_id\"]]),\n",
        "        item_features=item_features_matrix\n",
        "    )\n",
        "    \n",
        "    df_predictions = user_item_pairs.copy()\n",
        "    df_predictions[\"prediction\"] = predictions\n",
        "    \n",
        "    return df_predictions\n",
        "\n",
        "def merge_interactions(df_evaluation, interactions):\n",
        "    df_evaluation = df_evaluation.merge(interactions[[\"user_id\", \"pratilipi_id\", \"read_percent\"]], on=[\"user_id\", \"pratilipi_id\"], how=\"left\")\n",
        "    df_evaluation[\"has_interaction\"] = ~df_evaluation[\"read_percent\"].isna()\n",
        "#     df_evaluation = df_evaluation.drop(columns=\"read_percent\")\n",
        "    return df_evaluation"
      ],
      "metadata": {
        "id": "wDPamH7vxSEK"
      },
      "execution_count": 127,
      "outputs": []
    },
    {
      "cell_type": "code",
      "source": [
        "metadata = pd.read_csv(\"/content/drive/MyDrive/ds assignment/metadata.csv\")"
      ],
      "metadata": {
        "id": "inUPyGyu2zul"
      },
      "execution_count": 128,
      "outputs": []
    },
    {
      "cell_type": "code",
      "source": [
        "complete_test = test.merge(metadata,on = \"pratilipi_id\")"
      ],
      "metadata": {
        "id": "fHxk6Ejb29m6"
      },
      "execution_count": 130,
      "outputs": []
    },
    {
      "cell_type": "code",
      "source": [
        "complete_test.head()"
      ],
      "metadata": {
        "colab": {
          "base_uri": "https://localhost:8080/",
          "height": 444
        },
        "id": "Fmk5yjcu2_sm",
        "outputId": "29c42a22-84d9-4f1c-e8d6-39cf33db7121"
      },
      "execution_count": 131,
      "outputs": [
        {
          "output_type": "execute_result",
          "data": {
            "text/plain": [
              "            user_id      pratilipi_id  read_percent             updated_at_x  \\\n",
              "0  5506791963854965  1377786220672965         100.0  2022-03-23 00:08:26.227   \n",
              "1  5506791963854965  1377786220672965         100.0  2022-03-23 00:08:26.227   \n",
              "2  5506791963854965  1377786220672965         100.0  2022-03-23 00:08:26.227   \n",
              "3  5506791990547519  1377786220672965         100.0  2022-03-22 22:32:11.828   \n",
              "4  5506791990547519  1377786220672965         100.0  2022-03-22 22:32:11.828   \n",
              "\n",
              "                           category_name_x  month    year  reading_time_min  \\\n",
              "0  ['novels', 'romance', 'moralinspiring']    8.0  2020.0                 5   \n",
              "1  ['novels', 'romance', 'moralinspiring']    8.0  2020.0                 5   \n",
              "2  ['novels', 'romance', 'moralinspiring']    8.0  2020.0                 5   \n",
              "3  ['novels', 'romance', 'moralinspiring']    8.0  2020.0                 5   \n",
              "4  ['novels', 'romance', 'moralinspiring']    8.0  2020.0                 5   \n",
              "\n",
              "          author_id  category_name_y  reading_time         updated_at_y  \\\n",
              "0 -2270332344732237           novels           330  2020-10-12 09:17:49   \n",
              "1 -2270332344732237          romance           330  2020-10-12 09:17:49   \n",
              "2 -2270332344732237  moral-inspiring           330  2020-10-12 09:17:49   \n",
              "3 -2270332344732237           novels           330  2020-10-12 09:17:49   \n",
              "4 -2270332344732237          romance           330  2020-10-12 09:17:49   \n",
              "\n",
              "          published_at  \n",
              "0  2020-08-27 12:18:06  \n",
              "1  2020-08-27 12:18:06  \n",
              "2  2020-08-27 12:18:06  \n",
              "3  2020-08-27 12:18:06  \n",
              "4  2020-08-27 12:18:06  "
            ],
            "text/html": [
              "\n",
              "  <div id=\"df-487a5010-22f8-4e8a-a487-47cbcac06d21\">\n",
              "    <div class=\"colab-df-container\">\n",
              "      <div>\n",
              "<style scoped>\n",
              "    .dataframe tbody tr th:only-of-type {\n",
              "        vertical-align: middle;\n",
              "    }\n",
              "\n",
              "    .dataframe tbody tr th {\n",
              "        vertical-align: top;\n",
              "    }\n",
              "\n",
              "    .dataframe thead th {\n",
              "        text-align: right;\n",
              "    }\n",
              "</style>\n",
              "<table border=\"1\" class=\"dataframe\">\n",
              "  <thead>\n",
              "    <tr style=\"text-align: right;\">\n",
              "      <th></th>\n",
              "      <th>user_id</th>\n",
              "      <th>pratilipi_id</th>\n",
              "      <th>read_percent</th>\n",
              "      <th>updated_at_x</th>\n",
              "      <th>category_name_x</th>\n",
              "      <th>month</th>\n",
              "      <th>year</th>\n",
              "      <th>reading_time_min</th>\n",
              "      <th>author_id</th>\n",
              "      <th>category_name_y</th>\n",
              "      <th>reading_time</th>\n",
              "      <th>updated_at_y</th>\n",
              "      <th>published_at</th>\n",
              "    </tr>\n",
              "  </thead>\n",
              "  <tbody>\n",
              "    <tr>\n",
              "      <th>0</th>\n",
              "      <td>5506791963854965</td>\n",
              "      <td>1377786220672965</td>\n",
              "      <td>100.0</td>\n",
              "      <td>2022-03-23 00:08:26.227</td>\n",
              "      <td>['novels', 'romance', 'moralinspiring']</td>\n",
              "      <td>8.0</td>\n",
              "      <td>2020.0</td>\n",
              "      <td>5</td>\n",
              "      <td>-2270332344732237</td>\n",
              "      <td>novels</td>\n",
              "      <td>330</td>\n",
              "      <td>2020-10-12 09:17:49</td>\n",
              "      <td>2020-08-27 12:18:06</td>\n",
              "    </tr>\n",
              "    <tr>\n",
              "      <th>1</th>\n",
              "      <td>5506791963854965</td>\n",
              "      <td>1377786220672965</td>\n",
              "      <td>100.0</td>\n",
              "      <td>2022-03-23 00:08:26.227</td>\n",
              "      <td>['novels', 'romance', 'moralinspiring']</td>\n",
              "      <td>8.0</td>\n",
              "      <td>2020.0</td>\n",
              "      <td>5</td>\n",
              "      <td>-2270332344732237</td>\n",
              "      <td>romance</td>\n",
              "      <td>330</td>\n",
              "      <td>2020-10-12 09:17:49</td>\n",
              "      <td>2020-08-27 12:18:06</td>\n",
              "    </tr>\n",
              "    <tr>\n",
              "      <th>2</th>\n",
              "      <td>5506791963854965</td>\n",
              "      <td>1377786220672965</td>\n",
              "      <td>100.0</td>\n",
              "      <td>2022-03-23 00:08:26.227</td>\n",
              "      <td>['novels', 'romance', 'moralinspiring']</td>\n",
              "      <td>8.0</td>\n",
              "      <td>2020.0</td>\n",
              "      <td>5</td>\n",
              "      <td>-2270332344732237</td>\n",
              "      <td>moral-inspiring</td>\n",
              "      <td>330</td>\n",
              "      <td>2020-10-12 09:17:49</td>\n",
              "      <td>2020-08-27 12:18:06</td>\n",
              "    </tr>\n",
              "    <tr>\n",
              "      <th>3</th>\n",
              "      <td>5506791990547519</td>\n",
              "      <td>1377786220672965</td>\n",
              "      <td>100.0</td>\n",
              "      <td>2022-03-22 22:32:11.828</td>\n",
              "      <td>['novels', 'romance', 'moralinspiring']</td>\n",
              "      <td>8.0</td>\n",
              "      <td>2020.0</td>\n",
              "      <td>5</td>\n",
              "      <td>-2270332344732237</td>\n",
              "      <td>novels</td>\n",
              "      <td>330</td>\n",
              "      <td>2020-10-12 09:17:49</td>\n",
              "      <td>2020-08-27 12:18:06</td>\n",
              "    </tr>\n",
              "    <tr>\n",
              "      <th>4</th>\n",
              "      <td>5506791990547519</td>\n",
              "      <td>1377786220672965</td>\n",
              "      <td>100.0</td>\n",
              "      <td>2022-03-22 22:32:11.828</td>\n",
              "      <td>['novels', 'romance', 'moralinspiring']</td>\n",
              "      <td>8.0</td>\n",
              "      <td>2020.0</td>\n",
              "      <td>5</td>\n",
              "      <td>-2270332344732237</td>\n",
              "      <td>romance</td>\n",
              "      <td>330</td>\n",
              "      <td>2020-10-12 09:17:49</td>\n",
              "      <td>2020-08-27 12:18:06</td>\n",
              "    </tr>\n",
              "  </tbody>\n",
              "</table>\n",
              "</div>\n",
              "      <button class=\"colab-df-convert\" onclick=\"convertToInteractive('df-487a5010-22f8-4e8a-a487-47cbcac06d21')\"\n",
              "              title=\"Convert this dataframe to an interactive table.\"\n",
              "              style=\"display:none;\">\n",
              "        \n",
              "  <svg xmlns=\"http://www.w3.org/2000/svg\" height=\"24px\"viewBox=\"0 0 24 24\"\n",
              "       width=\"24px\">\n",
              "    <path d=\"M0 0h24v24H0V0z\" fill=\"none\"/>\n",
              "    <path d=\"M18.56 5.44l.94 2.06.94-2.06 2.06-.94-2.06-.94-.94-2.06-.94 2.06-2.06.94zm-11 1L8.5 8.5l.94-2.06 2.06-.94-2.06-.94L8.5 2.5l-.94 2.06-2.06.94zm10 10l.94 2.06.94-2.06 2.06-.94-2.06-.94-.94-2.06-.94 2.06-2.06.94z\"/><path d=\"M17.41 7.96l-1.37-1.37c-.4-.4-.92-.59-1.43-.59-.52 0-1.04.2-1.43.59L10.3 9.45l-7.72 7.72c-.78.78-.78 2.05 0 2.83L4 21.41c.39.39.9.59 1.41.59.51 0 1.02-.2 1.41-.59l7.78-7.78 2.81-2.81c.8-.78.8-2.07 0-2.86zM5.41 20L4 18.59l7.72-7.72 1.47 1.35L5.41 20z\"/>\n",
              "  </svg>\n",
              "      </button>\n",
              "      \n",
              "  <style>\n",
              "    .colab-df-container {\n",
              "      display:flex;\n",
              "      flex-wrap:wrap;\n",
              "      gap: 12px;\n",
              "    }\n",
              "\n",
              "    .colab-df-convert {\n",
              "      background-color: #E8F0FE;\n",
              "      border: none;\n",
              "      border-radius: 50%;\n",
              "      cursor: pointer;\n",
              "      display: none;\n",
              "      fill: #1967D2;\n",
              "      height: 32px;\n",
              "      padding: 0 0 0 0;\n",
              "      width: 32px;\n",
              "    }\n",
              "\n",
              "    .colab-df-convert:hover {\n",
              "      background-color: #E2EBFA;\n",
              "      box-shadow: 0px 1px 2px rgba(60, 64, 67, 0.3), 0px 1px 3px 1px rgba(60, 64, 67, 0.15);\n",
              "      fill: #174EA6;\n",
              "    }\n",
              "\n",
              "    [theme=dark] .colab-df-convert {\n",
              "      background-color: #3B4455;\n",
              "      fill: #D2E3FC;\n",
              "    }\n",
              "\n",
              "    [theme=dark] .colab-df-convert:hover {\n",
              "      background-color: #434B5C;\n",
              "      box-shadow: 0px 1px 3px 1px rgba(0, 0, 0, 0.15);\n",
              "      filter: drop-shadow(0px 1px 2px rgba(0, 0, 0, 0.3));\n",
              "      fill: #FFFFFF;\n",
              "    }\n",
              "  </style>\n",
              "\n",
              "      <script>\n",
              "        const buttonEl =\n",
              "          document.querySelector('#df-487a5010-22f8-4e8a-a487-47cbcac06d21 button.colab-df-convert');\n",
              "        buttonEl.style.display =\n",
              "          google.colab.kernel.accessAllowed ? 'block' : 'none';\n",
              "\n",
              "        async function convertToInteractive(key) {\n",
              "          const element = document.querySelector('#df-487a5010-22f8-4e8a-a487-47cbcac06d21');\n",
              "          const dataTable =\n",
              "            await google.colab.kernel.invokeFunction('convertToInteractive',\n",
              "                                                     [key], {});\n",
              "          if (!dataTable) return;\n",
              "\n",
              "          const docLinkHtml = 'Like what you see? Visit the ' +\n",
              "            '<a target=\"_blank\" href=https://colab.research.google.com/notebooks/data_table.ipynb>data table notebook</a>'\n",
              "            + ' to learn more about interactive tables.';\n",
              "          element.innerHTML = '';\n",
              "          dataTable['output_type'] = 'display_data';\n",
              "          await google.colab.output.renderOutput(dataTable, element);\n",
              "          const docLink = document.createElement('div');\n",
              "          docLink.innerHTML = docLinkHtml;\n",
              "          element.appendChild(docLink);\n",
              "        }\n",
              "      </script>\n",
              "    </div>\n",
              "  </div>\n",
              "  "
            ]
          },
          "metadata": {},
          "execution_count": 131
        }
      ]
    },
    {
      "cell_type": "code",
      "source": [
        "g = {'pratilipi_id':lambda x: list(x)[:10] if len(list(x))>100 else list(x),\n",
        "    \"category_name_y\":lambda x: list(x)}\n",
        "final_test = complete_test.sort_values(['updated_at_x']).groupby([\"user_id\"]).agg(g).reset_index()"
      ],
      "metadata": {
        "id": "jpQzBWpJ3Ia3"
      },
      "execution_count": 133,
      "outputs": []
    },
    {
      "cell_type": "code",
      "source": [
        "final_test[\"predicted_id\"] = None"
      ],
      "metadata": {
        "id": "N993zbgd3NBV"
      },
      "execution_count": 134,
      "outputs": []
    },
    {
      "cell_type": "code",
      "source": [
        "final_test.head()"
      ],
      "metadata": {
        "colab": {
          "base_uri": "https://localhost:8080/",
          "height": 206
        },
        "id": "UnAPbd5X3gRz",
        "outputId": "1676908f-ff72-449c-948f-6afcf1dad566"
      },
      "execution_count": 135,
      "outputs": [
        {
          "output_type": "execute_result",
          "data": {
            "text/plain": [
              "            user_id                                       pratilipi_id  \\\n",
              "0  3257552805995172  [1377786223197903, 1377786223197903, 137778622...   \n",
              "1  3260275089121956  [1377786225588430, 1377786225588430, 137778622...   \n",
              "2  3263710062617252  [1377786217549973, 1377786228281893, 137778622...   \n",
              "3  3263998672675492  [1377786227504834, 1377786227504834, 137778622...   \n",
              "4  3264294598124196  [1377786226455143, 1377786226455143, 137778622...   \n",
              "\n",
              "                                     category_name_y predicted_id  \n",
              "0  [suspense, science-fiction, action-and-adventu...         None  \n",
              "1  [entertainment, romance, entertainment, romanc...         None  \n",
              "2  [moral-inspiring, horror, fantasy, entertainme...         None  \n",
              "3  [romance, novels, family, romance, family, nov...         None  \n",
              "4  [action-and-adventure, romance, suspense, roma...         None  "
            ],
            "text/html": [
              "\n",
              "  <div id=\"df-c19f5e2e-7a61-4c1a-8ba0-d2c22d0584a8\">\n",
              "    <div class=\"colab-df-container\">\n",
              "      <div>\n",
              "<style scoped>\n",
              "    .dataframe tbody tr th:only-of-type {\n",
              "        vertical-align: middle;\n",
              "    }\n",
              "\n",
              "    .dataframe tbody tr th {\n",
              "        vertical-align: top;\n",
              "    }\n",
              "\n",
              "    .dataframe thead th {\n",
              "        text-align: right;\n",
              "    }\n",
              "</style>\n",
              "<table border=\"1\" class=\"dataframe\">\n",
              "  <thead>\n",
              "    <tr style=\"text-align: right;\">\n",
              "      <th></th>\n",
              "      <th>user_id</th>\n",
              "      <th>pratilipi_id</th>\n",
              "      <th>category_name_y</th>\n",
              "      <th>predicted_id</th>\n",
              "    </tr>\n",
              "  </thead>\n",
              "  <tbody>\n",
              "    <tr>\n",
              "      <th>0</th>\n",
              "      <td>3257552805995172</td>\n",
              "      <td>[1377786223197903, 1377786223197903, 137778622...</td>\n",
              "      <td>[suspense, science-fiction, action-and-adventu...</td>\n",
              "      <td>None</td>\n",
              "    </tr>\n",
              "    <tr>\n",
              "      <th>1</th>\n",
              "      <td>3260275089121956</td>\n",
              "      <td>[1377786225588430, 1377786225588430, 137778622...</td>\n",
              "      <td>[entertainment, romance, entertainment, romanc...</td>\n",
              "      <td>None</td>\n",
              "    </tr>\n",
              "    <tr>\n",
              "      <th>2</th>\n",
              "      <td>3263710062617252</td>\n",
              "      <td>[1377786217549973, 1377786228281893, 137778622...</td>\n",
              "      <td>[moral-inspiring, horror, fantasy, entertainme...</td>\n",
              "      <td>None</td>\n",
              "    </tr>\n",
              "    <tr>\n",
              "      <th>3</th>\n",
              "      <td>3263998672675492</td>\n",
              "      <td>[1377786227504834, 1377786227504834, 137778622...</td>\n",
              "      <td>[romance, novels, family, romance, family, nov...</td>\n",
              "      <td>None</td>\n",
              "    </tr>\n",
              "    <tr>\n",
              "      <th>4</th>\n",
              "      <td>3264294598124196</td>\n",
              "      <td>[1377786226455143, 1377786226455143, 137778622...</td>\n",
              "      <td>[action-and-adventure, romance, suspense, roma...</td>\n",
              "      <td>None</td>\n",
              "    </tr>\n",
              "  </tbody>\n",
              "</table>\n",
              "</div>\n",
              "      <button class=\"colab-df-convert\" onclick=\"convertToInteractive('df-c19f5e2e-7a61-4c1a-8ba0-d2c22d0584a8')\"\n",
              "              title=\"Convert this dataframe to an interactive table.\"\n",
              "              style=\"display:none;\">\n",
              "        \n",
              "  <svg xmlns=\"http://www.w3.org/2000/svg\" height=\"24px\"viewBox=\"0 0 24 24\"\n",
              "       width=\"24px\">\n",
              "    <path d=\"M0 0h24v24H0V0z\" fill=\"none\"/>\n",
              "    <path d=\"M18.56 5.44l.94 2.06.94-2.06 2.06-.94-2.06-.94-.94-2.06-.94 2.06-2.06.94zm-11 1L8.5 8.5l.94-2.06 2.06-.94-2.06-.94L8.5 2.5l-.94 2.06-2.06.94zm10 10l.94 2.06.94-2.06 2.06-.94-2.06-.94-.94-2.06-.94 2.06-2.06.94z\"/><path d=\"M17.41 7.96l-1.37-1.37c-.4-.4-.92-.59-1.43-.59-.52 0-1.04.2-1.43.59L10.3 9.45l-7.72 7.72c-.78.78-.78 2.05 0 2.83L4 21.41c.39.39.9.59 1.41.59.51 0 1.02-.2 1.41-.59l7.78-7.78 2.81-2.81c.8-.78.8-2.07 0-2.86zM5.41 20L4 18.59l7.72-7.72 1.47 1.35L5.41 20z\"/>\n",
              "  </svg>\n",
              "      </button>\n",
              "      \n",
              "  <style>\n",
              "    .colab-df-container {\n",
              "      display:flex;\n",
              "      flex-wrap:wrap;\n",
              "      gap: 12px;\n",
              "    }\n",
              "\n",
              "    .colab-df-convert {\n",
              "      background-color: #E8F0FE;\n",
              "      border: none;\n",
              "      border-radius: 50%;\n",
              "      cursor: pointer;\n",
              "      display: none;\n",
              "      fill: #1967D2;\n",
              "      height: 32px;\n",
              "      padding: 0 0 0 0;\n",
              "      width: 32px;\n",
              "    }\n",
              "\n",
              "    .colab-df-convert:hover {\n",
              "      background-color: #E2EBFA;\n",
              "      box-shadow: 0px 1px 2px rgba(60, 64, 67, 0.3), 0px 1px 3px 1px rgba(60, 64, 67, 0.15);\n",
              "      fill: #174EA6;\n",
              "    }\n",
              "\n",
              "    [theme=dark] .colab-df-convert {\n",
              "      background-color: #3B4455;\n",
              "      fill: #D2E3FC;\n",
              "    }\n",
              "\n",
              "    [theme=dark] .colab-df-convert:hover {\n",
              "      background-color: #434B5C;\n",
              "      box-shadow: 0px 1px 3px 1px rgba(0, 0, 0, 0.15);\n",
              "      filter: drop-shadow(0px 1px 2px rgba(0, 0, 0, 0.3));\n",
              "      fill: #FFFFFF;\n",
              "    }\n",
              "  </style>\n",
              "\n",
              "      <script>\n",
              "        const buttonEl =\n",
              "          document.querySelector('#df-c19f5e2e-7a61-4c1a-8ba0-d2c22d0584a8 button.colab-df-convert');\n",
              "        buttonEl.style.display =\n",
              "          google.colab.kernel.accessAllowed ? 'block' : 'none';\n",
              "\n",
              "        async function convertToInteractive(key) {\n",
              "          const element = document.querySelector('#df-c19f5e2e-7a61-4c1a-8ba0-d2c22d0584a8');\n",
              "          const dataTable =\n",
              "            await google.colab.kernel.invokeFunction('convertToInteractive',\n",
              "                                                     [key], {});\n",
              "          if (!dataTable) return;\n",
              "\n",
              "          const docLinkHtml = 'Like what you see? Visit the ' +\n",
              "            '<a target=\"_blank\" href=https://colab.research.google.com/notebooks/data_table.ipynb>data table notebook</a>'\n",
              "            + ' to learn more about interactive tables.';\n",
              "          element.innerHTML = '';\n",
              "          dataTable['output_type'] = 'display_data';\n",
              "          await google.colab.output.renderOutput(dataTable, element);\n",
              "          const docLink = document.createElement('div');\n",
              "          docLink.innerHTML = docLinkHtml;\n",
              "          element.appendChild(docLink);\n",
              "        }\n",
              "      </script>\n",
              "    </div>\n",
              "  </div>\n",
              "  "
            ]
          },
          "metadata": {},
          "execution_count": 135
        }
      ]
    },
    {
      "cell_type": "code",
      "source": [
        "all_item_ids = np.unique(interactions[\"pratilipi_id\"])\n",
        "\n",
        "for i in range(10):\n",
        "#     try:\n",
        "    user_sample_item_pairs = pd.DataFrame({\n",
        "        \"user_id\": final_test[\"user_id\"][i],\n",
        "        \"pratilipi_id\": all_item_ids\n",
        "    })\n",
        "    predictions_sample = predict(model, dataset, user_sample_item_pairs,item_features_matrix_new )\n",
        "    predictions_sample = merge_interactions(predictions_sample, interactions)\n",
        "    predictions_sample = predictions_sample.sort_values(\"prediction\", ascending=False)\n",
        "    final_test[\"predicted_id\"][i] = list(set(predictions_sample[\"pratilipi_id\"].tolist()[:100]))"
      ],
      "metadata": {
        "colab": {
          "base_uri": "https://localhost:8080/"
        },
        "id": "yV2_gXz13iMh",
        "outputId": "efbf97d2-5d54-475f-c8d5-a40c2d22c905"
      },
      "execution_count": 137,
      "outputs": [
        {
          "output_type": "stream",
          "name": "stderr",
          "text": [
            "/usr/local/lib/python3.7/dist-packages/ipykernel_launcher.py:12: SettingWithCopyWarning: \n",
            "A value is trying to be set on a copy of a slice from a DataFrame\n",
            "\n",
            "See the caveats in the documentation: https://pandas.pydata.org/pandas-docs/stable/user_guide/indexing.html#returning-a-view-versus-a-copy\n",
            "  if sys.path[0] == '':\n"
          ]
        }
      ]
    },
    {
      "cell_type": "code",
      "source": [
        "final_test=final_test[:10]"
      ],
      "metadata": {
        "id": "efc5clzN3mvS"
      },
      "execution_count": 138,
      "outputs": []
    },
    {
      "cell_type": "code",
      "source": [
        "final_test"
      ],
      "metadata": {
        "colab": {
          "base_uri": "https://localhost:8080/",
          "height": 580
        },
        "id": "oxr5qWj03qf2",
        "outputId": "c404963b-dc62-426d-9753-1ad3ed049711"
      },
      "execution_count": 139,
      "outputs": [
        {
          "output_type": "execute_result",
          "data": {
            "text/plain": [
              "            user_id                                       pratilipi_id  \\\n",
              "0  3257552805995172  [1377786223197903, 1377786223197903, 137778622...   \n",
              "1  3260275089121956  [1377786225588430, 1377786225588430, 137778622...   \n",
              "2  3263710062617252  [1377786217549973, 1377786228281893, 137778622...   \n",
              "3  3263998672675492  [1377786227504834, 1377786227504834, 137778622...   \n",
              "4  3264294598124196  [1377786226455143, 1377786226455143, 137778622...   \n",
              "5  3264333346677412  [1377786220067143, 1377786220067143, 137778621...   \n",
              "6  3264359729373860  [1377786217226026, 1377786217226026, 137778621...   \n",
              "7  3264598431408804  [1377786217541698, 1377786217541698, 137778621...   \n",
              "8  3264802291360420  [1377786218134429, 1377786218134429, 137778621...   \n",
              "9  3265199567446692  [1377786226552225, 1377786217574861, 137778621...   \n",
              "\n",
              "                                     category_name_y  \\\n",
              "0  [suspense, science-fiction, action-and-adventu...   \n",
              "1  [entertainment, romance, entertainment, romanc...   \n",
              "2  [moral-inspiring, horror, fantasy, entertainme...   \n",
              "3  [romance, novels, family, romance, family, nov...   \n",
              "4  [action-and-adventure, romance, suspense, roma...   \n",
              "5  [shortstories, social, women, social, romance,...   \n",
              "6  [moral-inspiring, romance, suspense, suspense,...   \n",
              "7                     [social, family, shortstories]   \n",
              "8  [family, women, social, Horror-Marathon, suspe...   \n",
              "9                          [novels, romance, social]   \n",
              "\n",
              "                                        predicted_id  \n",
              "0  [1377786224115736, 1377786227251740, 137778622...  \n",
              "1  [1377786228274181, 1377786228225546, 137778621...  \n",
              "2  [1377786228243458, 1377786228246031, 137778622...  \n",
              "3  [1377786227037698, 1377786225941509, 137778622...  \n",
              "4  [1377786226607623, 1377786228137481, 137778622...  \n",
              "5  [1377786215596042, 1377786217282571, 137778621...  \n",
              "6  [1377786219134467, 1377786228239368, 137778622...  \n",
              "7  [1377786223535626, 1377786223502356, 137778622...  \n",
              "8  [1377786217853440, 1377786216330755, 137778621...  \n",
              "9  [1377786227355142, 1377786217879559, 137778621...  "
            ],
            "text/html": [
              "\n",
              "  <div id=\"df-2f64eacc-5a5e-46ff-81ac-44e5b5349f03\">\n",
              "    <div class=\"colab-df-container\">\n",
              "      <div>\n",
              "<style scoped>\n",
              "    .dataframe tbody tr th:only-of-type {\n",
              "        vertical-align: middle;\n",
              "    }\n",
              "\n",
              "    .dataframe tbody tr th {\n",
              "        vertical-align: top;\n",
              "    }\n",
              "\n",
              "    .dataframe thead th {\n",
              "        text-align: right;\n",
              "    }\n",
              "</style>\n",
              "<table border=\"1\" class=\"dataframe\">\n",
              "  <thead>\n",
              "    <tr style=\"text-align: right;\">\n",
              "      <th></th>\n",
              "      <th>user_id</th>\n",
              "      <th>pratilipi_id</th>\n",
              "      <th>category_name_y</th>\n",
              "      <th>predicted_id</th>\n",
              "    </tr>\n",
              "  </thead>\n",
              "  <tbody>\n",
              "    <tr>\n",
              "      <th>0</th>\n",
              "      <td>3257552805995172</td>\n",
              "      <td>[1377786223197903, 1377786223197903, 137778622...</td>\n",
              "      <td>[suspense, science-fiction, action-and-adventu...</td>\n",
              "      <td>[1377786224115736, 1377786227251740, 137778622...</td>\n",
              "    </tr>\n",
              "    <tr>\n",
              "      <th>1</th>\n",
              "      <td>3260275089121956</td>\n",
              "      <td>[1377786225588430, 1377786225588430, 137778622...</td>\n",
              "      <td>[entertainment, romance, entertainment, romanc...</td>\n",
              "      <td>[1377786228274181, 1377786228225546, 137778621...</td>\n",
              "    </tr>\n",
              "    <tr>\n",
              "      <th>2</th>\n",
              "      <td>3263710062617252</td>\n",
              "      <td>[1377786217549973, 1377786228281893, 137778622...</td>\n",
              "      <td>[moral-inspiring, horror, fantasy, entertainme...</td>\n",
              "      <td>[1377786228243458, 1377786228246031, 137778622...</td>\n",
              "    </tr>\n",
              "    <tr>\n",
              "      <th>3</th>\n",
              "      <td>3263998672675492</td>\n",
              "      <td>[1377786227504834, 1377786227504834, 137778622...</td>\n",
              "      <td>[romance, novels, family, romance, family, nov...</td>\n",
              "      <td>[1377786227037698, 1377786225941509, 137778622...</td>\n",
              "    </tr>\n",
              "    <tr>\n",
              "      <th>4</th>\n",
              "      <td>3264294598124196</td>\n",
              "      <td>[1377786226455143, 1377786226455143, 137778622...</td>\n",
              "      <td>[action-and-adventure, romance, suspense, roma...</td>\n",
              "      <td>[1377786226607623, 1377786228137481, 137778622...</td>\n",
              "    </tr>\n",
              "    <tr>\n",
              "      <th>5</th>\n",
              "      <td>3264333346677412</td>\n",
              "      <td>[1377786220067143, 1377786220067143, 137778621...</td>\n",
              "      <td>[shortstories, social, women, social, romance,...</td>\n",
              "      <td>[1377786215596042, 1377786217282571, 137778621...</td>\n",
              "    </tr>\n",
              "    <tr>\n",
              "      <th>6</th>\n",
              "      <td>3264359729373860</td>\n",
              "      <td>[1377786217226026, 1377786217226026, 137778621...</td>\n",
              "      <td>[moral-inspiring, romance, suspense, suspense,...</td>\n",
              "      <td>[1377786219134467, 1377786228239368, 137778622...</td>\n",
              "    </tr>\n",
              "    <tr>\n",
              "      <th>7</th>\n",
              "      <td>3264598431408804</td>\n",
              "      <td>[1377786217541698, 1377786217541698, 137778621...</td>\n",
              "      <td>[social, family, shortstories]</td>\n",
              "      <td>[1377786223535626, 1377786223502356, 137778622...</td>\n",
              "    </tr>\n",
              "    <tr>\n",
              "      <th>8</th>\n",
              "      <td>3264802291360420</td>\n",
              "      <td>[1377786218134429, 1377786218134429, 137778621...</td>\n",
              "      <td>[family, women, social, Horror-Marathon, suspe...</td>\n",
              "      <td>[1377786217853440, 1377786216330755, 137778621...</td>\n",
              "    </tr>\n",
              "    <tr>\n",
              "      <th>9</th>\n",
              "      <td>3265199567446692</td>\n",
              "      <td>[1377786226552225, 1377786217574861, 137778621...</td>\n",
              "      <td>[novels, romance, social]</td>\n",
              "      <td>[1377786227355142, 1377786217879559, 137778621...</td>\n",
              "    </tr>\n",
              "  </tbody>\n",
              "</table>\n",
              "</div>\n",
              "      <button class=\"colab-df-convert\" onclick=\"convertToInteractive('df-2f64eacc-5a5e-46ff-81ac-44e5b5349f03')\"\n",
              "              title=\"Convert this dataframe to an interactive table.\"\n",
              "              style=\"display:none;\">\n",
              "        \n",
              "  <svg xmlns=\"http://www.w3.org/2000/svg\" height=\"24px\"viewBox=\"0 0 24 24\"\n",
              "       width=\"24px\">\n",
              "    <path d=\"M0 0h24v24H0V0z\" fill=\"none\"/>\n",
              "    <path d=\"M18.56 5.44l.94 2.06.94-2.06 2.06-.94-2.06-.94-.94-2.06-.94 2.06-2.06.94zm-11 1L8.5 8.5l.94-2.06 2.06-.94-2.06-.94L8.5 2.5l-.94 2.06-2.06.94zm10 10l.94 2.06.94-2.06 2.06-.94-2.06-.94-.94-2.06-.94 2.06-2.06.94z\"/><path d=\"M17.41 7.96l-1.37-1.37c-.4-.4-.92-.59-1.43-.59-.52 0-1.04.2-1.43.59L10.3 9.45l-7.72 7.72c-.78.78-.78 2.05 0 2.83L4 21.41c.39.39.9.59 1.41.59.51 0 1.02-.2 1.41-.59l7.78-7.78 2.81-2.81c.8-.78.8-2.07 0-2.86zM5.41 20L4 18.59l7.72-7.72 1.47 1.35L5.41 20z\"/>\n",
              "  </svg>\n",
              "      </button>\n",
              "      \n",
              "  <style>\n",
              "    .colab-df-container {\n",
              "      display:flex;\n",
              "      flex-wrap:wrap;\n",
              "      gap: 12px;\n",
              "    }\n",
              "\n",
              "    .colab-df-convert {\n",
              "      background-color: #E8F0FE;\n",
              "      border: none;\n",
              "      border-radius: 50%;\n",
              "      cursor: pointer;\n",
              "      display: none;\n",
              "      fill: #1967D2;\n",
              "      height: 32px;\n",
              "      padding: 0 0 0 0;\n",
              "      width: 32px;\n",
              "    }\n",
              "\n",
              "    .colab-df-convert:hover {\n",
              "      background-color: #E2EBFA;\n",
              "      box-shadow: 0px 1px 2px rgba(60, 64, 67, 0.3), 0px 1px 3px 1px rgba(60, 64, 67, 0.15);\n",
              "      fill: #174EA6;\n",
              "    }\n",
              "\n",
              "    [theme=dark] .colab-df-convert {\n",
              "      background-color: #3B4455;\n",
              "      fill: #D2E3FC;\n",
              "    }\n",
              "\n",
              "    [theme=dark] .colab-df-convert:hover {\n",
              "      background-color: #434B5C;\n",
              "      box-shadow: 0px 1px 3px 1px rgba(0, 0, 0, 0.15);\n",
              "      filter: drop-shadow(0px 1px 2px rgba(0, 0, 0, 0.3));\n",
              "      fill: #FFFFFF;\n",
              "    }\n",
              "  </style>\n",
              "\n",
              "      <script>\n",
              "        const buttonEl =\n",
              "          document.querySelector('#df-2f64eacc-5a5e-46ff-81ac-44e5b5349f03 button.colab-df-convert');\n",
              "        buttonEl.style.display =\n",
              "          google.colab.kernel.accessAllowed ? 'block' : 'none';\n",
              "\n",
              "        async function convertToInteractive(key) {\n",
              "          const element = document.querySelector('#df-2f64eacc-5a5e-46ff-81ac-44e5b5349f03');\n",
              "          const dataTable =\n",
              "            await google.colab.kernel.invokeFunction('convertToInteractive',\n",
              "                                                     [key], {});\n",
              "          if (!dataTable) return;\n",
              "\n",
              "          const docLinkHtml = 'Like what you see? Visit the ' +\n",
              "            '<a target=\"_blank\" href=https://colab.research.google.com/notebooks/data_table.ipynb>data table notebook</a>'\n",
              "            + ' to learn more about interactive tables.';\n",
              "          element.innerHTML = '';\n",
              "          dataTable['output_type'] = 'display_data';\n",
              "          await google.colab.output.renderOutput(dataTable, element);\n",
              "          const docLink = document.createElement('div');\n",
              "          docLink.innerHTML = docLinkHtml;\n",
              "          element.appendChild(docLink);\n",
              "        }\n",
              "      </script>\n",
              "    </div>\n",
              "  </div>\n",
              "  "
            ]
          },
          "metadata": {},
          "execution_count": 139
        }
      ]
    },
    {
      "cell_type": "code",
      "source": [],
      "metadata": {
        "id": "J8AVemhb4dka"
      },
      "execution_count": null,
      "outputs": []
    }
  ],
  "metadata": {
    "kernelspec": {
      "display_name": "Python 3",
      "language": "python",
      "name": "python3"
    },
    "language_info": {
      "codemirror_mode": {
        "name": "ipython",
        "version": 3
      },
      "file_extension": ".py",
      "mimetype": "text/x-python",
      "name": "python",
      "nbconvert_exporter": "python",
      "pygments_lexer": "ipython3",
      "version": "3.8.5"
    },
    "colab": {
      "provenance": [],
      "collapsed_sections": []
    },
    "gpuClass": "standard"
  },
  "nbformat": 4,
  "nbformat_minor": 0
}